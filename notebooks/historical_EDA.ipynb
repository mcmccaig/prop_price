{
 "cells": [
  {
   "cell_type": "markdown",
   "id": "1fc58494",
   "metadata": {},
   "source": [
    "# Historical Property Data EDA"
   ]
  },
  {
   "cell_type": "code",
   "execution_count": 1,
   "id": "0a538dec",
   "metadata": {
    "execution": {
     "iopub.execute_input": "2021-12-16T18:57:08.854003Z",
     "iopub.status.busy": "2021-12-16T18:57:08.853004Z",
     "iopub.status.idle": "2021-12-16T18:57:10.112724Z",
     "shell.execute_reply": "2021-12-16T18:57:10.112724Z",
     "shell.execute_reply.started": "2021-12-16T18:57:08.854003Z"
    }
   },
   "outputs": [],
   "source": [
    "import pandas as pd\n",
    "pd.options.mode.chained_assignment = None\n",
    "import numpy as np\n",
    "import matplotlib.pyplot as plt"
   ]
  },
  {
   "cell_type": "code",
   "execution_count": 2,
   "id": "eaec2fcc",
   "metadata": {
    "execution": {
     "iopub.execute_input": "2021-12-16T18:57:10.113688Z",
     "iopub.status.busy": "2021-12-16T18:57:10.113688Z",
     "iopub.status.idle": "2021-12-16T18:57:19.566190Z",
     "shell.execute_reply": "2021-12-16T18:57:19.566190Z",
     "shell.execute_reply.started": "2021-12-16T18:57:10.113688Z"
    }
   },
   "outputs": [
    {
     "name": "stderr",
     "output_type": "stream",
     "text": [
      "C:\\Users\\mitch\\Documents\\Data Science Side Projects\\Edmonton Property Dashboard\\prop_env\\lib\\site-packages\\IPython\\core\\interactiveshell.py:3444: DtypeWarning: Columns (2,17,19) have mixed types.Specify dtype option on import or set low_memory=False.\n",
      "  exec(code_obj, self.user_global_ns, self.user_ns)\n"
     ]
    }
   ],
   "source": [
    "house_data = pd.read_csv('../data/raw/Property_Assessment_Data__Historical_.csv')"
   ]
  },
  {
   "cell_type": "code",
   "execution_count": 3,
   "id": "be1a0db9",
   "metadata": {
    "execution": {
     "iopub.execute_input": "2021-12-16T18:57:19.568185Z",
     "iopub.status.busy": "2021-12-16T18:57:19.567187Z",
     "iopub.status.idle": "2021-12-16T18:57:19.612068Z",
     "shell.execute_reply": "2021-12-16T18:57:19.612068Z",
     "shell.execute_reply.started": "2021-12-16T18:57:19.568185Z"
    }
   },
   "outputs": [
    {
     "data": {
      "text/html": [
       "<div>\n",
       "<style scoped>\n",
       "    .dataframe tbody tr th:only-of-type {\n",
       "        vertical-align: middle;\n",
       "    }\n",
       "\n",
       "    .dataframe tbody tr th {\n",
       "        vertical-align: top;\n",
       "    }\n",
       "\n",
       "    .dataframe thead th {\n",
       "        text-align: right;\n",
       "    }\n",
       "</style>\n",
       "<table border=\"1\" class=\"dataframe\">\n",
       "  <thead>\n",
       "    <tr style=\"text-align: right;\">\n",
       "      <th></th>\n",
       "      <th>Account Number</th>\n",
       "      <th>Assessment Year</th>\n",
       "      <th>Suite</th>\n",
       "      <th>House Number</th>\n",
       "      <th>Street Name</th>\n",
       "      <th>Legal Description</th>\n",
       "      <th>Latitude</th>\n",
       "      <th>Longitude</th>\n",
       "      <th>Point Location</th>\n",
       "      <th>Neighbourhood</th>\n",
       "      <th>...</th>\n",
       "      <th>Garage</th>\n",
       "      <th>Zoning</th>\n",
       "      <th>Lot Size</th>\n",
       "      <th>Assessed Value</th>\n",
       "      <th>Assessment Class 1</th>\n",
       "      <th>Assessment Class % 1</th>\n",
       "      <th>Assessment Class 2</th>\n",
       "      <th>Assessment Class % 2</th>\n",
       "      <th>Assessment Class 3</th>\n",
       "      <th>Assessment Class % 3</th>\n",
       "    </tr>\n",
       "  </thead>\n",
       "  <tbody>\n",
       "    <tr>\n",
       "      <th>0</th>\n",
       "      <td>1068451</td>\n",
       "      <td>2015</td>\n",
       "      <td>NaN</td>\n",
       "      <td>4007.0</td>\n",
       "      <td>SAVARYN DRIVE SW</td>\n",
       "      <td>SW  22-51-24-4</td>\n",
       "      <td>NaN</td>\n",
       "      <td>NaN</td>\n",
       "      <td>NaN</td>\n",
       "      <td>SUMMERSIDE</td>\n",
       "      <td>...</td>\n",
       "      <td>N</td>\n",
       "      <td>RPL</td>\n",
       "      <td>109314.321</td>\n",
       "      <td>7597000.0</td>\n",
       "      <td>RESIDENTIAL</td>\n",
       "      <td>100.0</td>\n",
       "      <td>NaN</td>\n",
       "      <td>NaN</td>\n",
       "      <td>NaN</td>\n",
       "      <td>NaN</td>\n",
       "    </tr>\n",
       "    <tr>\n",
       "      <th>1</th>\n",
       "      <td>1152594</td>\n",
       "      <td>2012</td>\n",
       "      <td>NaN</td>\n",
       "      <td>17310.0</td>\n",
       "      <td>97 STREET NW</td>\n",
       "      <td>NaN</td>\n",
       "      <td>NaN</td>\n",
       "      <td>NaN</td>\n",
       "      <td>NaN</td>\n",
       "      <td>ELSINORE</td>\n",
       "      <td>...</td>\n",
       "      <td>N</td>\n",
       "      <td>AG</td>\n",
       "      <td>0.000</td>\n",
       "      <td>12500.0</td>\n",
       "      <td>COMMERCIAL</td>\n",
       "      <td>100.0</td>\n",
       "      <td>NaN</td>\n",
       "      <td>NaN</td>\n",
       "      <td>NaN</td>\n",
       "      <td>NaN</td>\n",
       "    </tr>\n",
       "    <tr>\n",
       "      <th>2</th>\n",
       "      <td>1153568</td>\n",
       "      <td>2012</td>\n",
       "      <td>NaN</td>\n",
       "      <td>NaN</td>\n",
       "      <td>NaN</td>\n",
       "      <td>NaN</td>\n",
       "      <td>NaN</td>\n",
       "      <td>NaN</td>\n",
       "      <td>NaN</td>\n",
       "      <td>BATTERY OIL FIELDS</td>\n",
       "      <td>...</td>\n",
       "      <td>N</td>\n",
       "      <td>AG</td>\n",
       "      <td>0.000</td>\n",
       "      <td>88000.0</td>\n",
       "      <td>COMMERCIAL</td>\n",
       "      <td>100.0</td>\n",
       "      <td>NaN</td>\n",
       "      <td>NaN</td>\n",
       "      <td>NaN</td>\n",
       "      <td>NaN</td>\n",
       "    </tr>\n",
       "    <tr>\n",
       "      <th>3</th>\n",
       "      <td>1153626</td>\n",
       "      <td>2014</td>\n",
       "      <td>NaN</td>\n",
       "      <td>NaN</td>\n",
       "      <td>NaN</td>\n",
       "      <td>NaN</td>\n",
       "      <td>NaN</td>\n",
       "      <td>NaN</td>\n",
       "      <td>NaN</td>\n",
       "      <td>BATTERY OIL FIELDS</td>\n",
       "      <td>...</td>\n",
       "      <td>N</td>\n",
       "      <td>AG</td>\n",
       "      <td>0.000</td>\n",
       "      <td>0.0</td>\n",
       "      <td>COMMERCIAL</td>\n",
       "      <td>100.0</td>\n",
       "      <td>NaN</td>\n",
       "      <td>NaN</td>\n",
       "      <td>NaN</td>\n",
       "      <td>NaN</td>\n",
       "    </tr>\n",
       "    <tr>\n",
       "      <th>4</th>\n",
       "      <td>1248590</td>\n",
       "      <td>2016</td>\n",
       "      <td>NaN</td>\n",
       "      <td>NaN</td>\n",
       "      <td>NaN</td>\n",
       "      <td>NW  3-52-25-4</td>\n",
       "      <td>NaN</td>\n",
       "      <td>NaN</td>\n",
       "      <td>NaN</td>\n",
       "      <td>TERWILLEGAR AREA</td>\n",
       "      <td>...</td>\n",
       "      <td>N</td>\n",
       "      <td>A</td>\n",
       "      <td>10000.000</td>\n",
       "      <td>49500.0</td>\n",
       "      <td>COMMERCIAL</td>\n",
       "      <td>100.0</td>\n",
       "      <td>NaN</td>\n",
       "      <td>NaN</td>\n",
       "      <td>NaN</td>\n",
       "      <td>NaN</td>\n",
       "    </tr>\n",
       "  </tbody>\n",
       "</table>\n",
       "<p>5 rows × 21 columns</p>\n",
       "</div>"
      ],
      "text/plain": [
       "   Account Number  Assessment Year Suite  House Number       Street Name  \\\n",
       "0         1068451             2015   NaN        4007.0  SAVARYN DRIVE SW   \n",
       "1         1152594             2012   NaN       17310.0      97 STREET NW   \n",
       "2         1153568             2012   NaN           NaN               NaN   \n",
       "3         1153626             2014   NaN           NaN               NaN   \n",
       "4         1248590             2016   NaN           NaN               NaN   \n",
       "\n",
       "  Legal Description  Latitude  Longitude Point Location       Neighbourhood  \\\n",
       "0    SW  22-51-24-4       NaN        NaN            NaN          SUMMERSIDE   \n",
       "1               NaN       NaN        NaN            NaN            ELSINORE   \n",
       "2               NaN       NaN        NaN            NaN  BATTERY OIL FIELDS   \n",
       "3               NaN       NaN        NaN            NaN  BATTERY OIL FIELDS   \n",
       "4     NW  3-52-25-4       NaN        NaN            NaN    TERWILLEGAR AREA   \n",
       "\n",
       "   ...  Garage Zoning    Lot Size  Assessed Value  Assessment Class 1  \\\n",
       "0  ...       N    RPL  109314.321       7597000.0         RESIDENTIAL   \n",
       "1  ...       N     AG       0.000         12500.0          COMMERCIAL   \n",
       "2  ...       N     AG       0.000         88000.0          COMMERCIAL   \n",
       "3  ...       N     AG       0.000             0.0          COMMERCIAL   \n",
       "4  ...       N      A   10000.000         49500.0          COMMERCIAL   \n",
       "\n",
       "  Assessment Class % 1  Assessment Class 2 Assessment Class % 2  \\\n",
       "0                100.0                 NaN                  NaN   \n",
       "1                100.0                 NaN                  NaN   \n",
       "2                100.0                 NaN                  NaN   \n",
       "3                100.0                 NaN                  NaN   \n",
       "4                100.0                 NaN                  NaN   \n",
       "\n",
       "   Assessment Class 3 Assessment Class % 3  \n",
       "0                 NaN                  NaN  \n",
       "1                 NaN                  NaN  \n",
       "2                 NaN                  NaN  \n",
       "3                 NaN                  NaN  \n",
       "4                 NaN                  NaN  \n",
       "\n",
       "[5 rows x 21 columns]"
      ]
     },
     "execution_count": 3,
     "metadata": {},
     "output_type": "execute_result"
    }
   ],
   "source": [
    "house_data.head()"
   ]
  },
  {
   "cell_type": "code",
   "execution_count": 4,
   "id": "e95ac110",
   "metadata": {
    "execution": {
     "iopub.execute_input": "2021-12-16T18:57:19.615059Z",
     "iopub.status.busy": "2021-12-16T18:57:19.615059Z",
     "iopub.status.idle": "2021-12-16T18:57:19.628025Z",
     "shell.execute_reply": "2021-12-16T18:57:19.627028Z",
     "shell.execute_reply.started": "2021-12-16T18:57:19.615059Z"
    }
   },
   "outputs": [
    {
     "data": {
      "text/plain": [
       "Index(['Account Number', 'Assessment Year', 'Suite', 'House Number',\n",
       "       'Street Name', 'Legal Description', 'Latitude', 'Longitude',\n",
       "       'Point Location', 'Neighbourhood', 'Actual Year Built', 'Garage',\n",
       "       'Zoning', 'Lot Size', 'Assessed Value', 'Assessment Class 1',\n",
       "       'Assessment Class % 1', 'Assessment Class 2', 'Assessment Class % 2',\n",
       "       'Assessment Class 3', 'Assessment Class % 3'],\n",
       "      dtype='object')"
      ]
     },
     "execution_count": 4,
     "metadata": {},
     "output_type": "execute_result"
    }
   ],
   "source": [
    "house_data.columns"
   ]
  },
  {
   "cell_type": "code",
   "execution_count": 5,
   "id": "6de978e4",
   "metadata": {
    "execution": {
     "iopub.execute_input": "2021-12-16T18:57:19.630020Z",
     "iopub.status.busy": "2021-12-16T18:57:19.629024Z",
     "iopub.status.idle": "2021-12-16T18:57:19.644979Z",
     "shell.execute_reply": "2021-12-16T18:57:19.642984Z",
     "shell.execute_reply.started": "2021-12-16T18:57:19.630020Z"
    }
   },
   "outputs": [
    {
     "data": {
      "text/plain": [
       "(3384820, 21)"
      ]
     },
     "execution_count": 5,
     "metadata": {},
     "output_type": "execute_result"
    }
   ],
   "source": [
    "house_data.shape"
   ]
  },
  {
   "cell_type": "code",
   "execution_count": 6,
   "id": "40a3c639",
   "metadata": {
    "execution": {
     "iopub.execute_input": "2021-12-16T18:57:19.646973Z",
     "iopub.status.busy": "2021-12-16T18:57:19.646973Z",
     "iopub.status.idle": "2021-12-16T18:57:19.735770Z",
     "shell.execute_reply": "2021-12-16T18:57:19.735770Z",
     "shell.execute_reply.started": "2021-12-16T18:57:19.646973Z"
    }
   },
   "outputs": [
    {
     "data": {
      "text/plain": [
       "False"
      ]
     },
     "execution_count": 6,
     "metadata": {},
     "output_type": "execute_result"
    }
   ],
   "source": [
    "house_data['Account Number'].is_unique"
   ]
  },
  {
   "cell_type": "markdown",
   "id": "14da16fe",
   "metadata": {},
   "source": [
    "Some properties have multiple assessments"
   ]
  },
  {
   "cell_type": "code",
   "execution_count": 7,
   "id": "19f8b2e5",
   "metadata": {
    "execution": {
     "iopub.execute_input": "2021-12-16T18:57:19.737731Z",
     "iopub.status.busy": "2021-12-16T18:57:19.736734Z",
     "iopub.status.idle": "2021-12-16T18:57:19.940221Z",
     "shell.execute_reply": "2021-12-16T18:57:19.940221Z",
     "shell.execute_reply.started": "2021-12-16T18:57:19.737731Z"
    }
   },
   "outputs": [
    {
     "data": {
      "text/plain": [
       "array(['RESIDENTIAL', 'COMMERCIAL', nan, 'FARMLAND', 'OTHER RESIDENTIAL',\n",
       "       'NONRES MUNICIPAL/RES EDUCATION'], dtype=object)"
      ]
     },
     "execution_count": 7,
     "metadata": {},
     "output_type": "execute_result"
    }
   ],
   "source": [
    "house_data['Assessment Class 1'].unique()"
   ]
  },
  {
   "cell_type": "code",
   "execution_count": 8,
   "id": "6d921f50",
   "metadata": {
    "execution": {
     "iopub.execute_input": "2021-12-16T18:57:19.941186Z",
     "iopub.status.busy": "2021-12-16T18:57:19.941186Z",
     "iopub.status.idle": "2021-12-16T18:57:20.066850Z",
     "shell.execute_reply": "2021-12-16T18:57:20.065887Z",
     "shell.execute_reply.started": "2021-12-16T18:57:19.941186Z"
    }
   },
   "outputs": [
    {
     "data": {
      "text/plain": [
       "array([nan, 'RESIDENTIAL', 'FARMLAND', 'COMMERCIAL', 'OTHER RESIDENTIAL',\n",
       "       'NONRES MUNICIPAL/RES EDUCATION'], dtype=object)"
      ]
     },
     "execution_count": 8,
     "metadata": {},
     "output_type": "execute_result"
    }
   ],
   "source": [
    "house_data['Assessment Class 2'].unique()"
   ]
  },
  {
   "cell_type": "code",
   "execution_count": 9,
   "id": "76420c18",
   "metadata": {
    "execution": {
     "iopub.execute_input": "2021-12-16T18:57:20.067849Z",
     "iopub.status.busy": "2021-12-16T18:57:20.067849Z",
     "iopub.status.idle": "2021-12-16T18:57:20.222434Z",
     "shell.execute_reply": "2021-12-16T18:57:20.222434Z",
     "shell.execute_reply.started": "2021-12-16T18:57:20.067849Z"
    }
   },
   "outputs": [
    {
     "data": {
      "text/plain": [
       "array([nan, 'FARMLAND', 'COMMERCIAL', 'RESIDENTIAL', 'OTHER RESIDENTIAL',\n",
       "       'NONRES MUNICIPAL/RES EDUCATION'], dtype=object)"
      ]
     },
     "execution_count": 9,
     "metadata": {},
     "output_type": "execute_result"
    }
   ],
   "source": [
    "house_data['Assessment Class 3'].unique()"
   ]
  },
  {
   "cell_type": "code",
   "execution_count": 10,
   "id": "5a3170fc",
   "metadata": {
    "execution": {
     "iopub.execute_input": "2021-12-16T18:57:20.226424Z",
     "iopub.status.busy": "2021-12-16T18:57:20.225426Z",
     "iopub.status.idle": "2021-12-16T18:57:20.393011Z",
     "shell.execute_reply": "2021-12-16T18:57:20.393011Z",
     "shell.execute_reply.started": "2021-12-16T18:57:20.226424Z"
    }
   },
   "outputs": [
    {
     "data": {
      "text/html": [
       "<div>\n",
       "<style scoped>\n",
       "    .dataframe tbody tr th:only-of-type {\n",
       "        vertical-align: middle;\n",
       "    }\n",
       "\n",
       "    .dataframe tbody tr th {\n",
       "        vertical-align: top;\n",
       "    }\n",
       "\n",
       "    .dataframe thead th {\n",
       "        text-align: right;\n",
       "    }\n",
       "</style>\n",
       "<table border=\"1\" class=\"dataframe\">\n",
       "  <thead>\n",
       "    <tr style=\"text-align: right;\">\n",
       "      <th></th>\n",
       "      <th>Account Number</th>\n",
       "      <th>Assessment Year</th>\n",
       "      <th>Suite</th>\n",
       "      <th>House Number</th>\n",
       "      <th>Street Name</th>\n",
       "      <th>Legal Description</th>\n",
       "      <th>Latitude</th>\n",
       "      <th>Longitude</th>\n",
       "      <th>Point Location</th>\n",
       "      <th>Neighbourhood</th>\n",
       "      <th>...</th>\n",
       "      <th>Garage</th>\n",
       "      <th>Zoning</th>\n",
       "      <th>Lot Size</th>\n",
       "      <th>Assessed Value</th>\n",
       "      <th>Assessment Class 1</th>\n",
       "      <th>Assessment Class % 1</th>\n",
       "      <th>Assessment Class 2</th>\n",
       "      <th>Assessment Class % 2</th>\n",
       "      <th>Assessment Class 3</th>\n",
       "      <th>Assessment Class % 3</th>\n",
       "    </tr>\n",
       "  </thead>\n",
       "  <tbody>\n",
       "    <tr>\n",
       "      <th>718</th>\n",
       "      <td>1008770</td>\n",
       "      <td>2015</td>\n",
       "      <td>NaN</td>\n",
       "      <td>10640.0</td>\n",
       "      <td>180 STREET NW</td>\n",
       "      <td>Plan: 7214KS  Lot: 2</td>\n",
       "      <td>53.55080</td>\n",
       "      <td>-113.63436</td>\n",
       "      <td>POINT (-113.63436 53.5508)</td>\n",
       "      <td>WILSON INDUSTRIAL</td>\n",
       "      <td>...</td>\n",
       "      <td>N</td>\n",
       "      <td>IM</td>\n",
       "      <td>64683.449</td>\n",
       "      <td>1779000.0</td>\n",
       "      <td>COMMERCIAL</td>\n",
       "      <td>1.0</td>\n",
       "      <td>RESIDENTIAL</td>\n",
       "      <td>99.0</td>\n",
       "      <td>NaN</td>\n",
       "      <td>NaN</td>\n",
       "    </tr>\n",
       "    <tr>\n",
       "      <th>807</th>\n",
       "      <td>1001544</td>\n",
       "      <td>2013</td>\n",
       "      <td>NaN</td>\n",
       "      <td>2703.0</td>\n",
       "      <td>184 STREET NW</td>\n",
       "      <td>SE  4-52-25-4</td>\n",
       "      <td>53.45936</td>\n",
       "      <td>-113.62259</td>\n",
       "      <td>POINT (-113.62259 53.45936)</td>\n",
       "      <td>RURAL WEST</td>\n",
       "      <td>...</td>\n",
       "      <td>N</td>\n",
       "      <td>A</td>\n",
       "      <td>212866.582</td>\n",
       "      <td>552000.0</td>\n",
       "      <td>RESIDENTIAL</td>\n",
       "      <td>99.0</td>\n",
       "      <td>FARMLAND</td>\n",
       "      <td>1.0</td>\n",
       "      <td>NaN</td>\n",
       "      <td>NaN</td>\n",
       "    </tr>\n",
       "    <tr>\n",
       "      <th>2272</th>\n",
       "      <td>1002294</td>\n",
       "      <td>2013</td>\n",
       "      <td>NaN</td>\n",
       "      <td>2304.0</td>\n",
       "      <td>184 STREET NW</td>\n",
       "      <td>SE  5-52-25-4</td>\n",
       "      <td>53.45754</td>\n",
       "      <td>-113.64299</td>\n",
       "      <td>POINT (-113.64299 53.45754)</td>\n",
       "      <td>RURAL WEST</td>\n",
       "      <td>...</td>\n",
       "      <td>N</td>\n",
       "      <td>AG</td>\n",
       "      <td>303777.470</td>\n",
       "      <td>96500.0</td>\n",
       "      <td>RESIDENTIAL</td>\n",
       "      <td>24.0</td>\n",
       "      <td>FARMLAND</td>\n",
       "      <td>76.0</td>\n",
       "      <td>NaN</td>\n",
       "      <td>NaN</td>\n",
       "    </tr>\n",
       "    <tr>\n",
       "      <th>3511</th>\n",
       "      <td>1002328</td>\n",
       "      <td>2019</td>\n",
       "      <td>NaN</td>\n",
       "      <td>18904.0</td>\n",
       "      <td>23 AVENUE NW</td>\n",
       "      <td>SE  5-52-25-4</td>\n",
       "      <td>53.45754</td>\n",
       "      <td>-113.64905</td>\n",
       "      <td>POINT (-113.64905 53.45754)</td>\n",
       "      <td>THE UPLANDS</td>\n",
       "      <td>...</td>\n",
       "      <td>N</td>\n",
       "      <td>AG</td>\n",
       "      <td>303770.525</td>\n",
       "      <td>2159000.0</td>\n",
       "      <td>RESIDENTIAL</td>\n",
       "      <td>99.0</td>\n",
       "      <td>FARMLAND</td>\n",
       "      <td>1.0</td>\n",
       "      <td>NaN</td>\n",
       "      <td>NaN</td>\n",
       "    </tr>\n",
       "    <tr>\n",
       "      <th>3543</th>\n",
       "      <td>1001361</td>\n",
       "      <td>2012</td>\n",
       "      <td>NaN</td>\n",
       "      <td>2005.0</td>\n",
       "      <td>184 STREET NW</td>\n",
       "      <td>NE  33-51-25-4 / NW  33-51-25-4</td>\n",
       "      <td>53.45081</td>\n",
       "      <td>-113.63449</td>\n",
       "      <td>POINT (-113.63449 53.45081)</td>\n",
       "      <td>RURAL WEST</td>\n",
       "      <td>...</td>\n",
       "      <td>N</td>\n",
       "      <td>AG</td>\n",
       "      <td>383887.175</td>\n",
       "      <td>760500.0</td>\n",
       "      <td>RESIDENTIAL</td>\n",
       "      <td>92.0</td>\n",
       "      <td>FARMLAND</td>\n",
       "      <td>8.0</td>\n",
       "      <td>NaN</td>\n",
       "      <td>NaN</td>\n",
       "    </tr>\n",
       "    <tr>\n",
       "      <th>...</th>\n",
       "      <td>...</td>\n",
       "      <td>...</td>\n",
       "      <td>...</td>\n",
       "      <td>...</td>\n",
       "      <td>...</td>\n",
       "      <td>...</td>\n",
       "      <td>...</td>\n",
       "      <td>...</td>\n",
       "      <td>...</td>\n",
       "      <td>...</td>\n",
       "      <td>...</td>\n",
       "      <td>...</td>\n",
       "      <td>...</td>\n",
       "      <td>...</td>\n",
       "      <td>...</td>\n",
       "      <td>...</td>\n",
       "      <td>...</td>\n",
       "      <td>...</td>\n",
       "      <td>...</td>\n",
       "      <td>...</td>\n",
       "      <td>...</td>\n",
       "    </tr>\n",
       "    <tr>\n",
       "      <th>3382038</th>\n",
       "      <td>10945385</td>\n",
       "      <td>2020</td>\n",
       "      <td>NaN</td>\n",
       "      <td>310.0</td>\n",
       "      <td>PARSONS ROAD SW</td>\n",
       "      <td>Plan: 1922859  Block: 2  Lot: 2</td>\n",
       "      <td>53.43101</td>\n",
       "      <td>-113.48145</td>\n",
       "      <td>POINT (-113.48145 53.43101)</td>\n",
       "      <td>ELLERSLIE INDUSTRIAL</td>\n",
       "      <td>...</td>\n",
       "      <td>N</td>\n",
       "      <td>EIB</td>\n",
       "      <td>21460.293</td>\n",
       "      <td>2436500.0</td>\n",
       "      <td>COMMERCIAL</td>\n",
       "      <td>76.0</td>\n",
       "      <td>FARMLAND</td>\n",
       "      <td>23.0</td>\n",
       "      <td>FARMLAND</td>\n",
       "      <td>1.0</td>\n",
       "    </tr>\n",
       "    <tr>\n",
       "      <th>3382764</th>\n",
       "      <td>10945386</td>\n",
       "      <td>2020</td>\n",
       "      <td>NaN</td>\n",
       "      <td>420.0</td>\n",
       "      <td>PARSONS ROAD SW</td>\n",
       "      <td>Plan: 1922859  Block: 2  Lot: 3</td>\n",
       "      <td>53.42993</td>\n",
       "      <td>-113.48149</td>\n",
       "      <td>POINT (-113.48149 53.42993)</td>\n",
       "      <td>ELLERSLIE INDUSTRIAL</td>\n",
       "      <td>...</td>\n",
       "      <td>N</td>\n",
       "      <td>EIB</td>\n",
       "      <td>15775.722</td>\n",
       "      <td>2436000.0</td>\n",
       "      <td>COMMERCIAL</td>\n",
       "      <td>68.0</td>\n",
       "      <td>FARMLAND</td>\n",
       "      <td>31.0</td>\n",
       "      <td>FARMLAND</td>\n",
       "      <td>1.0</td>\n",
       "    </tr>\n",
       "    <tr>\n",
       "      <th>3382790</th>\n",
       "      <td>10931838</td>\n",
       "      <td>2020</td>\n",
       "      <td>NaN</td>\n",
       "      <td>51012.0</td>\n",
       "      <td>HIGHWAY 2 SERVICE ROAD 2 SW</td>\n",
       "      <td>NaN</td>\n",
       "      <td>53.36892</td>\n",
       "      <td>-113.53245</td>\n",
       "      <td>POINT (-113.53245 53.36892)</td>\n",
       "      <td>EDMONTON SOUTH CENTRAL</td>\n",
       "      <td>...</td>\n",
       "      <td>Y</td>\n",
       "      <td>AES</td>\n",
       "      <td>156856.467</td>\n",
       "      <td>660500.0</td>\n",
       "      <td>RESIDENTIAL</td>\n",
       "      <td>93.0</td>\n",
       "      <td>COMMERCIAL</td>\n",
       "      <td>4.0</td>\n",
       "      <td>FARMLAND</td>\n",
       "      <td>2.0</td>\n",
       "    </tr>\n",
       "    <tr>\n",
       "      <th>3383112</th>\n",
       "      <td>10928855</td>\n",
       "      <td>2020</td>\n",
       "      <td>NaN</td>\n",
       "      <td>6415.0</td>\n",
       "      <td>200 STREET SW</td>\n",
       "      <td>Plan: 1920354  Block: 1  Lot: 5</td>\n",
       "      <td>53.37485</td>\n",
       "      <td>-113.66125</td>\n",
       "      <td>POINT (-113.66125 53.37485)</td>\n",
       "      <td>EDMONTON SOUTH WEST</td>\n",
       "      <td>...</td>\n",
       "      <td>Y</td>\n",
       "      <td>AES</td>\n",
       "      <td>50029.309</td>\n",
       "      <td>512500.0</td>\n",
       "      <td>RESIDENTIAL</td>\n",
       "      <td>99.0</td>\n",
       "      <td>FARMLAND</td>\n",
       "      <td>1.0</td>\n",
       "      <td>NaN</td>\n",
       "      <td>NaN</td>\n",
       "    </tr>\n",
       "    <tr>\n",
       "      <th>3384610</th>\n",
       "      <td>10951325</td>\n",
       "      <td>2020</td>\n",
       "      <td>NaN</td>\n",
       "      <td>10615.0</td>\n",
       "      <td>82 AVENUE NW</td>\n",
       "      <td>Plan: I  Block: 64  Lot: 5 / Plan: I  Block: 6...</td>\n",
       "      <td>53.51777</td>\n",
       "      <td>-113.50424</td>\n",
       "      <td>POINT (-113.50424 53.51777)</td>\n",
       "      <td>QUEEN ALEXANDRA</td>\n",
       "      <td>...</td>\n",
       "      <td>N</td>\n",
       "      <td>DC1</td>\n",
       "      <td>3234.367</td>\n",
       "      <td>7886500.0</td>\n",
       "      <td>OTHER RESIDENTIAL</td>\n",
       "      <td>80.0</td>\n",
       "      <td>COMMERCIAL</td>\n",
       "      <td>20.0</td>\n",
       "      <td>NaN</td>\n",
       "      <td>NaN</td>\n",
       "    </tr>\n",
       "  </tbody>\n",
       "</table>\n",
       "<p>8437 rows × 21 columns</p>\n",
       "</div>"
      ],
      "text/plain": [
       "         Account Number  Assessment Year Suite  House Number  \\\n",
       "718             1008770             2015   NaN       10640.0   \n",
       "807             1001544             2013   NaN        2703.0   \n",
       "2272            1002294             2013   NaN        2304.0   \n",
       "3511            1002328             2019   NaN       18904.0   \n",
       "3543            1001361             2012   NaN        2005.0   \n",
       "...                 ...              ...   ...           ...   \n",
       "3382038        10945385             2020   NaN         310.0   \n",
       "3382764        10945386             2020   NaN         420.0   \n",
       "3382790        10931838             2020   NaN       51012.0   \n",
       "3383112        10928855             2020   NaN        6415.0   \n",
       "3384610        10951325             2020   NaN       10615.0   \n",
       "\n",
       "                         Street Name  \\\n",
       "718                    180 STREET NW   \n",
       "807                    184 STREET NW   \n",
       "2272                   184 STREET NW   \n",
       "3511                    23 AVENUE NW   \n",
       "3543                   184 STREET NW   \n",
       "...                              ...   \n",
       "3382038              PARSONS ROAD SW   \n",
       "3382764              PARSONS ROAD SW   \n",
       "3382790  HIGHWAY 2 SERVICE ROAD 2 SW   \n",
       "3383112                200 STREET SW   \n",
       "3384610                 82 AVENUE NW   \n",
       "\n",
       "                                         Legal Description  Latitude  \\\n",
       "718                                   Plan: 7214KS  Lot: 2  53.55080   \n",
       "807                                          SE  4-52-25-4  53.45936   \n",
       "2272                                         SE  5-52-25-4  53.45754   \n",
       "3511                                         SE  5-52-25-4  53.45754   \n",
       "3543                       NE  33-51-25-4 / NW  33-51-25-4  53.45081   \n",
       "...                                                    ...       ...   \n",
       "3382038                    Plan: 1922859  Block: 2  Lot: 2  53.43101   \n",
       "3382764                    Plan: 1922859  Block: 2  Lot: 3  53.42993   \n",
       "3382790                                                NaN  53.36892   \n",
       "3383112                    Plan: 1920354  Block: 1  Lot: 5  53.37485   \n",
       "3384610  Plan: I  Block: 64  Lot: 5 / Plan: I  Block: 6...  53.51777   \n",
       "\n",
       "         Longitude               Point Location           Neighbourhood  ...  \\\n",
       "718     -113.63436   POINT (-113.63436 53.5508)       WILSON INDUSTRIAL  ...   \n",
       "807     -113.62259  POINT (-113.62259 53.45936)              RURAL WEST  ...   \n",
       "2272    -113.64299  POINT (-113.64299 53.45754)              RURAL WEST  ...   \n",
       "3511    -113.64905  POINT (-113.64905 53.45754)             THE UPLANDS  ...   \n",
       "3543    -113.63449  POINT (-113.63449 53.45081)              RURAL WEST  ...   \n",
       "...            ...                          ...                     ...  ...   \n",
       "3382038 -113.48145  POINT (-113.48145 53.43101)    ELLERSLIE INDUSTRIAL  ...   \n",
       "3382764 -113.48149  POINT (-113.48149 53.42993)    ELLERSLIE INDUSTRIAL  ...   \n",
       "3382790 -113.53245  POINT (-113.53245 53.36892)  EDMONTON SOUTH CENTRAL  ...   \n",
       "3383112 -113.66125  POINT (-113.66125 53.37485)     EDMONTON SOUTH WEST  ...   \n",
       "3384610 -113.50424  POINT (-113.50424 53.51777)         QUEEN ALEXANDRA  ...   \n",
       "\n",
       "         Garage Zoning    Lot Size  Assessed Value  Assessment Class 1  \\\n",
       "718           N     IM   64683.449       1779000.0          COMMERCIAL   \n",
       "807           N      A  212866.582        552000.0         RESIDENTIAL   \n",
       "2272          N     AG  303777.470         96500.0         RESIDENTIAL   \n",
       "3511          N     AG  303770.525       2159000.0         RESIDENTIAL   \n",
       "3543          N     AG  383887.175        760500.0         RESIDENTIAL   \n",
       "...         ...    ...         ...             ...                 ...   \n",
       "3382038       N    EIB   21460.293       2436500.0          COMMERCIAL   \n",
       "3382764       N    EIB   15775.722       2436000.0          COMMERCIAL   \n",
       "3382790       Y    AES  156856.467        660500.0         RESIDENTIAL   \n",
       "3383112       Y    AES   50029.309        512500.0         RESIDENTIAL   \n",
       "3384610       N    DC1    3234.367       7886500.0   OTHER RESIDENTIAL   \n",
       "\n",
       "        Assessment Class % 1  Assessment Class 2 Assessment Class % 2  \\\n",
       "718                      1.0         RESIDENTIAL                 99.0   \n",
       "807                     99.0            FARMLAND                  1.0   \n",
       "2272                    24.0            FARMLAND                 76.0   \n",
       "3511                    99.0            FARMLAND                  1.0   \n",
       "3543                    92.0            FARMLAND                  8.0   \n",
       "...                      ...                 ...                  ...   \n",
       "3382038                 76.0            FARMLAND                 23.0   \n",
       "3382764                 68.0            FARMLAND                 31.0   \n",
       "3382790                 93.0          COMMERCIAL                  4.0   \n",
       "3383112                 99.0            FARMLAND                  1.0   \n",
       "3384610                 80.0          COMMERCIAL                 20.0   \n",
       "\n",
       "         Assessment Class 3 Assessment Class % 3  \n",
       "718                     NaN                  NaN  \n",
       "807                     NaN                  NaN  \n",
       "2272                    NaN                  NaN  \n",
       "3511                    NaN                  NaN  \n",
       "3543                    NaN                  NaN  \n",
       "...                     ...                  ...  \n",
       "3382038            FARMLAND                  1.0  \n",
       "3382764            FARMLAND                  1.0  \n",
       "3382790            FARMLAND                  2.0  \n",
       "3383112                 NaN                  NaN  \n",
       "3384610                 NaN                  NaN  \n",
       "\n",
       "[8437 rows x 21 columns]"
      ]
     },
     "execution_count": 10,
     "metadata": {},
     "output_type": "execute_result"
    }
   ],
   "source": [
    "house_data[~house_data['Assessment Class 2'].isna()]"
   ]
  },
  {
   "cell_type": "markdown",
   "id": "0635c472",
   "metadata": {},
   "source": [
    "Assessment class looks to classify if the property is a certain type of property (residential, commercial, etc.). Some properties can consist of multiple classes (eg. an apartment building with businesses on the main floor).\n",
    "\n",
    "For this project, I will only be focused only on residential properties."
   ]
  },
  {
   "cell_type": "markdown",
   "id": "fd927243-4fcd-4aff-9469-1610c117d3ee",
   "metadata": {},
   "source": [
    "## Residential Clean Up"
   ]
  },
  {
   "cell_type": "code",
   "execution_count": 11,
   "id": "19a6f1f3",
   "metadata": {
    "execution": {
     "iopub.execute_input": "2021-12-16T18:57:20.394011Z",
     "iopub.status.busy": "2021-12-16T18:57:20.394011Z",
     "iopub.status.idle": "2021-12-16T18:57:21.017884Z",
     "shell.execute_reply": "2021-12-16T18:57:21.017884Z",
     "shell.execute_reply.started": "2021-12-16T18:57:20.394011Z"
    }
   },
   "outputs": [],
   "source": [
    "resi_house_data = house_data[(house_data['Assessment Class 1'] == 'RESIDENTIAL') & (house_data['Assessment Class % 1'] == 100)]"
   ]
  },
  {
   "cell_type": "code",
   "execution_count": 12,
   "id": "2e41146e",
   "metadata": {
    "execution": {
     "iopub.execute_input": "2021-12-16T18:57:21.018893Z",
     "iopub.status.busy": "2021-12-16T18:57:21.018893Z",
     "iopub.status.idle": "2021-12-16T18:57:22.847237Z",
     "shell.execute_reply": "2021-12-16T18:57:22.846240Z",
     "shell.execute_reply.started": "2021-12-16T18:57:21.018893Z"
    }
   },
   "outputs": [
    {
     "data": {
      "text/html": [
       "<div>\n",
       "<style scoped>\n",
       "    .dataframe tbody tr th:only-of-type {\n",
       "        vertical-align: middle;\n",
       "    }\n",
       "\n",
       "    .dataframe tbody tr th {\n",
       "        vertical-align: top;\n",
       "    }\n",
       "\n",
       "    .dataframe thead th {\n",
       "        text-align: right;\n",
       "    }\n",
       "</style>\n",
       "<table border=\"1\" class=\"dataframe\">\n",
       "  <thead>\n",
       "    <tr style=\"text-align: right;\">\n",
       "      <th></th>\n",
       "      <th>Account Number</th>\n",
       "      <th>Assessment Year</th>\n",
       "      <th>Suite</th>\n",
       "      <th>House Number</th>\n",
       "      <th>Street Name</th>\n",
       "      <th>Legal Description</th>\n",
       "      <th>Latitude</th>\n",
       "      <th>Longitude</th>\n",
       "      <th>Point Location</th>\n",
       "      <th>Neighbourhood</th>\n",
       "      <th>...</th>\n",
       "      <th>Garage</th>\n",
       "      <th>Zoning</th>\n",
       "      <th>Lot Size</th>\n",
       "      <th>Assessed Value</th>\n",
       "      <th>Assessment Class 1</th>\n",
       "      <th>Assessment Class % 1</th>\n",
       "      <th>Assessment Class 2</th>\n",
       "      <th>Assessment Class % 2</th>\n",
       "      <th>Assessment Class 3</th>\n",
       "      <th>Assessment Class % 3</th>\n",
       "    </tr>\n",
       "  </thead>\n",
       "  <tbody>\n",
       "    <tr>\n",
       "      <th>0</th>\n",
       "      <td>1068451</td>\n",
       "      <td>2015</td>\n",
       "      <td>NaN</td>\n",
       "      <td>4007.0</td>\n",
       "      <td>SAVARYN DRIVE SW</td>\n",
       "      <td>SW  22-51-24-4</td>\n",
       "      <td>NaN</td>\n",
       "      <td>NaN</td>\n",
       "      <td>NaN</td>\n",
       "      <td>SUMMERSIDE</td>\n",
       "      <td>...</td>\n",
       "      <td>N</td>\n",
       "      <td>RPL</td>\n",
       "      <td>109314.321</td>\n",
       "      <td>7597000.0</td>\n",
       "      <td>RESIDENTIAL</td>\n",
       "      <td>100.0</td>\n",
       "      <td>NaN</td>\n",
       "      <td>NaN</td>\n",
       "      <td>NaN</td>\n",
       "      <td>NaN</td>\n",
       "    </tr>\n",
       "    <tr>\n",
       "      <th>7</th>\n",
       "      <td>1650860</td>\n",
       "      <td>2014</td>\n",
       "      <td>NaN</td>\n",
       "      <td>NaN</td>\n",
       "      <td>NaN</td>\n",
       "      <td>Plan: 3782RS  Block: 1  Lot: 30U</td>\n",
       "      <td>53.51545</td>\n",
       "      <td>-113.61627</td>\n",
       "      <td>POINT (-113.61627 53.51545)</td>\n",
       "      <td>THORNCLIFF</td>\n",
       "      <td>...</td>\n",
       "      <td>N</td>\n",
       "      <td>RF1</td>\n",
       "      <td>118.072</td>\n",
       "      <td>0.0</td>\n",
       "      <td>RESIDENTIAL</td>\n",
       "      <td>100.0</td>\n",
       "      <td>NaN</td>\n",
       "      <td>NaN</td>\n",
       "      <td>NaN</td>\n",
       "      <td>NaN</td>\n",
       "    </tr>\n",
       "    <tr>\n",
       "      <th>9</th>\n",
       "      <td>2914836</td>\n",
       "      <td>2018</td>\n",
       "      <td>NaN</td>\n",
       "      <td>13004.0</td>\n",
       "      <td>115 AVENUE NW</td>\n",
       "      <td>Plan: 1568HW  Block: 4  Lot: 21</td>\n",
       "      <td>NaN</td>\n",
       "      <td>NaN</td>\n",
       "      <td>NaN</td>\n",
       "      <td>INGLEWOOD</td>\n",
       "      <td>...</td>\n",
       "      <td>Y</td>\n",
       "      <td>RF3</td>\n",
       "      <td>490.277</td>\n",
       "      <td>358500.0</td>\n",
       "      <td>RESIDENTIAL</td>\n",
       "      <td>100.0</td>\n",
       "      <td>NaN</td>\n",
       "      <td>NaN</td>\n",
       "      <td>NaN</td>\n",
       "      <td>NaN</td>\n",
       "    </tr>\n",
       "    <tr>\n",
       "      <th>14</th>\n",
       "      <td>3169893</td>\n",
       "      <td>2019</td>\n",
       "      <td>NaN</td>\n",
       "      <td>2503.0</td>\n",
       "      <td>101 STREET SW</td>\n",
       "      <td>Plan: 8721140  Block: E</td>\n",
       "      <td>NaN</td>\n",
       "      <td>NaN</td>\n",
       "      <td>NaN</td>\n",
       "      <td>ELLERSLIE INDUSTRIAL</td>\n",
       "      <td>...</td>\n",
       "      <td>N</td>\n",
       "      <td>AGI</td>\n",
       "      <td>49452.501</td>\n",
       "      <td>244500.0</td>\n",
       "      <td>RESIDENTIAL</td>\n",
       "      <td>100.0</td>\n",
       "      <td>NaN</td>\n",
       "      <td>NaN</td>\n",
       "      <td>NaN</td>\n",
       "      <td>NaN</td>\n",
       "    </tr>\n",
       "    <tr>\n",
       "      <th>28</th>\n",
       "      <td>9947689</td>\n",
       "      <td>2013</td>\n",
       "      <td>NaN</td>\n",
       "      <td>35.0</td>\n",
       "      <td>ELSINORE PLACE NW</td>\n",
       "      <td>NE  5-54-24-4</td>\n",
       "      <td>NaN</td>\n",
       "      <td>NaN</td>\n",
       "      <td>NaN</td>\n",
       "      <td>ELSINORE</td>\n",
       "      <td>...</td>\n",
       "      <td>N</td>\n",
       "      <td>RF1</td>\n",
       "      <td>711.319</td>\n",
       "      <td>55500.0</td>\n",
       "      <td>RESIDENTIAL</td>\n",
       "      <td>100.0</td>\n",
       "      <td>NaN</td>\n",
       "      <td>NaN</td>\n",
       "      <td>NaN</td>\n",
       "      <td>NaN</td>\n",
       "    </tr>\n",
       "    <tr>\n",
       "      <th>...</th>\n",
       "      <td>...</td>\n",
       "      <td>...</td>\n",
       "      <td>...</td>\n",
       "      <td>...</td>\n",
       "      <td>...</td>\n",
       "      <td>...</td>\n",
       "      <td>...</td>\n",
       "      <td>...</td>\n",
       "      <td>...</td>\n",
       "      <td>...</td>\n",
       "      <td>...</td>\n",
       "      <td>...</td>\n",
       "      <td>...</td>\n",
       "      <td>...</td>\n",
       "      <td>...</td>\n",
       "      <td>...</td>\n",
       "      <td>...</td>\n",
       "      <td>...</td>\n",
       "      <td>...</td>\n",
       "      <td>...</td>\n",
       "      <td>...</td>\n",
       "    </tr>\n",
       "    <tr>\n",
       "      <th>3384813</th>\n",
       "      <td>10937630</td>\n",
       "      <td>2020</td>\n",
       "      <td>NaN</td>\n",
       "      <td>3703.0</td>\n",
       "      <td>2 STREET NW</td>\n",
       "      <td>Plan: 1922185  Block: 6  Lot: 4</td>\n",
       "      <td>53.47286</td>\n",
       "      <td>-113.34529</td>\n",
       "      <td>POINT (-113.34529 53.47286)</td>\n",
       "      <td>MAPLE</td>\n",
       "      <td>...</td>\n",
       "      <td>N</td>\n",
       "      <td>RMD</td>\n",
       "      <td>334.741</td>\n",
       "      <td>74500.0</td>\n",
       "      <td>RESIDENTIAL</td>\n",
       "      <td>100.0</td>\n",
       "      <td>NaN</td>\n",
       "      <td>NaN</td>\n",
       "      <td>NaN</td>\n",
       "      <td>NaN</td>\n",
       "    </tr>\n",
       "    <tr>\n",
       "      <th>3384814</th>\n",
       "      <td>10961829</td>\n",
       "      <td>2020</td>\n",
       "      <td>43</td>\n",
       "      <td>1391.0</td>\n",
       "      <td>STARLING DRIVE NW</td>\n",
       "      <td>Plan: 1621919  Unit: 56</td>\n",
       "      <td>53.59888</td>\n",
       "      <td>-113.65292</td>\n",
       "      <td>POINT (-113.65292 53.59888)</td>\n",
       "      <td>STARLING</td>\n",
       "      <td>...</td>\n",
       "      <td>Y</td>\n",
       "      <td>RA7</td>\n",
       "      <td>205.444</td>\n",
       "      <td>281500.0</td>\n",
       "      <td>RESIDENTIAL</td>\n",
       "      <td>100.0</td>\n",
       "      <td>NaN</td>\n",
       "      <td>NaN</td>\n",
       "      <td>NaN</td>\n",
       "      <td>NaN</td>\n",
       "    </tr>\n",
       "    <tr>\n",
       "      <th>3384816</th>\n",
       "      <td>10954527</td>\n",
       "      <td>2020</td>\n",
       "      <td>NaN</td>\n",
       "      <td>NaN</td>\n",
       "      <td>NaN</td>\n",
       "      <td>Plan: 1923211  Unit: 87A</td>\n",
       "      <td>53.51841</td>\n",
       "      <td>-113.50710</td>\n",
       "      <td>POINT (-113.5071 53.51841)</td>\n",
       "      <td>GARNEAU</td>\n",
       "      <td>...</td>\n",
       "      <td>N</td>\n",
       "      <td>DC1</td>\n",
       "      <td>5.849</td>\n",
       "      <td>10000.0</td>\n",
       "      <td>RESIDENTIAL</td>\n",
       "      <td>100.0</td>\n",
       "      <td>NaN</td>\n",
       "      <td>NaN</td>\n",
       "      <td>NaN</td>\n",
       "      <td>NaN</td>\n",
       "    </tr>\n",
       "    <tr>\n",
       "      <th>3384817</th>\n",
       "      <td>10954448</td>\n",
       "      <td>2020</td>\n",
       "      <td>116</td>\n",
       "      <td>10728.0</td>\n",
       "      <td>82 AVENUE NW</td>\n",
       "      <td>Plan: 1923211  Unit: 7A</td>\n",
       "      <td>53.51841</td>\n",
       "      <td>-113.50710</td>\n",
       "      <td>POINT (-113.5071 53.51841)</td>\n",
       "      <td>GARNEAU</td>\n",
       "      <td>...</td>\n",
       "      <td>N</td>\n",
       "      <td>DC1</td>\n",
       "      <td>63.649</td>\n",
       "      <td>408000.0</td>\n",
       "      <td>RESIDENTIAL</td>\n",
       "      <td>100.0</td>\n",
       "      <td>NaN</td>\n",
       "      <td>NaN</td>\n",
       "      <td>NaN</td>\n",
       "      <td>NaN</td>\n",
       "    </tr>\n",
       "    <tr>\n",
       "      <th>3384819</th>\n",
       "      <td>10943939</td>\n",
       "      <td>2020</td>\n",
       "      <td>NaN</td>\n",
       "      <td>5242.0</td>\n",
       "      <td>23 AVENUE SW</td>\n",
       "      <td>Plan: 1922598  Block: 11  Lot: 33</td>\n",
       "      <td>53.41254</td>\n",
       "      <td>-113.42280</td>\n",
       "      <td>POINT (-113.4228 53.41254)</td>\n",
       "      <td>WALKER</td>\n",
       "      <td>...</td>\n",
       "      <td>N</td>\n",
       "      <td>DC1</td>\n",
       "      <td>340.353</td>\n",
       "      <td>146500.0</td>\n",
       "      <td>RESIDENTIAL</td>\n",
       "      <td>100.0</td>\n",
       "      <td>NaN</td>\n",
       "      <td>NaN</td>\n",
       "      <td>NaN</td>\n",
       "      <td>NaN</td>\n",
       "    </tr>\n",
       "  </tbody>\n",
       "</table>\n",
       "<p>3159043 rows × 21 columns</p>\n",
       "</div>"
      ],
      "text/plain": [
       "         Account Number  Assessment Year Suite  House Number  \\\n",
       "0               1068451             2015   NaN        4007.0   \n",
       "7               1650860             2014   NaN           NaN   \n",
       "9               2914836             2018   NaN       13004.0   \n",
       "14              3169893             2019   NaN        2503.0   \n",
       "28              9947689             2013   NaN          35.0   \n",
       "...                 ...              ...   ...           ...   \n",
       "3384813        10937630             2020   NaN        3703.0   \n",
       "3384814        10961829             2020    43        1391.0   \n",
       "3384816        10954527             2020   NaN           NaN   \n",
       "3384817        10954448             2020   116       10728.0   \n",
       "3384819        10943939             2020   NaN        5242.0   \n",
       "\n",
       "               Street Name                  Legal Description  Latitude  \\\n",
       "0         SAVARYN DRIVE SW                     SW  22-51-24-4       NaN   \n",
       "7                      NaN   Plan: 3782RS  Block: 1  Lot: 30U  53.51545   \n",
       "9            115 AVENUE NW    Plan: 1568HW  Block: 4  Lot: 21       NaN   \n",
       "14           101 STREET SW            Plan: 8721140  Block: E       NaN   \n",
       "28       ELSINORE PLACE NW                      NE  5-54-24-4       NaN   \n",
       "...                    ...                                ...       ...   \n",
       "3384813        2 STREET NW    Plan: 1922185  Block: 6  Lot: 4  53.47286   \n",
       "3384814  STARLING DRIVE NW            Plan: 1621919  Unit: 56  53.59888   \n",
       "3384816                NaN           Plan: 1923211  Unit: 87A  53.51841   \n",
       "3384817       82 AVENUE NW            Plan: 1923211  Unit: 7A  53.51841   \n",
       "3384819       23 AVENUE SW  Plan: 1922598  Block: 11  Lot: 33  53.41254   \n",
       "\n",
       "         Longitude               Point Location         Neighbourhood  ...  \\\n",
       "0              NaN                          NaN            SUMMERSIDE  ...   \n",
       "7       -113.61627  POINT (-113.61627 53.51545)            THORNCLIFF  ...   \n",
       "9              NaN                          NaN             INGLEWOOD  ...   \n",
       "14             NaN                          NaN  ELLERSLIE INDUSTRIAL  ...   \n",
       "28             NaN                          NaN              ELSINORE  ...   \n",
       "...            ...                          ...                   ...  ...   \n",
       "3384813 -113.34529  POINT (-113.34529 53.47286)                 MAPLE  ...   \n",
       "3384814 -113.65292  POINT (-113.65292 53.59888)              STARLING  ...   \n",
       "3384816 -113.50710   POINT (-113.5071 53.51841)               GARNEAU  ...   \n",
       "3384817 -113.50710   POINT (-113.5071 53.51841)               GARNEAU  ...   \n",
       "3384819 -113.42280   POINT (-113.4228 53.41254)                WALKER  ...   \n",
       "\n",
       "         Garage Zoning    Lot Size  Assessed Value  Assessment Class 1  \\\n",
       "0             N    RPL  109314.321       7597000.0         RESIDENTIAL   \n",
       "7             N    RF1     118.072             0.0         RESIDENTIAL   \n",
       "9             Y    RF3     490.277        358500.0         RESIDENTIAL   \n",
       "14            N    AGI   49452.501        244500.0         RESIDENTIAL   \n",
       "28            N    RF1     711.319         55500.0         RESIDENTIAL   \n",
       "...         ...    ...         ...             ...                 ...   \n",
       "3384813       N    RMD     334.741         74500.0         RESIDENTIAL   \n",
       "3384814       Y    RA7     205.444        281500.0         RESIDENTIAL   \n",
       "3384816       N    DC1       5.849         10000.0         RESIDENTIAL   \n",
       "3384817       N    DC1      63.649        408000.0         RESIDENTIAL   \n",
       "3384819       N    DC1     340.353        146500.0         RESIDENTIAL   \n",
       "\n",
       "        Assessment Class % 1  Assessment Class 2 Assessment Class % 2  \\\n",
       "0                      100.0                 NaN                  NaN   \n",
       "7                      100.0                 NaN                  NaN   \n",
       "9                      100.0                 NaN                  NaN   \n",
       "14                     100.0                 NaN                  NaN   \n",
       "28                     100.0                 NaN                  NaN   \n",
       "...                      ...                 ...                  ...   \n",
       "3384813                100.0                 NaN                  NaN   \n",
       "3384814                100.0                 NaN                  NaN   \n",
       "3384816                100.0                 NaN                  NaN   \n",
       "3384817                100.0                 NaN                  NaN   \n",
       "3384819                100.0                 NaN                  NaN   \n",
       "\n",
       "         Assessment Class 3 Assessment Class % 3  \n",
       "0                       NaN                  NaN  \n",
       "7                       NaN                  NaN  \n",
       "9                       NaN                  NaN  \n",
       "14                      NaN                  NaN  \n",
       "28                      NaN                  NaN  \n",
       "...                     ...                  ...  \n",
       "3384813                 NaN                  NaN  \n",
       "3384814                 NaN                  NaN  \n",
       "3384816                 NaN                  NaN  \n",
       "3384817                 NaN                  NaN  \n",
       "3384819                 NaN                  NaN  \n",
       "\n",
       "[3159043 rows x 21 columns]"
      ]
     },
     "execution_count": 12,
     "metadata": {},
     "output_type": "execute_result"
    }
   ],
   "source": [
    "resi_house_data"
   ]
  },
  {
   "cell_type": "code",
   "execution_count": 13,
   "id": "d97dff43",
   "metadata": {
    "execution": {
     "iopub.execute_input": "2021-12-16T18:57:22.847237Z",
     "iopub.status.busy": "2021-12-16T18:57:22.847237Z",
     "iopub.status.idle": "2021-12-16T18:57:23.003364Z",
     "shell.execute_reply": "2021-12-16T18:57:23.003364Z",
     "shell.execute_reply.started": "2021-12-16T18:57:22.847237Z"
    },
    "tags": []
   },
   "outputs": [
    {
     "data": {
      "text/plain": [
       "count    3159043.000000\n",
       "mean      316251.180583\n",
       "std       267990.034578\n",
       "min            0.000000\n",
       "25%       188500.000000\n",
       "50%       315500.000000\n",
       "75%       407500.000000\n",
       "max     30081500.000000\n",
       "Name: Assessed Value, dtype: float64"
      ]
     },
     "execution_count": 13,
     "metadata": {},
     "output_type": "execute_result"
    }
   ],
   "source": [
    "pd.set_option('float_format', '{:f}'.format)\n",
    "resi_house_data['Assessed Value'].describe()"
   ]
  },
  {
   "cell_type": "code",
   "execution_count": 14,
   "id": "c0f5c01e",
   "metadata": {
    "execution": {
     "iopub.execute_input": "2021-12-16T18:57:23.005358Z",
     "iopub.status.busy": "2021-12-16T18:57:23.004361Z",
     "iopub.status.idle": "2021-12-16T18:57:23.207835Z",
     "shell.execute_reply": "2021-12-16T18:57:23.207835Z",
     "shell.execute_reply.started": "2021-12-16T18:57:23.004361Z"
    }
   },
   "outputs": [
    {
     "data": {
      "text/plain": [
       "count   3133955.000000\n",
       "mean        575.083918\n",
       "std        6655.532823\n",
       "min           0.000000\n",
       "25%         116.873000\n",
       "50%         386.330000\n",
       "75%         568.710000\n",
       "max      692660.676000\n",
       "Name: Lot Size, dtype: float64"
      ]
     },
     "execution_count": 14,
     "metadata": {},
     "output_type": "execute_result"
    }
   ],
   "source": [
    "resi_house_data['Lot Size'].describe()"
   ]
  },
  {
   "cell_type": "markdown",
   "id": "fb197391-23c9-44b0-b39d-3f2016f75f0a",
   "metadata": {},
   "source": [
    "Because we are working with residential properties, lets take a look at Zoning codes and see if we can isolate for residential zoning.\n",
    "From the City Of Edmonton Zoning Bylaw - the codes that apply for residential zones are:\n",
    "\n",
    "RF1, RSL, RF2, RPL, RLD, RF3, RF4, RMD, RF5, UCRH, RF6, RA7, RA8, RA9, RR, RMH\n"
   ]
  },
  {
   "cell_type": "code",
   "execution_count": 15,
   "id": "4c306695-421b-457e-a453-8d3adbc9ffee",
   "metadata": {
    "execution": {
     "iopub.execute_input": "2021-12-16T18:57:23.208833Z",
     "iopub.status.busy": "2021-12-16T18:57:23.208833Z",
     "iopub.status.idle": "2021-12-16T18:57:23.223796Z",
     "shell.execute_reply": "2021-12-16T18:57:23.222801Z",
     "shell.execute_reply.started": "2021-12-16T18:57:23.208833Z"
    },
    "tags": []
   },
   "outputs": [],
   "source": [
    "res_zones = ['RF1', 'RSL', 'RF2', 'RPL', 'RLD', 'RF3', 'RF4', 'RMD', 'RF5', 'UCRH', 'RF6', 'RA7', 'RA8', 'RA9', 'RR', 'RMH']"
   ]
  },
  {
   "cell_type": "code",
   "execution_count": 16,
   "id": "ac7851c8-499f-43d2-babd-0dcdbe8c4e6f",
   "metadata": {
    "execution": {
     "iopub.execute_input": "2021-12-16T18:57:23.224792Z",
     "iopub.status.busy": "2021-12-16T18:57:23.224792Z",
     "iopub.status.idle": "2021-12-16T18:57:23.393341Z",
     "shell.execute_reply": "2021-12-16T18:57:23.392344Z",
     "shell.execute_reply.started": "2021-12-16T18:57:23.224792Z"
    },
    "tags": []
   },
   "outputs": [],
   "source": [
    "zones = resi_house_data['Zoning'].unique().tolist()"
   ]
  },
  {
   "cell_type": "markdown",
   "id": "eab87ad0-a17e-4f71-bf05-f4cde67add36",
   "metadata": {
    "execution": {
     "iopub.execute_input": "2021-12-15T21:37:13.244628Z",
     "iopub.status.busy": "2021-12-15T21:37:13.244628Z",
     "iopub.status.idle": "2021-12-15T21:37:13.586700Z",
     "shell.execute_reply": "2021-12-15T21:37:13.585730Z",
     "shell.execute_reply.started": "2021-12-15T21:37:13.244628Z"
    },
    "tags": []
   },
   "source": [
    "Not all values are strings in this list, lets see where they are"
   ]
  },
  {
   "cell_type": "code",
   "execution_count": 17,
   "id": "af402465-8c6d-4bc5-810d-bbd1b555d112",
   "metadata": {
    "execution": {
     "iopub.execute_input": "2021-12-16T18:57:23.394338Z",
     "iopub.status.busy": "2021-12-16T18:57:23.394338Z",
     "iopub.status.idle": "2021-12-16T18:57:23.409298Z",
     "shell.execute_reply": "2021-12-16T18:57:23.408301Z",
     "shell.execute_reply.started": "2021-12-16T18:57:23.394338Z"
    },
    "tags": []
   },
   "outputs": [
    {
     "name": "stdout",
     "output_type": "stream",
     "text": [
      "31\n"
     ]
    }
   ],
   "source": [
    "index = 0\n",
    "for item in zones:\n",
    "    try:\n",
    "        float(item)\n",
    "        print(index)\n",
    "    except ValueError:\n",
    "        index += 1"
   ]
  },
  {
   "cell_type": "code",
   "execution_count": 18,
   "id": "ff1da768-04ac-4356-91f7-f0bfcb5aef90",
   "metadata": {
    "execution": {
     "iopub.execute_input": "2021-12-16T18:57:23.410296Z",
     "iopub.status.busy": "2021-12-16T18:57:23.410296Z",
     "iopub.status.idle": "2021-12-16T18:57:23.425256Z",
     "shell.execute_reply": "2021-12-16T18:57:23.424260Z",
     "shell.execute_reply.started": "2021-12-16T18:57:23.410296Z"
    },
    "tags": []
   },
   "outputs": [
    {
     "data": {
      "text/plain": [
       "nan"
      ]
     },
     "execution_count": 18,
     "metadata": {},
     "output_type": "execute_result"
    }
   ],
   "source": [
    "zones[31]"
   ]
  },
  {
   "cell_type": "markdown",
   "id": "d1ace457-851e-42bf-b343-628b7e6aef05",
   "metadata": {},
   "source": [
    "There are NaN zoning values, but we are focused on residential zoning properties so these will be ignored"
   ]
  },
  {
   "cell_type": "code",
   "execution_count": 19,
   "id": "61b4a436-9be6-4b31-a9d9-6f1a70c8be69",
   "metadata": {
    "execution": {
     "iopub.execute_input": "2021-12-16T18:57:23.426253Z",
     "iopub.status.busy": "2021-12-16T18:57:23.426253Z",
     "iopub.status.idle": "2021-12-16T18:57:23.440215Z",
     "shell.execute_reply": "2021-12-16T18:57:23.440215Z",
     "shell.execute_reply.started": "2021-12-16T18:57:23.426253Z"
    },
    "tags": []
   },
   "outputs": [
    {
     "data": {
      "text/plain": [
       "str"
      ]
     },
     "execution_count": 19,
     "metadata": {},
     "output_type": "execute_result"
    }
   ],
   "source": [
    "zones[31] = str(zones[31])\n",
    "type(zones[31])"
   ]
  },
  {
   "cell_type": "code",
   "execution_count": 20,
   "id": "11d4a9c8-00ea-4407-8a67-22a855fdeccf",
   "metadata": {
    "execution": {
     "iopub.execute_input": "2021-12-16T18:57:23.443208Z",
     "iopub.status.busy": "2021-12-16T18:57:23.442210Z",
     "iopub.status.idle": "2021-12-16T18:57:23.457171Z",
     "shell.execute_reply": "2021-12-16T18:57:23.456174Z",
     "shell.execute_reply.started": "2021-12-16T18:57:23.443208Z"
    },
    "tags": []
   },
   "outputs": [],
   "source": [
    "zoning_list = [item for item in zones for zone in res_zones if zone in item]"
   ]
  },
  {
   "cell_type": "code",
   "execution_count": 21,
   "id": "a07dd879-15fe-48b9-95c2-280607e16f5f",
   "metadata": {
    "execution": {
     "iopub.execute_input": "2021-12-16T18:57:23.460164Z",
     "iopub.status.busy": "2021-12-16T18:57:23.459165Z",
     "iopub.status.idle": "2021-12-16T18:57:23.954659Z",
     "shell.execute_reply": "2021-12-16T18:57:23.954659Z",
     "shell.execute_reply.started": "2021-12-16T18:57:23.460164Z"
    },
    "tags": []
   },
   "outputs": [],
   "source": [
    "resi_house_data = resi_house_data[resi_house_data['Zoning'].isin(zoning_list)]"
   ]
  },
  {
   "cell_type": "markdown",
   "id": "9a55f196",
   "metadata": {},
   "source": [
    "## Check if there are any nulls for assessed value or lot size "
   ]
  },
  {
   "cell_type": "code",
   "execution_count": 22,
   "id": "28ff3bdb",
   "metadata": {
    "execution": {
     "iopub.execute_input": "2021-12-16T18:57:23.955655Z",
     "iopub.status.busy": "2021-12-16T18:57:23.955655Z",
     "iopub.status.idle": "2021-12-16T18:57:23.986096Z",
     "shell.execute_reply": "2021-12-16T18:57:23.986096Z",
     "shell.execute_reply.started": "2021-12-16T18:57:23.955655Z"
    },
    "tags": []
   },
   "outputs": [
    {
     "data": {
      "text/html": [
       "<div>\n",
       "<style scoped>\n",
       "    .dataframe tbody tr th:only-of-type {\n",
       "        vertical-align: middle;\n",
       "    }\n",
       "\n",
       "    .dataframe tbody tr th {\n",
       "        vertical-align: top;\n",
       "    }\n",
       "\n",
       "    .dataframe thead th {\n",
       "        text-align: right;\n",
       "    }\n",
       "</style>\n",
       "<table border=\"1\" class=\"dataframe\">\n",
       "  <thead>\n",
       "    <tr style=\"text-align: right;\">\n",
       "      <th></th>\n",
       "      <th>Account Number</th>\n",
       "      <th>Assessment Year</th>\n",
       "      <th>Suite</th>\n",
       "      <th>House Number</th>\n",
       "      <th>Street Name</th>\n",
       "      <th>Legal Description</th>\n",
       "      <th>Latitude</th>\n",
       "      <th>Longitude</th>\n",
       "      <th>Point Location</th>\n",
       "      <th>Neighbourhood</th>\n",
       "      <th>...</th>\n",
       "      <th>Garage</th>\n",
       "      <th>Zoning</th>\n",
       "      <th>Lot Size</th>\n",
       "      <th>Assessed Value</th>\n",
       "      <th>Assessment Class 1</th>\n",
       "      <th>Assessment Class % 1</th>\n",
       "      <th>Assessment Class 2</th>\n",
       "      <th>Assessment Class % 2</th>\n",
       "      <th>Assessment Class 3</th>\n",
       "      <th>Assessment Class % 3</th>\n",
       "    </tr>\n",
       "  </thead>\n",
       "  <tbody>\n",
       "  </tbody>\n",
       "</table>\n",
       "<p>0 rows × 21 columns</p>\n",
       "</div>"
      ],
      "text/plain": [
       "Empty DataFrame\n",
       "Columns: [Account Number, Assessment Year, Suite, House Number, Street Name, Legal Description, Latitude, Longitude, Point Location, Neighbourhood, Actual Year Built, Garage, Zoning, Lot Size, Assessed Value, Assessment Class 1, Assessment Class % 1, Assessment Class 2, Assessment Class % 2, Assessment Class 3, Assessment Class % 3]\n",
       "Index: []\n",
       "\n",
       "[0 rows x 21 columns]"
      ]
     },
     "execution_count": 22,
     "metadata": {},
     "output_type": "execute_result"
    }
   ],
   "source": [
    "resi_house_data[resi_house_data['Assessed Value'].isnull() == True]"
   ]
  },
  {
   "cell_type": "code",
   "execution_count": 23,
   "id": "025a9dca",
   "metadata": {
    "execution": {
     "iopub.execute_input": "2021-12-16T18:57:23.988090Z",
     "iopub.status.busy": "2021-12-16T18:57:23.988090Z",
     "iopub.status.idle": "2021-12-16T18:57:24.049959Z",
     "shell.execute_reply": "2021-12-16T18:57:24.049959Z",
     "shell.execute_reply.started": "2021-12-16T18:57:23.988090Z"
    },
    "tags": []
   },
   "outputs": [
    {
     "data": {
      "text/html": [
       "<div>\n",
       "<style scoped>\n",
       "    .dataframe tbody tr th:only-of-type {\n",
       "        vertical-align: middle;\n",
       "    }\n",
       "\n",
       "    .dataframe tbody tr th {\n",
       "        vertical-align: top;\n",
       "    }\n",
       "\n",
       "    .dataframe thead th {\n",
       "        text-align: right;\n",
       "    }\n",
       "</style>\n",
       "<table border=\"1\" class=\"dataframe\">\n",
       "  <thead>\n",
       "    <tr style=\"text-align: right;\">\n",
       "      <th></th>\n",
       "      <th>Account Number</th>\n",
       "      <th>Assessment Year</th>\n",
       "      <th>Suite</th>\n",
       "      <th>House Number</th>\n",
       "      <th>Street Name</th>\n",
       "      <th>Legal Description</th>\n",
       "      <th>Latitude</th>\n",
       "      <th>Longitude</th>\n",
       "      <th>Point Location</th>\n",
       "      <th>Neighbourhood</th>\n",
       "      <th>...</th>\n",
       "      <th>Garage</th>\n",
       "      <th>Zoning</th>\n",
       "      <th>Lot Size</th>\n",
       "      <th>Assessed Value</th>\n",
       "      <th>Assessment Class 1</th>\n",
       "      <th>Assessment Class % 1</th>\n",
       "      <th>Assessment Class 2</th>\n",
       "      <th>Assessment Class % 2</th>\n",
       "      <th>Assessment Class 3</th>\n",
       "      <th>Assessment Class % 3</th>\n",
       "    </tr>\n",
       "  </thead>\n",
       "  <tbody>\n",
       "    <tr>\n",
       "      <th>40</th>\n",
       "      <td>10001923</td>\n",
       "      <td>2020</td>\n",
       "      <td>NaN</td>\n",
       "      <td>3442.000000</td>\n",
       "      <td>LAKEVIEW POINT NW</td>\n",
       "      <td>NaN</td>\n",
       "      <td>53.552230</td>\n",
       "      <td>-113.696790</td>\n",
       "      <td>POINT (-113.69679 53.55223)</td>\n",
       "      <td>WESTVIEW VILLAGE</td>\n",
       "      <td>...</td>\n",
       "      <td>Y</td>\n",
       "      <td>RMH</td>\n",
       "      <td>NaN</td>\n",
       "      <td>117500.000000</td>\n",
       "      <td>RESIDENTIAL</td>\n",
       "      <td>100.000000</td>\n",
       "      <td>NaN</td>\n",
       "      <td>NaN</td>\n",
       "      <td>NaN</td>\n",
       "      <td>NaN</td>\n",
       "    </tr>\n",
       "    <tr>\n",
       "      <th>43</th>\n",
       "      <td>10018932</td>\n",
       "      <td>2014</td>\n",
       "      <td>NaN</td>\n",
       "      <td>125.000000</td>\n",
       "      <td>RIDGEWAY DRIVE NW</td>\n",
       "      <td>NaN</td>\n",
       "      <td>53.503900</td>\n",
       "      <td>-113.359340</td>\n",
       "      <td>POINT (-113.35934 53.5039)</td>\n",
       "      <td>MAPLE RIDGE</td>\n",
       "      <td>...</td>\n",
       "      <td>N</td>\n",
       "      <td>RMH</td>\n",
       "      <td>NaN</td>\n",
       "      <td>43000.000000</td>\n",
       "      <td>RESIDENTIAL</td>\n",
       "      <td>100.000000</td>\n",
       "      <td>NaN</td>\n",
       "      <td>NaN</td>\n",
       "      <td>NaN</td>\n",
       "      <td>NaN</td>\n",
       "    </tr>\n",
       "    <tr>\n",
       "      <th>44</th>\n",
       "      <td>10018932</td>\n",
       "      <td>2015</td>\n",
       "      <td>NaN</td>\n",
       "      <td>125.000000</td>\n",
       "      <td>RIDGEWAY DRIVE NW</td>\n",
       "      <td>NaN</td>\n",
       "      <td>53.503900</td>\n",
       "      <td>-113.359340</td>\n",
       "      <td>POINT (-113.35934 53.5039)</td>\n",
       "      <td>MAPLE RIDGE</td>\n",
       "      <td>...</td>\n",
       "      <td>N</td>\n",
       "      <td>RMH</td>\n",
       "      <td>NaN</td>\n",
       "      <td>46500.000000</td>\n",
       "      <td>RESIDENTIAL</td>\n",
       "      <td>100.000000</td>\n",
       "      <td>NaN</td>\n",
       "      <td>NaN</td>\n",
       "      <td>NaN</td>\n",
       "      <td>NaN</td>\n",
       "    </tr>\n",
       "    <tr>\n",
       "      <th>45</th>\n",
       "      <td>10020385</td>\n",
       "      <td>2014</td>\n",
       "      <td>NaN</td>\n",
       "      <td>5.000000</td>\n",
       "      <td>QUARRY CRESCENT NW</td>\n",
       "      <td>NaN</td>\n",
       "      <td>53.499900</td>\n",
       "      <td>-113.362130</td>\n",
       "      <td>POINT (-113.36213 53.4999)</td>\n",
       "      <td>MAPLE RIDGE</td>\n",
       "      <td>...</td>\n",
       "      <td>N</td>\n",
       "      <td>RMH</td>\n",
       "      <td>NaN</td>\n",
       "      <td>71000.000000</td>\n",
       "      <td>RESIDENTIAL</td>\n",
       "      <td>100.000000</td>\n",
       "      <td>NaN</td>\n",
       "      <td>NaN</td>\n",
       "      <td>NaN</td>\n",
       "      <td>NaN</td>\n",
       "    </tr>\n",
       "    <tr>\n",
       "      <th>46</th>\n",
       "      <td>10020385</td>\n",
       "      <td>2019</td>\n",
       "      <td>NaN</td>\n",
       "      <td>5.000000</td>\n",
       "      <td>QUARRY CRESCENT NW</td>\n",
       "      <td>NaN</td>\n",
       "      <td>53.499900</td>\n",
       "      <td>-113.362130</td>\n",
       "      <td>POINT (-113.36213 53.4999)</td>\n",
       "      <td>MAPLE RIDGE</td>\n",
       "      <td>...</td>\n",
       "      <td>N</td>\n",
       "      <td>RMH</td>\n",
       "      <td>NaN</td>\n",
       "      <td>51000.000000</td>\n",
       "      <td>RESIDENTIAL</td>\n",
       "      <td>100.000000</td>\n",
       "      <td>NaN</td>\n",
       "      <td>NaN</td>\n",
       "      <td>NaN</td>\n",
       "      <td>NaN</td>\n",
       "    </tr>\n",
       "    <tr>\n",
       "      <th>...</th>\n",
       "      <td>...</td>\n",
       "      <td>...</td>\n",
       "      <td>...</td>\n",
       "      <td>...</td>\n",
       "      <td>...</td>\n",
       "      <td>...</td>\n",
       "      <td>...</td>\n",
       "      <td>...</td>\n",
       "      <td>...</td>\n",
       "      <td>...</td>\n",
       "      <td>...</td>\n",
       "      <td>...</td>\n",
       "      <td>...</td>\n",
       "      <td>...</td>\n",
       "      <td>...</td>\n",
       "      <td>...</td>\n",
       "      <td>...</td>\n",
       "      <td>...</td>\n",
       "      <td>...</td>\n",
       "      <td>...</td>\n",
       "      <td>...</td>\n",
       "    </tr>\n",
       "    <tr>\n",
       "      <th>3380215</th>\n",
       "      <td>10939888</td>\n",
       "      <td>2019</td>\n",
       "      <td>NaN</td>\n",
       "      <td>2003.000000</td>\n",
       "      <td>WEST VIEW GREEN NW</td>\n",
       "      <td>NaN</td>\n",
       "      <td>53.552230</td>\n",
       "      <td>-113.696790</td>\n",
       "      <td>POINT (-113.69679 53.55223)</td>\n",
       "      <td>WESTVIEW VILLAGE</td>\n",
       "      <td>...</td>\n",
       "      <td>N</td>\n",
       "      <td>RMH</td>\n",
       "      <td>NaN</td>\n",
       "      <td>92500.000000</td>\n",
       "      <td>RESIDENTIAL</td>\n",
       "      <td>100.000000</td>\n",
       "      <td>NaN</td>\n",
       "      <td>NaN</td>\n",
       "      <td>NaN</td>\n",
       "      <td>NaN</td>\n",
       "    </tr>\n",
       "    <tr>\n",
       "      <th>3381478</th>\n",
       "      <td>10935242</td>\n",
       "      <td>2020</td>\n",
       "      <td>NaN</td>\n",
       "      <td>124.000000</td>\n",
       "      <td>OAK WOOD ROAD NW</td>\n",
       "      <td>NaN</td>\n",
       "      <td>53.504310</td>\n",
       "      <td>-113.363350</td>\n",
       "      <td>POINT (-113.36335 53.50431)</td>\n",
       "      <td>SOUTHEAST (ANNEXED) INDUSTRIAL</td>\n",
       "      <td>...</td>\n",
       "      <td>N</td>\n",
       "      <td>RMH</td>\n",
       "      <td>NaN</td>\n",
       "      <td>60500.000000</td>\n",
       "      <td>RESIDENTIAL</td>\n",
       "      <td>100.000000</td>\n",
       "      <td>NaN</td>\n",
       "      <td>NaN</td>\n",
       "      <td>NaN</td>\n",
       "      <td>NaN</td>\n",
       "    </tr>\n",
       "    <tr>\n",
       "      <th>3382471</th>\n",
       "      <td>10930398</td>\n",
       "      <td>2019</td>\n",
       "      <td>NaN</td>\n",
       "      <td>58.000000</td>\n",
       "      <td>EVERGREEN PARK NW</td>\n",
       "      <td>NaN</td>\n",
       "      <td>53.631220</td>\n",
       "      <td>-113.352220</td>\n",
       "      <td>POINT (-113.35222 53.63122)</td>\n",
       "      <td>EVERGREEN</td>\n",
       "      <td>...</td>\n",
       "      <td>N</td>\n",
       "      <td>RMH</td>\n",
       "      <td>NaN</td>\n",
       "      <td>68000.000000</td>\n",
       "      <td>RESIDENTIAL</td>\n",
       "      <td>100.000000</td>\n",
       "      <td>NaN</td>\n",
       "      <td>NaN</td>\n",
       "      <td>NaN</td>\n",
       "      <td>NaN</td>\n",
       "    </tr>\n",
       "    <tr>\n",
       "      <th>3383050</th>\n",
       "      <td>10984049</td>\n",
       "      <td>2020</td>\n",
       "      <td>NaN</td>\n",
       "      <td>287.000000</td>\n",
       "      <td>EVERGREEN PARK NW</td>\n",
       "      <td>NaN</td>\n",
       "      <td>53.631230</td>\n",
       "      <td>-113.354560</td>\n",
       "      <td>POINT (-113.35456 53.63123)</td>\n",
       "      <td>EVERGREEN</td>\n",
       "      <td>...</td>\n",
       "      <td>N</td>\n",
       "      <td>RMH</td>\n",
       "      <td>NaN</td>\n",
       "      <td>97500.000000</td>\n",
       "      <td>RESIDENTIAL</td>\n",
       "      <td>100.000000</td>\n",
       "      <td>NaN</td>\n",
       "      <td>NaN</td>\n",
       "      <td>NaN</td>\n",
       "      <td>NaN</td>\n",
       "    </tr>\n",
       "    <tr>\n",
       "      <th>3383458</th>\n",
       "      <td>10953540</td>\n",
       "      <td>2020</td>\n",
       "      <td>31</td>\n",
       "      <td>12604.000000</td>\n",
       "      <td>153 AVENUE NW</td>\n",
       "      <td>NaN</td>\n",
       "      <td>53.618960</td>\n",
       "      <td>-113.539100</td>\n",
       "      <td>POINT (-113.5391 53.61896)</td>\n",
       "      <td>DUNLUCE</td>\n",
       "      <td>...</td>\n",
       "      <td>N</td>\n",
       "      <td>RMH</td>\n",
       "      <td>NaN</td>\n",
       "      <td>104500.000000</td>\n",
       "      <td>RESIDENTIAL</td>\n",
       "      <td>100.000000</td>\n",
       "      <td>NaN</td>\n",
       "      <td>NaN</td>\n",
       "      <td>NaN</td>\n",
       "      <td>NaN</td>\n",
       "    </tr>\n",
       "  </tbody>\n",
       "</table>\n",
       "<p>20447 rows × 21 columns</p>\n",
       "</div>"
      ],
      "text/plain": [
       "         Account Number  Assessment Year Suite  House Number  \\\n",
       "40             10001923             2020   NaN   3442.000000   \n",
       "43             10018932             2014   NaN    125.000000   \n",
       "44             10018932             2015   NaN    125.000000   \n",
       "45             10020385             2014   NaN      5.000000   \n",
       "46             10020385             2019   NaN      5.000000   \n",
       "...                 ...              ...   ...           ...   \n",
       "3380215        10939888             2019   NaN   2003.000000   \n",
       "3381478        10935242             2020   NaN    124.000000   \n",
       "3382471        10930398             2019   NaN     58.000000   \n",
       "3383050        10984049             2020   NaN    287.000000   \n",
       "3383458        10953540             2020    31  12604.000000   \n",
       "\n",
       "                Street Name Legal Description  Latitude   Longitude  \\\n",
       "40        LAKEVIEW POINT NW               NaN 53.552230 -113.696790   \n",
       "43        RIDGEWAY DRIVE NW               NaN 53.503900 -113.359340   \n",
       "44        RIDGEWAY DRIVE NW               NaN 53.503900 -113.359340   \n",
       "45       QUARRY CRESCENT NW               NaN 53.499900 -113.362130   \n",
       "46       QUARRY CRESCENT NW               NaN 53.499900 -113.362130   \n",
       "...                     ...               ...       ...         ...   \n",
       "3380215  WEST VIEW GREEN NW               NaN 53.552230 -113.696790   \n",
       "3381478    OAK WOOD ROAD NW               NaN 53.504310 -113.363350   \n",
       "3382471   EVERGREEN PARK NW               NaN 53.631220 -113.352220   \n",
       "3383050   EVERGREEN PARK NW               NaN 53.631230 -113.354560   \n",
       "3383458       153 AVENUE NW               NaN 53.618960 -113.539100   \n",
       "\n",
       "                      Point Location                   Neighbourhood  ...  \\\n",
       "40       POINT (-113.69679 53.55223)                WESTVIEW VILLAGE  ...   \n",
       "43        POINT (-113.35934 53.5039)                     MAPLE RIDGE  ...   \n",
       "44        POINT (-113.35934 53.5039)                     MAPLE RIDGE  ...   \n",
       "45        POINT (-113.36213 53.4999)                     MAPLE RIDGE  ...   \n",
       "46        POINT (-113.36213 53.4999)                     MAPLE RIDGE  ...   \n",
       "...                              ...                             ...  ...   \n",
       "3380215  POINT (-113.69679 53.55223)                WESTVIEW VILLAGE  ...   \n",
       "3381478  POINT (-113.36335 53.50431)  SOUTHEAST (ANNEXED) INDUSTRIAL  ...   \n",
       "3382471  POINT (-113.35222 53.63122)                       EVERGREEN  ...   \n",
       "3383050  POINT (-113.35456 53.63123)                       EVERGREEN  ...   \n",
       "3383458   POINT (-113.5391 53.61896)                         DUNLUCE  ...   \n",
       "\n",
       "         Garage Zoning Lot Size  Assessed Value  Assessment Class 1  \\\n",
       "40            Y    RMH      NaN   117500.000000         RESIDENTIAL   \n",
       "43            N    RMH      NaN    43000.000000         RESIDENTIAL   \n",
       "44            N    RMH      NaN    46500.000000         RESIDENTIAL   \n",
       "45            N    RMH      NaN    71000.000000         RESIDENTIAL   \n",
       "46            N    RMH      NaN    51000.000000         RESIDENTIAL   \n",
       "...         ...    ...      ...             ...                 ...   \n",
       "3380215       N    RMH      NaN    92500.000000         RESIDENTIAL   \n",
       "3381478       N    RMH      NaN    60500.000000         RESIDENTIAL   \n",
       "3382471       N    RMH      NaN    68000.000000         RESIDENTIAL   \n",
       "3383050       N    RMH      NaN    97500.000000         RESIDENTIAL   \n",
       "3383458       N    RMH      NaN   104500.000000         RESIDENTIAL   \n",
       "\n",
       "        Assessment Class % 1  Assessment Class 2 Assessment Class % 2  \\\n",
       "40                100.000000                 NaN                  NaN   \n",
       "43                100.000000                 NaN                  NaN   \n",
       "44                100.000000                 NaN                  NaN   \n",
       "45                100.000000                 NaN                  NaN   \n",
       "46                100.000000                 NaN                  NaN   \n",
       "...                      ...                 ...                  ...   \n",
       "3380215           100.000000                 NaN                  NaN   \n",
       "3381478           100.000000                 NaN                  NaN   \n",
       "3382471           100.000000                 NaN                  NaN   \n",
       "3383050           100.000000                 NaN                  NaN   \n",
       "3383458           100.000000                 NaN                  NaN   \n",
       "\n",
       "         Assessment Class 3 Assessment Class % 3  \n",
       "40                      NaN                  NaN  \n",
       "43                      NaN                  NaN  \n",
       "44                      NaN                  NaN  \n",
       "45                      NaN                  NaN  \n",
       "46                      NaN                  NaN  \n",
       "...                     ...                  ...  \n",
       "3380215                 NaN                  NaN  \n",
       "3381478                 NaN                  NaN  \n",
       "3382471                 NaN                  NaN  \n",
       "3383050                 NaN                  NaN  \n",
       "3383458                 NaN                  NaN  \n",
       "\n",
       "[20447 rows x 21 columns]"
      ]
     },
     "execution_count": 23,
     "metadata": {},
     "output_type": "execute_result"
    }
   ],
   "source": [
    "resi_house_data[resi_house_data['Lot Size'].isnull() == True]"
   ]
  },
  {
   "cell_type": "markdown",
   "id": "fb92beca",
   "metadata": {},
   "source": [
    "There are a number of assessed properties with no lot size info, lets take a closer look."
   ]
  },
  {
   "cell_type": "code",
   "execution_count": 24,
   "id": "5f653ac5",
   "metadata": {
    "execution": {
     "iopub.execute_input": "2021-12-16T18:57:24.050923Z",
     "iopub.status.busy": "2021-12-16T18:57:24.050923Z",
     "iopub.status.idle": "2021-12-16T18:57:24.080879Z",
     "shell.execute_reply": "2021-12-16T18:57:24.080879Z",
     "shell.execute_reply.started": "2021-12-16T18:57:24.050923Z"
    },
    "tags": []
   },
   "outputs": [
    {
     "data": {
      "text/plain": [
       "RMH     20288\n",
       "RA8h      128\n",
       "RF4        21\n",
       "RF1         7\n",
       "RR          2\n",
       "RSL         1\n",
       "Name: Zoning, dtype: int64"
      ]
     },
     "execution_count": 24,
     "metadata": {},
     "output_type": "execute_result"
    }
   ],
   "source": [
    "no_lot_size = resi_house_data[resi_house_data['Lot Size'].isnull() == True]\n",
    "no_lot_size['Zoning'].value_counts()"
   ]
  },
  {
   "cell_type": "markdown",
   "id": "1c7841f2",
   "metadata": {},
   "source": [
    "From zoning information, appears the vast majority of the lot size missing property assessments belong to mobile homes (RMH). After consulting with a real estate agent, mobile homes do not have lot sizes because they do not own the lots that their mobile homes are located. The average mobile home park lot size ranges from 960 - 2400 square feet. Using the median of 1680 square feet, we can impute a lot size of 156 square meters."
   ]
  },
  {
   "cell_type": "code",
   "execution_count": 25,
   "id": "6bbedc39",
   "metadata": {
    "execution": {
     "iopub.execute_input": "2021-12-16T18:57:24.081873Z",
     "iopub.status.busy": "2021-12-16T18:57:24.081873Z",
     "iopub.status.idle": "2021-12-16T18:57:24.096800Z",
     "shell.execute_reply": "2021-12-16T18:57:24.096800Z",
     "shell.execute_reply.started": "2021-12-16T18:57:24.081873Z"
    },
    "tags": []
   },
   "outputs": [],
   "source": [
    "mobile_mask = no_lot_size[(no_lot_size['Zoning'] == 'RMH')]"
   ]
  },
  {
   "cell_type": "code",
   "execution_count": 26,
   "id": "50d1a6dc",
   "metadata": {
    "execution": {
     "iopub.execute_input": "2021-12-16T18:57:24.098796Z",
     "iopub.status.busy": "2021-12-16T18:57:24.097798Z",
     "iopub.status.idle": "2021-12-16T18:57:24.112757Z",
     "shell.execute_reply": "2021-12-16T18:57:24.112757Z",
     "shell.execute_reply.started": "2021-12-16T18:57:24.098796Z"
    },
    "tags": []
   },
   "outputs": [
    {
     "data": {
      "text/plain": [
       "True    20288\n",
       "Name: Lot Size, dtype: int64"
      ]
     },
     "execution_count": 26,
     "metadata": {},
     "output_type": "execute_result"
    }
   ],
   "source": [
    "mobile_mask['Lot Size'].isna().value_counts()"
   ]
  },
  {
   "cell_type": "code",
   "execution_count": 27,
   "id": "84715284",
   "metadata": {
    "execution": {
     "iopub.execute_input": "2021-12-16T18:57:24.114752Z",
     "iopub.status.busy": "2021-12-16T18:57:24.113755Z",
     "iopub.status.idle": "2021-12-16T18:57:24.128715Z",
     "shell.execute_reply": "2021-12-16T18:57:24.127717Z",
     "shell.execute_reply.started": "2021-12-16T18:57:24.114752Z"
    },
    "tags": []
   },
   "outputs": [],
   "source": [
    "mobile_indexes = mobile_mask.index.tolist()"
   ]
  },
  {
   "cell_type": "code",
   "execution_count": 28,
   "id": "3432b92b",
   "metadata": {
    "execution": {
     "iopub.execute_input": "2021-12-16T18:57:24.133701Z",
     "iopub.status.busy": "2021-12-16T18:57:24.133701Z",
     "iopub.status.idle": "2021-12-16T18:57:24.254888Z",
     "shell.execute_reply": "2021-12-16T18:57:24.253891Z",
     "shell.execute_reply.started": "2021-12-16T18:57:24.133701Z"
    },
    "tags": []
   },
   "outputs": [],
   "source": [
    "resi_house_data.loc[mobile_indexes, 'Lot Size'] = 156"
   ]
  },
  {
   "cell_type": "code",
   "execution_count": 29,
   "id": "237ffe44",
   "metadata": {
    "execution": {
     "iopub.execute_input": "2021-12-16T18:57:24.254888Z",
     "iopub.status.busy": "2021-12-16T18:57:24.254888Z",
     "iopub.status.idle": "2021-12-16T18:57:24.283840Z",
     "shell.execute_reply": "2021-12-16T18:57:24.283840Z",
     "shell.execute_reply.started": "2021-12-16T18:57:24.254888Z"
    },
    "tags": []
   },
   "outputs": [
    {
     "data": {
      "text/plain": [
       "156.0"
      ]
     },
     "execution_count": 29,
     "metadata": {},
     "output_type": "execute_result"
    }
   ],
   "source": [
    "#sanity check\n",
    "resi_house_data.loc[mobile_indexes]['Lot Size'].mean()"
   ]
  },
  {
   "cell_type": "markdown",
   "id": "3ed6d381-e226-474c-b0ce-a704cfdeb708",
   "metadata": {},
   "source": [
    "Lets take a look at the rest of the properties"
   ]
  },
  {
   "cell_type": "code",
   "execution_count": 30,
   "id": "bc244e7c",
   "metadata": {
    "execution": {
     "iopub.execute_input": "2021-12-16T18:57:24.284808Z",
     "iopub.status.busy": "2021-12-16T18:57:24.284808Z",
     "iopub.status.idle": "2021-12-16T18:57:24.313764Z",
     "shell.execute_reply": "2021-12-16T18:57:24.313764Z",
     "shell.execute_reply.started": "2021-12-16T18:57:24.284808Z"
    },
    "tags": []
   },
   "outputs": [
    {
     "data": {
      "text/plain": [
       "RA8h    128\n",
       "RF4      21\n",
       "RF1       7\n",
       "RR        2\n",
       "RSL       1\n",
       "Name: Zoning, dtype: int64"
      ]
     },
     "execution_count": 30,
     "metadata": {},
     "output_type": "execute_result"
    }
   ],
   "source": [
    "no_lot_size = resi_house_data[resi_house_data['Lot Size'].isnull() == True]\n",
    "no_lot_size['Zoning'].value_counts()"
   ]
  },
  {
   "cell_type": "code",
   "execution_count": 31,
   "id": "d8e7beb3-ec3b-48c9-ab8d-711f2394f30d",
   "metadata": {
    "execution": {
     "iopub.execute_input": "2021-12-16T18:57:24.315725Z",
     "iopub.status.busy": "2021-12-16T18:57:24.314761Z",
     "iopub.status.idle": "2021-12-16T18:57:24.346645Z",
     "shell.execute_reply": "2021-12-16T18:57:24.345646Z",
     "shell.execute_reply.started": "2021-12-16T18:57:24.315725Z"
    },
    "tags": []
   },
   "outputs": [
    {
     "data": {
      "text/html": [
       "<div>\n",
       "<style scoped>\n",
       "    .dataframe tbody tr th:only-of-type {\n",
       "        vertical-align: middle;\n",
       "    }\n",
       "\n",
       "    .dataframe tbody tr th {\n",
       "        vertical-align: top;\n",
       "    }\n",
       "\n",
       "    .dataframe thead th {\n",
       "        text-align: right;\n",
       "    }\n",
       "</style>\n",
       "<table border=\"1\" class=\"dataframe\">\n",
       "  <thead>\n",
       "    <tr style=\"text-align: right;\">\n",
       "      <th></th>\n",
       "      <th>Account Number</th>\n",
       "      <th>Assessment Year</th>\n",
       "      <th>Suite</th>\n",
       "      <th>House Number</th>\n",
       "      <th>Street Name</th>\n",
       "      <th>Legal Description</th>\n",
       "      <th>Latitude</th>\n",
       "      <th>Longitude</th>\n",
       "      <th>Point Location</th>\n",
       "      <th>Neighbourhood</th>\n",
       "      <th>...</th>\n",
       "      <th>Garage</th>\n",
       "      <th>Zoning</th>\n",
       "      <th>Lot Size</th>\n",
       "      <th>Assessed Value</th>\n",
       "      <th>Assessment Class 1</th>\n",
       "      <th>Assessment Class % 1</th>\n",
       "      <th>Assessment Class 2</th>\n",
       "      <th>Assessment Class % 2</th>\n",
       "      <th>Assessment Class 3</th>\n",
       "      <th>Assessment Class % 3</th>\n",
       "    </tr>\n",
       "  </thead>\n",
       "  <tbody>\n",
       "    <tr>\n",
       "      <th>1877754</th>\n",
       "      <td>9955728</td>\n",
       "      <td>2012</td>\n",
       "      <td>106.000000</td>\n",
       "      <td>17109.000000</td>\n",
       "      <td>67 AVENUE NW</td>\n",
       "      <td>Plan: 9821966  Unit: 6</td>\n",
       "      <td>53.502390</td>\n",
       "      <td>-113.617800</td>\n",
       "      <td>POINT (-113.6178 53.50239)</td>\n",
       "      <td>CALLINGWOOD SOUTH</td>\n",
       "      <td>...</td>\n",
       "      <td>N</td>\n",
       "      <td>RA8h</td>\n",
       "      <td>NaN</td>\n",
       "      <td>178500.000000</td>\n",
       "      <td>RESIDENTIAL</td>\n",
       "      <td>100.000000</td>\n",
       "      <td>NaN</td>\n",
       "      <td>NaN</td>\n",
       "      <td>NaN</td>\n",
       "      <td>NaN</td>\n",
       "    </tr>\n",
       "    <tr>\n",
       "      <th>1877941</th>\n",
       "      <td>9955724</td>\n",
       "      <td>2012</td>\n",
       "      <td>102.000000</td>\n",
       "      <td>17109.000000</td>\n",
       "      <td>67 AVENUE NW</td>\n",
       "      <td>Plan: 9821966  Unit: 2</td>\n",
       "      <td>53.502390</td>\n",
       "      <td>-113.617800</td>\n",
       "      <td>POINT (-113.6178 53.50239)</td>\n",
       "      <td>CALLINGWOOD SOUTH</td>\n",
       "      <td>...</td>\n",
       "      <td>N</td>\n",
       "      <td>RA8h</td>\n",
       "      <td>NaN</td>\n",
       "      <td>205500.000000</td>\n",
       "      <td>RESIDENTIAL</td>\n",
       "      <td>100.000000</td>\n",
       "      <td>NaN</td>\n",
       "      <td>NaN</td>\n",
       "      <td>NaN</td>\n",
       "      <td>NaN</td>\n",
       "    </tr>\n",
       "    <tr>\n",
       "      <th>1878195</th>\n",
       "      <td>9955783</td>\n",
       "      <td>2012</td>\n",
       "      <td>409.000000</td>\n",
       "      <td>17109.000000</td>\n",
       "      <td>67 AVENUE NW</td>\n",
       "      <td>Plan: 9821966  Unit: 62</td>\n",
       "      <td>53.502390</td>\n",
       "      <td>-113.617800</td>\n",
       "      <td>POINT (-113.6178 53.50239)</td>\n",
       "      <td>CALLINGWOOD SOUTH</td>\n",
       "      <td>...</td>\n",
       "      <td>N</td>\n",
       "      <td>RA8h</td>\n",
       "      <td>NaN</td>\n",
       "      <td>169000.000000</td>\n",
       "      <td>RESIDENTIAL</td>\n",
       "      <td>100.000000</td>\n",
       "      <td>NaN</td>\n",
       "      <td>NaN</td>\n",
       "      <td>NaN</td>\n",
       "      <td>NaN</td>\n",
       "    </tr>\n",
       "    <tr>\n",
       "      <th>1878291</th>\n",
       "      <td>9955731</td>\n",
       "      <td>2012</td>\n",
       "      <td>110.000000</td>\n",
       "      <td>17109.000000</td>\n",
       "      <td>67 AVENUE NW</td>\n",
       "      <td>Plan: 9821966  Unit: 9</td>\n",
       "      <td>53.502390</td>\n",
       "      <td>-113.617800</td>\n",
       "      <td>POINT (-113.6178 53.50239)</td>\n",
       "      <td>CALLINGWOOD SOUTH</td>\n",
       "      <td>...</td>\n",
       "      <td>N</td>\n",
       "      <td>RA8h</td>\n",
       "      <td>NaN</td>\n",
       "      <td>144000.000000</td>\n",
       "      <td>RESIDENTIAL</td>\n",
       "      <td>100.000000</td>\n",
       "      <td>NaN</td>\n",
       "      <td>NaN</td>\n",
       "      <td>NaN</td>\n",
       "      <td>NaN</td>\n",
       "    </tr>\n",
       "    <tr>\n",
       "      <th>1878381</th>\n",
       "      <td>9955748</td>\n",
       "      <td>2013</td>\n",
       "      <td>210.000000</td>\n",
       "      <td>17109.000000</td>\n",
       "      <td>67 AVENUE NW</td>\n",
       "      <td>Plan: 9821966  Unit: 27</td>\n",
       "      <td>53.502390</td>\n",
       "      <td>-113.617800</td>\n",
       "      <td>POINT (-113.6178 53.50239)</td>\n",
       "      <td>CALLINGWOOD SOUTH</td>\n",
       "      <td>...</td>\n",
       "      <td>N</td>\n",
       "      <td>RA8h</td>\n",
       "      <td>NaN</td>\n",
       "      <td>137000.000000</td>\n",
       "      <td>RESIDENTIAL</td>\n",
       "      <td>100.000000</td>\n",
       "      <td>NaN</td>\n",
       "      <td>NaN</td>\n",
       "      <td>NaN</td>\n",
       "      <td>NaN</td>\n",
       "    </tr>\n",
       "  </tbody>\n",
       "</table>\n",
       "<p>5 rows × 21 columns</p>\n",
       "</div>"
      ],
      "text/plain": [
       "         Account Number  Assessment Year      Suite  House Number  \\\n",
       "1877754         9955728             2012 106.000000  17109.000000   \n",
       "1877941         9955724             2012 102.000000  17109.000000   \n",
       "1878195         9955783             2012 409.000000  17109.000000   \n",
       "1878291         9955731             2012 110.000000  17109.000000   \n",
       "1878381         9955748             2013 210.000000  17109.000000   \n",
       "\n",
       "          Street Name        Legal Description  Latitude   Longitude  \\\n",
       "1877754  67 AVENUE NW   Plan: 9821966  Unit: 6 53.502390 -113.617800   \n",
       "1877941  67 AVENUE NW   Plan: 9821966  Unit: 2 53.502390 -113.617800   \n",
       "1878195  67 AVENUE NW  Plan: 9821966  Unit: 62 53.502390 -113.617800   \n",
       "1878291  67 AVENUE NW   Plan: 9821966  Unit: 9 53.502390 -113.617800   \n",
       "1878381  67 AVENUE NW  Plan: 9821966  Unit: 27 53.502390 -113.617800   \n",
       "\n",
       "                     Point Location      Neighbourhood  ...  Garage Zoning  \\\n",
       "1877754  POINT (-113.6178 53.50239)  CALLINGWOOD SOUTH  ...       N   RA8h   \n",
       "1877941  POINT (-113.6178 53.50239)  CALLINGWOOD SOUTH  ...       N   RA8h   \n",
       "1878195  POINT (-113.6178 53.50239)  CALLINGWOOD SOUTH  ...       N   RA8h   \n",
       "1878291  POINT (-113.6178 53.50239)  CALLINGWOOD SOUTH  ...       N   RA8h   \n",
       "1878381  POINT (-113.6178 53.50239)  CALLINGWOOD SOUTH  ...       N   RA8h   \n",
       "\n",
       "        Lot Size  Assessed Value  Assessment Class 1 Assessment Class % 1  \\\n",
       "1877754      NaN   178500.000000         RESIDENTIAL           100.000000   \n",
       "1877941      NaN   205500.000000         RESIDENTIAL           100.000000   \n",
       "1878195      NaN   169000.000000         RESIDENTIAL           100.000000   \n",
       "1878291      NaN   144000.000000         RESIDENTIAL           100.000000   \n",
       "1878381      NaN   137000.000000         RESIDENTIAL           100.000000   \n",
       "\n",
       "         Assessment Class 2 Assessment Class % 2  Assessment Class 3  \\\n",
       "1877754                 NaN                  NaN                 NaN   \n",
       "1877941                 NaN                  NaN                 NaN   \n",
       "1878195                 NaN                  NaN                 NaN   \n",
       "1878291                 NaN                  NaN                 NaN   \n",
       "1878381                 NaN                  NaN                 NaN   \n",
       "\n",
       "        Assessment Class % 3  \n",
       "1877754                  NaN  \n",
       "1877941                  NaN  \n",
       "1878195                  NaN  \n",
       "1878291                  NaN  \n",
       "1878381                  NaN  \n",
       "\n",
       "[5 rows x 21 columns]"
      ]
     },
     "execution_count": 31,
     "metadata": {},
     "output_type": "execute_result"
    }
   ],
   "source": [
    "no_lot_size[no_lot_size['Zoning'] == 'RA8h'].head()"
   ]
  },
  {
   "cell_type": "code",
   "execution_count": 32,
   "id": "9c7f5c8e-7c66-4b90-b645-510535f62284",
   "metadata": {
    "execution": {
     "iopub.execute_input": "2021-12-16T18:57:24.347641Z",
     "iopub.status.busy": "2021-12-16T18:57:24.347641Z",
     "iopub.status.idle": "2021-12-16T18:57:24.362600Z",
     "shell.execute_reply": "2021-12-16T18:57:24.360606Z",
     "shell.execute_reply.started": "2021-12-16T18:57:24.347641Z"
    },
    "tags": []
   },
   "outputs": [
    {
     "data": {
      "text/plain": [
       "17109.000000    128\n",
       "Name: House Number, dtype: int64"
      ]
     },
     "execution_count": 32,
     "metadata": {},
     "output_type": "execute_result"
    }
   ],
   "source": [
    "no_lot_size['House Number'][no_lot_size['Zoning'] == 'RA8h'].value_counts()"
   ]
  },
  {
   "cell_type": "markdown",
   "id": "9622f7ab-c55f-4c40-973e-cc5e78650327",
   "metadata": {},
   "source": [
    "For RA8h, all rows are from the same building (17109 67 Ave NW), but different suites. After looking at old listings at this building, the square footage ranges from 915 - 1152. Converting the median of 1033.5 and converting it to square meters, we get a value of 96 to be imputed."
   ]
  },
  {
   "cell_type": "code",
   "execution_count": 33,
   "id": "c4512d2c",
   "metadata": {
    "execution": {
     "iopub.execute_input": "2021-12-16T18:57:24.365593Z",
     "iopub.status.busy": "2021-12-16T18:57:24.365593Z",
     "iopub.status.idle": "2021-12-16T18:57:24.376566Z",
     "shell.execute_reply": "2021-12-16T18:57:24.375569Z",
     "shell.execute_reply.started": "2021-12-16T18:57:24.365593Z"
    },
    "tags": []
   },
   "outputs": [],
   "source": [
    "def imputer(zone_name, impute_number):\n",
    "    mask = no_lot_size[no_lot_size['Zoning'] == zone_name]\n",
    "    mask_indexes = mask.index.tolist()\n",
    "    resi_house_data.loc[mask_indexes, 'Lot Size'] = impute_number\n",
    "    #sanity check\n",
    "    print(resi_house_data.loc[mask_indexes]['Lot Size'].mean())"
   ]
  },
  {
   "cell_type": "code",
   "execution_count": 34,
   "id": "058213ed-179e-4632-9723-c1a07ca70705",
   "metadata": {
    "execution": {
     "iopub.execute_input": "2021-12-16T18:57:24.378560Z",
     "iopub.status.busy": "2021-12-16T18:57:24.377563Z",
     "iopub.status.idle": "2021-12-16T18:57:24.422496Z",
     "shell.execute_reply": "2021-12-16T18:57:24.422496Z",
     "shell.execute_reply.started": "2021-12-16T18:57:24.378560Z"
    },
    "tags": []
   },
   "outputs": [
    {
     "name": "stdout",
     "output_type": "stream",
     "text": [
      "96.0\n"
     ]
    }
   ],
   "source": [
    "imputer('RA8h', 96)"
   ]
  },
  {
   "cell_type": "code",
   "execution_count": 35,
   "id": "0ebd3a4c",
   "metadata": {
    "execution": {
     "iopub.execute_input": "2021-12-16T18:57:24.424493Z",
     "iopub.status.busy": "2021-12-16T18:57:24.423500Z",
     "iopub.status.idle": "2021-12-16T18:57:24.454385Z",
     "shell.execute_reply": "2021-12-16T18:57:24.454385Z",
     "shell.execute_reply.started": "2021-12-16T18:57:24.424493Z"
    },
    "tags": []
   },
   "outputs": [
    {
     "data": {
      "text/plain": [
       "RF4    21\n",
       "RF1     7\n",
       "RR      2\n",
       "RSL     1\n",
       "Name: Zoning, dtype: int64"
      ]
     },
     "execution_count": 35,
     "metadata": {},
     "output_type": "execute_result"
    }
   ],
   "source": [
    "no_lot_size = resi_house_data[resi_house_data['Lot Size'].isnull() == True]\n",
    "no_lot_size['Zoning'].value_counts()"
   ]
  },
  {
   "cell_type": "code",
   "execution_count": 36,
   "id": "9409f2c1-86ce-43c9-80b8-014f5559d912",
   "metadata": {
    "execution": {
     "iopub.execute_input": "2021-12-16T18:57:24.456380Z",
     "iopub.status.busy": "2021-12-16T18:57:24.455382Z",
     "iopub.status.idle": "2021-12-16T18:57:24.471340Z",
     "shell.execute_reply": "2021-12-16T18:57:24.470342Z",
     "shell.execute_reply.started": "2021-12-16T18:57:24.456380Z"
    },
    "tags": []
   },
   "outputs": [
    {
     "data": {
      "text/plain": [
       "OAK WOOD DRIVE NW       18\n",
       "OAK WOOD CRESCENT NW     3\n",
       "Name: Street Name, dtype: int64"
      ]
     },
     "execution_count": 36,
     "metadata": {},
     "output_type": "execute_result"
    }
   ],
   "source": [
    "no_lot_size['Street Name'][no_lot_size['Zoning'] == 'RF4'].value_counts()"
   ]
  },
  {
   "cell_type": "markdown",
   "id": "c2f7acd1-3af3-4877-a6c0-7a37adb9d9bd",
   "metadata": {},
   "source": [
    "These streets belong to a mobile park, will use the 156 as before"
   ]
  },
  {
   "cell_type": "code",
   "execution_count": 37,
   "id": "2ca5b2e5-69c0-4edb-aa4e-864a4eb2571e",
   "metadata": {
    "execution": {
     "iopub.execute_input": "2021-12-16T18:57:24.473334Z",
     "iopub.status.busy": "2021-12-16T18:57:24.472337Z",
     "iopub.status.idle": "2021-12-16T18:57:24.517218Z",
     "shell.execute_reply": "2021-12-16T18:57:24.517218Z",
     "shell.execute_reply.started": "2021-12-16T18:57:24.473334Z"
    },
    "tags": []
   },
   "outputs": [
    {
     "name": "stdout",
     "output_type": "stream",
     "text": [
      "156.0\n"
     ]
    }
   ],
   "source": [
    "imputer('RF4', 156)"
   ]
  },
  {
   "cell_type": "code",
   "execution_count": 38,
   "id": "ad07e126-3c5f-4344-a7c2-acc677d4739b",
   "metadata": {
    "execution": {
     "iopub.execute_input": "2021-12-16T18:57:24.519211Z",
     "iopub.status.busy": "2021-12-16T18:57:24.518214Z",
     "iopub.status.idle": "2021-12-16T18:57:24.534173Z",
     "shell.execute_reply": "2021-12-16T18:57:24.533173Z",
     "shell.execute_reply.started": "2021-12-16T18:57:24.519211Z"
    },
    "tags": []
   },
   "outputs": [
    {
     "data": {
      "text/plain": [
       "WINTERBURN ROAD NW     4\n",
       "WEST ROYAL PLACE NW    3\n",
       "Name: Street Name, dtype: int64"
      ]
     },
     "execution_count": 38,
     "metadata": {},
     "output_type": "execute_result"
    }
   ],
   "source": [
    "no_lot_size['Street Name'][no_lot_size['Zoning'] == 'RF1'].value_counts()"
   ]
  },
  {
   "cell_type": "markdown",
   "id": "e683643e-3b28-4b37-a47c-09dcb0606bb8",
   "metadata": {},
   "source": [
    "Same here"
   ]
  },
  {
   "cell_type": "code",
   "execution_count": 39,
   "id": "49bb439e-f710-4539-83bf-71416a21e741",
   "metadata": {
    "execution": {
     "iopub.execute_input": "2021-12-16T18:57:24.535170Z",
     "iopub.status.busy": "2021-12-16T18:57:24.535170Z",
     "iopub.status.idle": "2021-12-16T18:57:24.581046Z",
     "shell.execute_reply": "2021-12-16T18:57:24.581046Z",
     "shell.execute_reply.started": "2021-12-16T18:57:24.535170Z"
    },
    "tags": []
   },
   "outputs": [
    {
     "name": "stdout",
     "output_type": "stream",
     "text": [
      "156.0\n"
     ]
    }
   ],
   "source": [
    "imputer('RF1', 156)"
   ]
  },
  {
   "cell_type": "code",
   "execution_count": 40,
   "id": "2428b880-eddc-4833-9ec6-9865226b1dc1",
   "metadata": {
    "execution": {
     "iopub.execute_input": "2021-12-16T18:57:24.582044Z",
     "iopub.status.busy": "2021-12-16T18:57:24.582044Z",
     "iopub.status.idle": "2021-12-16T18:57:24.626931Z",
     "shell.execute_reply": "2021-12-16T18:57:24.626931Z",
     "shell.execute_reply.started": "2021-12-16T18:57:24.582044Z"
    },
    "tags": []
   },
   "outputs": [
    {
     "data": {
      "text/html": [
       "<div>\n",
       "<style scoped>\n",
       "    .dataframe tbody tr th:only-of-type {\n",
       "        vertical-align: middle;\n",
       "    }\n",
       "\n",
       "    .dataframe tbody tr th {\n",
       "        vertical-align: top;\n",
       "    }\n",
       "\n",
       "    .dataframe thead th {\n",
       "        text-align: right;\n",
       "    }\n",
       "</style>\n",
       "<table border=\"1\" class=\"dataframe\">\n",
       "  <thead>\n",
       "    <tr style=\"text-align: right;\">\n",
       "      <th></th>\n",
       "      <th>Account Number</th>\n",
       "      <th>Assessment Year</th>\n",
       "      <th>Suite</th>\n",
       "      <th>House Number</th>\n",
       "      <th>Street Name</th>\n",
       "      <th>Legal Description</th>\n",
       "      <th>Latitude</th>\n",
       "      <th>Longitude</th>\n",
       "      <th>Point Location</th>\n",
       "      <th>Neighbourhood</th>\n",
       "      <th>...</th>\n",
       "      <th>Garage</th>\n",
       "      <th>Zoning</th>\n",
       "      <th>Lot Size</th>\n",
       "      <th>Assessed Value</th>\n",
       "      <th>Assessment Class 1</th>\n",
       "      <th>Assessment Class % 1</th>\n",
       "      <th>Assessment Class 2</th>\n",
       "      <th>Assessment Class % 2</th>\n",
       "      <th>Assessment Class 3</th>\n",
       "      <th>Assessment Class % 3</th>\n",
       "    </tr>\n",
       "  </thead>\n",
       "  <tbody>\n",
       "    <tr>\n",
       "      <th>1828096</th>\n",
       "      <td>9937214</td>\n",
       "      <td>2014</td>\n",
       "      <td>NaN</td>\n",
       "      <td>2360.000000</td>\n",
       "      <td>28 AVENUE SW</td>\n",
       "      <td>NaN</td>\n",
       "      <td>53.409480</td>\n",
       "      <td>-113.380090</td>\n",
       "      <td>POINT (-113.38009 53.40948)</td>\n",
       "      <td>RURAL SOUTH EAST</td>\n",
       "      <td>...</td>\n",
       "      <td>Y</td>\n",
       "      <td>RR</td>\n",
       "      <td>NaN</td>\n",
       "      <td>48000.000000</td>\n",
       "      <td>RESIDENTIAL</td>\n",
       "      <td>100.000000</td>\n",
       "      <td>NaN</td>\n",
       "      <td>NaN</td>\n",
       "      <td>NaN</td>\n",
       "      <td>NaN</td>\n",
       "    </tr>\n",
       "    <tr>\n",
       "      <th>2159655</th>\n",
       "      <td>10007676</td>\n",
       "      <td>2014</td>\n",
       "      <td>NaN</td>\n",
       "      <td>1804.000000</td>\n",
       "      <td>184 STREET SW</td>\n",
       "      <td>NaN</td>\n",
       "      <td>53.414830</td>\n",
       "      <td>-113.645530</td>\n",
       "      <td>POINT (-113.64553 53.41483)</td>\n",
       "      <td>KESWICK AREA</td>\n",
       "      <td>...</td>\n",
       "      <td>N</td>\n",
       "      <td>RSL</td>\n",
       "      <td>NaN</td>\n",
       "      <td>204500.000000</td>\n",
       "      <td>RESIDENTIAL</td>\n",
       "      <td>100.000000</td>\n",
       "      <td>NaN</td>\n",
       "      <td>NaN</td>\n",
       "      <td>NaN</td>\n",
       "      <td>NaN</td>\n",
       "    </tr>\n",
       "    <tr>\n",
       "      <th>2992446</th>\n",
       "      <td>10285625</td>\n",
       "      <td>2014</td>\n",
       "      <td>NaN</td>\n",
       "      <td>2340.000000</td>\n",
       "      <td>28 AVENUE SW</td>\n",
       "      <td>NaN</td>\n",
       "      <td>53.409550</td>\n",
       "      <td>-113.377730</td>\n",
       "      <td>POINT (-113.37773 53.40955)</td>\n",
       "      <td>RURAL SOUTH EAST</td>\n",
       "      <td>...</td>\n",
       "      <td>N</td>\n",
       "      <td>RR</td>\n",
       "      <td>NaN</td>\n",
       "      <td>111000.000000</td>\n",
       "      <td>RESIDENTIAL</td>\n",
       "      <td>100.000000</td>\n",
       "      <td>NaN</td>\n",
       "      <td>NaN</td>\n",
       "      <td>NaN</td>\n",
       "      <td>NaN</td>\n",
       "    </tr>\n",
       "  </tbody>\n",
       "</table>\n",
       "<p>3 rows × 21 columns</p>\n",
       "</div>"
      ],
      "text/plain": [
       "         Account Number  Assessment Year Suite  House Number    Street Name  \\\n",
       "1828096         9937214             2014   NaN   2360.000000   28 AVENUE SW   \n",
       "2159655        10007676             2014   NaN   1804.000000  184 STREET SW   \n",
       "2992446        10285625             2014   NaN   2340.000000   28 AVENUE SW   \n",
       "\n",
       "        Legal Description  Latitude   Longitude               Point Location  \\\n",
       "1828096               NaN 53.409480 -113.380090  POINT (-113.38009 53.40948)   \n",
       "2159655               NaN 53.414830 -113.645530  POINT (-113.64553 53.41483)   \n",
       "2992446               NaN 53.409550 -113.377730  POINT (-113.37773 53.40955)   \n",
       "\n",
       "            Neighbourhood  ...  Garage Zoning Lot Size  Assessed Value  \\\n",
       "1828096  RURAL SOUTH EAST  ...       Y     RR      NaN    48000.000000   \n",
       "2159655      KESWICK AREA  ...       N    RSL      NaN   204500.000000   \n",
       "2992446  RURAL SOUTH EAST  ...       N     RR      NaN   111000.000000   \n",
       "\n",
       "         Assessment Class 1 Assessment Class % 1  Assessment Class 2  \\\n",
       "1828096         RESIDENTIAL           100.000000                 NaN   \n",
       "2159655         RESIDENTIAL           100.000000                 NaN   \n",
       "2992446         RESIDENTIAL           100.000000                 NaN   \n",
       "\n",
       "        Assessment Class % 2  Assessment Class 3 Assessment Class % 3  \n",
       "1828096                  NaN                 NaN                  NaN  \n",
       "2159655                  NaN                 NaN                  NaN  \n",
       "2992446                  NaN                 NaN                  NaN  \n",
       "\n",
       "[3 rows x 21 columns]"
      ]
     },
     "execution_count": 40,
     "metadata": {},
     "output_type": "execute_result"
    }
   ],
   "source": [
    "no_lot_size = resi_house_data[resi_house_data['Lot Size'].isnull() == True]\n",
    "no_lot_size"
   ]
  },
  {
   "cell_type": "markdown",
   "id": "97c93d9c-be35-494c-8e3f-087f5b57aa37",
   "metadata": {},
   "source": [
    "All three final properties appear to be rural properties. Using the https://opengovca.com/ website, we are able to input the correct lot sizes for each location. "
   ]
  },
  {
   "cell_type": "code",
   "execution_count": 41,
   "id": "8cc18670-85a8-44a9-a0f3-7ee96302e39c",
   "metadata": {
    "execution": {
     "iopub.execute_input": "2021-12-16T18:57:24.627961Z",
     "iopub.status.busy": "2021-12-16T18:57:24.627961Z",
     "iopub.status.idle": "2021-12-16T18:57:24.705718Z",
     "shell.execute_reply": "2021-12-16T18:57:24.705718Z",
     "shell.execute_reply.started": "2021-12-16T18:57:24.627961Z"
    }
   },
   "outputs": [],
   "source": [
    "resi_house_data.loc[1828096, 'Lot Size'] = 28237.3410\n",
    "resi_house_data.loc[2159655, 'Lot Size'] = 490470.8341\n",
    "resi_house_data.loc[2992446, 'Lot Size'] = 26643.7690"
   ]
  },
  {
   "cell_type": "code",
   "execution_count": 42,
   "id": "9c237aba-1265-43a5-8bff-696158627de7",
   "metadata": {
    "execution": {
     "iopub.execute_input": "2021-12-16T18:57:24.706715Z",
     "iopub.status.busy": "2021-12-16T18:57:24.706715Z",
     "iopub.status.idle": "2021-12-16T18:57:24.737146Z",
     "shell.execute_reply": "2021-12-16T18:57:24.737146Z",
     "shell.execute_reply.started": "2021-12-16T18:57:24.706715Z"
    }
   },
   "outputs": [
    {
     "data": {
      "text/plain": [
       "Series([], Name: Zoning, dtype: int64)"
      ]
     },
     "execution_count": 42,
     "metadata": {},
     "output_type": "execute_result"
    }
   ],
   "source": [
    "no_lot_size = resi_house_data[resi_house_data['Lot Size'].isnull() == True]\n",
    "no_lot_size['Zoning'].value_counts()"
   ]
  },
  {
   "cell_type": "markdown",
   "id": "a28e704c-7a81-4c8d-91a2-8bcf5d6662a7",
   "metadata": {},
   "source": [
    "Assessed Value and Lot size are all cleaned up"
   ]
  },
  {
   "cell_type": "markdown",
   "id": "22396172",
   "metadata": {},
   "source": [
    "## Check if every property has (address or legal description)"
   ]
  },
  {
   "cell_type": "code",
   "execution_count": 43,
   "id": "20be67ea",
   "metadata": {
    "execution": {
     "iopub.execute_input": "2021-12-16T18:57:24.738145Z",
     "iopub.status.busy": "2021-12-16T18:57:24.738145Z",
     "iopub.status.idle": "2021-12-16T18:57:25.001527Z",
     "shell.execute_reply": "2021-12-16T18:57:25.001527Z",
     "shell.execute_reply.started": "2021-12-16T18:57:24.738145Z"
    },
    "tags": []
   },
   "outputs": [
    {
     "data": {
      "text/html": [
       "<div>\n",
       "<style scoped>\n",
       "    .dataframe tbody tr th:only-of-type {\n",
       "        vertical-align: middle;\n",
       "    }\n",
       "\n",
       "    .dataframe tbody tr th {\n",
       "        vertical-align: top;\n",
       "    }\n",
       "\n",
       "    .dataframe thead th {\n",
       "        text-align: right;\n",
       "    }\n",
       "</style>\n",
       "<table border=\"1\" class=\"dataframe\">\n",
       "  <thead>\n",
       "    <tr style=\"text-align: right;\">\n",
       "      <th></th>\n",
       "      <th>Account Number</th>\n",
       "      <th>Assessment Year</th>\n",
       "      <th>Suite</th>\n",
       "      <th>House Number</th>\n",
       "      <th>Street Name</th>\n",
       "      <th>Legal Description</th>\n",
       "      <th>Latitude</th>\n",
       "      <th>Longitude</th>\n",
       "      <th>Point Location</th>\n",
       "      <th>Neighbourhood</th>\n",
       "      <th>...</th>\n",
       "      <th>Garage</th>\n",
       "      <th>Zoning</th>\n",
       "      <th>Lot Size</th>\n",
       "      <th>Assessed Value</th>\n",
       "      <th>Assessment Class 1</th>\n",
       "      <th>Assessment Class % 1</th>\n",
       "      <th>Assessment Class 2</th>\n",
       "      <th>Assessment Class % 2</th>\n",
       "      <th>Assessment Class 3</th>\n",
       "      <th>Assessment Class % 3</th>\n",
       "    </tr>\n",
       "  </thead>\n",
       "  <tbody>\n",
       "    <tr>\n",
       "      <th>459646</th>\n",
       "      <td>3000429</td>\n",
       "      <td>2012</td>\n",
       "      <td>NaN</td>\n",
       "      <td>NaN</td>\n",
       "      <td>NaN</td>\n",
       "      <td>NaN</td>\n",
       "      <td>53.498540</td>\n",
       "      <td>-113.610090</td>\n",
       "      <td>POINT (-113.61009 53.49854)</td>\n",
       "      <td>OLESKIW</td>\n",
       "      <td>...</td>\n",
       "      <td>N</td>\n",
       "      <td>RF5</td>\n",
       "      <td>10120.000000</td>\n",
       "      <td>5659000.000000</td>\n",
       "      <td>RESIDENTIAL</td>\n",
       "      <td>100.000000</td>\n",
       "      <td>NaN</td>\n",
       "      <td>NaN</td>\n",
       "      <td>NaN</td>\n",
       "      <td>NaN</td>\n",
       "    </tr>\n",
       "    <tr>\n",
       "      <th>460213</th>\n",
       "      <td>3000429</td>\n",
       "      <td>2016</td>\n",
       "      <td>NaN</td>\n",
       "      <td>NaN</td>\n",
       "      <td>NaN</td>\n",
       "      <td>NaN</td>\n",
       "      <td>53.498540</td>\n",
       "      <td>-113.610090</td>\n",
       "      <td>POINT (-113.61009 53.49854)</td>\n",
       "      <td>OLESKIW</td>\n",
       "      <td>...</td>\n",
       "      <td>N</td>\n",
       "      <td>RF5</td>\n",
       "      <td>10120.000000</td>\n",
       "      <td>8281000.000000</td>\n",
       "      <td>RESIDENTIAL</td>\n",
       "      <td>100.000000</td>\n",
       "      <td>NaN</td>\n",
       "      <td>NaN</td>\n",
       "      <td>NaN</td>\n",
       "      <td>NaN</td>\n",
       "    </tr>\n",
       "    <tr>\n",
       "      <th>464659</th>\n",
       "      <td>3000429</td>\n",
       "      <td>2013</td>\n",
       "      <td>NaN</td>\n",
       "      <td>NaN</td>\n",
       "      <td>NaN</td>\n",
       "      <td>NaN</td>\n",
       "      <td>53.498540</td>\n",
       "      <td>-113.610090</td>\n",
       "      <td>POINT (-113.61009 53.49854)</td>\n",
       "      <td>OLESKIW</td>\n",
       "      <td>...</td>\n",
       "      <td>N</td>\n",
       "      <td>RF5</td>\n",
       "      <td>10120.000000</td>\n",
       "      <td>6371000.000000</td>\n",
       "      <td>RESIDENTIAL</td>\n",
       "      <td>100.000000</td>\n",
       "      <td>NaN</td>\n",
       "      <td>NaN</td>\n",
       "      <td>NaN</td>\n",
       "      <td>NaN</td>\n",
       "    </tr>\n",
       "    <tr>\n",
       "      <th>465826</th>\n",
       "      <td>3000429</td>\n",
       "      <td>2017</td>\n",
       "      <td>NaN</td>\n",
       "      <td>NaN</td>\n",
       "      <td>NaN</td>\n",
       "      <td>NaN</td>\n",
       "      <td>53.498540</td>\n",
       "      <td>-113.610090</td>\n",
       "      <td>POINT (-113.61009 53.49854)</td>\n",
       "      <td>OLESKIW</td>\n",
       "      <td>...</td>\n",
       "      <td>N</td>\n",
       "      <td>RF5</td>\n",
       "      <td>10120.000000</td>\n",
       "      <td>7412500.000000</td>\n",
       "      <td>RESIDENTIAL</td>\n",
       "      <td>100.000000</td>\n",
       "      <td>NaN</td>\n",
       "      <td>NaN</td>\n",
       "      <td>NaN</td>\n",
       "      <td>NaN</td>\n",
       "    </tr>\n",
       "    <tr>\n",
       "      <th>469168</th>\n",
       "      <td>3000429</td>\n",
       "      <td>2014</td>\n",
       "      <td>NaN</td>\n",
       "      <td>NaN</td>\n",
       "      <td>NaN</td>\n",
       "      <td>NaN</td>\n",
       "      <td>53.498540</td>\n",
       "      <td>-113.610090</td>\n",
       "      <td>POINT (-113.61009 53.49854)</td>\n",
       "      <td>OLESKIW</td>\n",
       "      <td>...</td>\n",
       "      <td>N</td>\n",
       "      <td>RF5</td>\n",
       "      <td>10120.000000</td>\n",
       "      <td>6689500.000000</td>\n",
       "      <td>RESIDENTIAL</td>\n",
       "      <td>100.000000</td>\n",
       "      <td>NaN</td>\n",
       "      <td>NaN</td>\n",
       "      <td>NaN</td>\n",
       "      <td>NaN</td>\n",
       "    </tr>\n",
       "    <tr>\n",
       "      <th>...</th>\n",
       "      <td>...</td>\n",
       "      <td>...</td>\n",
       "      <td>...</td>\n",
       "      <td>...</td>\n",
       "      <td>...</td>\n",
       "      <td>...</td>\n",
       "      <td>...</td>\n",
       "      <td>...</td>\n",
       "      <td>...</td>\n",
       "      <td>...</td>\n",
       "      <td>...</td>\n",
       "      <td>...</td>\n",
       "      <td>...</td>\n",
       "      <td>...</td>\n",
       "      <td>...</td>\n",
       "      <td>...</td>\n",
       "      <td>...</td>\n",
       "      <td>...</td>\n",
       "      <td>...</td>\n",
       "      <td>...</td>\n",
       "      <td>...</td>\n",
       "    </tr>\n",
       "    <tr>\n",
       "      <th>3381508</th>\n",
       "      <td>10936105</td>\n",
       "      <td>2020</td>\n",
       "      <td>NaN</td>\n",
       "      <td>NaN</td>\n",
       "      <td>NaN</td>\n",
       "      <td>NaN</td>\n",
       "      <td>53.501280</td>\n",
       "      <td>-113.652170</td>\n",
       "      <td>POINT (-113.65217 53.50128)</td>\n",
       "      <td>ORMSBY PLACE</td>\n",
       "      <td>...</td>\n",
       "      <td>N</td>\n",
       "      <td>RF1</td>\n",
       "      <td>202.957000</td>\n",
       "      <td>7500.000000</td>\n",
       "      <td>RESIDENTIAL</td>\n",
       "      <td>100.000000</td>\n",
       "      <td>NaN</td>\n",
       "      <td>NaN</td>\n",
       "      <td>NaN</td>\n",
       "      <td>NaN</td>\n",
       "    </tr>\n",
       "    <tr>\n",
       "      <th>3383629</th>\n",
       "      <td>10971296</td>\n",
       "      <td>2020</td>\n",
       "      <td>NaN</td>\n",
       "      <td>NaN</td>\n",
       "      <td>NaN</td>\n",
       "      <td>NaN</td>\n",
       "      <td>53.607920</td>\n",
       "      <td>-113.393990</td>\n",
       "      <td>POINT (-113.39399 53.60792)</td>\n",
       "      <td>KIRKNESS</td>\n",
       "      <td>...</td>\n",
       "      <td>N</td>\n",
       "      <td>RF4</td>\n",
       "      <td>446.751000</td>\n",
       "      <td>16500.000000</td>\n",
       "      <td>RESIDENTIAL</td>\n",
       "      <td>100.000000</td>\n",
       "      <td>NaN</td>\n",
       "      <td>NaN</td>\n",
       "      <td>NaN</td>\n",
       "      <td>NaN</td>\n",
       "    </tr>\n",
       "    <tr>\n",
       "      <th>3384028</th>\n",
       "      <td>10963810</td>\n",
       "      <td>2020</td>\n",
       "      <td>NaN</td>\n",
       "      <td>NaN</td>\n",
       "      <td>NaN</td>\n",
       "      <td>NaN</td>\n",
       "      <td>53.513520</td>\n",
       "      <td>-113.643810</td>\n",
       "      <td>POINT (-113.64381 53.51352)</td>\n",
       "      <td>ALDERGROVE</td>\n",
       "      <td>...</td>\n",
       "      <td>N</td>\n",
       "      <td>RF1</td>\n",
       "      <td>132.700800</td>\n",
       "      <td>4500.000000</td>\n",
       "      <td>RESIDENTIAL</td>\n",
       "      <td>100.000000</td>\n",
       "      <td>NaN</td>\n",
       "      <td>NaN</td>\n",
       "      <td>NaN</td>\n",
       "      <td>NaN</td>\n",
       "    </tr>\n",
       "    <tr>\n",
       "      <th>3384123</th>\n",
       "      <td>10936091</td>\n",
       "      <td>2019</td>\n",
       "      <td>NaN</td>\n",
       "      <td>NaN</td>\n",
       "      <td>NaN</td>\n",
       "      <td>NaN</td>\n",
       "      <td>53.507800</td>\n",
       "      <td>-113.468050</td>\n",
       "      <td>POINT (-113.46805 53.5078)</td>\n",
       "      <td>HAZELDEAN</td>\n",
       "      <td>...</td>\n",
       "      <td>N</td>\n",
       "      <td>RF3</td>\n",
       "      <td>241.957000</td>\n",
       "      <td>9000.000000</td>\n",
       "      <td>RESIDENTIAL</td>\n",
       "      <td>100.000000</td>\n",
       "      <td>NaN</td>\n",
       "      <td>NaN</td>\n",
       "      <td>NaN</td>\n",
       "      <td>NaN</td>\n",
       "    </tr>\n",
       "    <tr>\n",
       "      <th>3384812</th>\n",
       "      <td>10935148</td>\n",
       "      <td>2020</td>\n",
       "      <td>NaN</td>\n",
       "      <td>NaN</td>\n",
       "      <td>NaN</td>\n",
       "      <td>NaN</td>\n",
       "      <td>53.455550</td>\n",
       "      <td>-113.464230</td>\n",
       "      <td>POINT (-113.46423 53.45555)</td>\n",
       "      <td>MEYONOHK</td>\n",
       "      <td>...</td>\n",
       "      <td>N</td>\n",
       "      <td>RF1</td>\n",
       "      <td>157.130000</td>\n",
       "      <td>5500.000000</td>\n",
       "      <td>RESIDENTIAL</td>\n",
       "      <td>100.000000</td>\n",
       "      <td>NaN</td>\n",
       "      <td>NaN</td>\n",
       "      <td>NaN</td>\n",
       "      <td>NaN</td>\n",
       "    </tr>\n",
       "  </tbody>\n",
       "</table>\n",
       "<p>3187 rows × 21 columns</p>\n",
       "</div>"
      ],
      "text/plain": [
       "         Account Number  Assessment Year Suite  House Number Street Name  \\\n",
       "459646          3000429             2012   NaN           NaN         NaN   \n",
       "460213          3000429             2016   NaN           NaN         NaN   \n",
       "464659          3000429             2013   NaN           NaN         NaN   \n",
       "465826          3000429             2017   NaN           NaN         NaN   \n",
       "469168          3000429             2014   NaN           NaN         NaN   \n",
       "...                 ...              ...   ...           ...         ...   \n",
       "3381508        10936105             2020   NaN           NaN         NaN   \n",
       "3383629        10971296             2020   NaN           NaN         NaN   \n",
       "3384028        10963810             2020   NaN           NaN         NaN   \n",
       "3384123        10936091             2019   NaN           NaN         NaN   \n",
       "3384812        10935148             2020   NaN           NaN         NaN   \n",
       "\n",
       "        Legal Description  Latitude   Longitude               Point Location  \\\n",
       "459646                NaN 53.498540 -113.610090  POINT (-113.61009 53.49854)   \n",
       "460213                NaN 53.498540 -113.610090  POINT (-113.61009 53.49854)   \n",
       "464659                NaN 53.498540 -113.610090  POINT (-113.61009 53.49854)   \n",
       "465826                NaN 53.498540 -113.610090  POINT (-113.61009 53.49854)   \n",
       "469168                NaN 53.498540 -113.610090  POINT (-113.61009 53.49854)   \n",
       "...                   ...       ...         ...                          ...   \n",
       "3381508               NaN 53.501280 -113.652170  POINT (-113.65217 53.50128)   \n",
       "3383629               NaN 53.607920 -113.393990  POINT (-113.39399 53.60792)   \n",
       "3384028               NaN 53.513520 -113.643810  POINT (-113.64381 53.51352)   \n",
       "3384123               NaN 53.507800 -113.468050   POINT (-113.46805 53.5078)   \n",
       "3384812               NaN 53.455550 -113.464230  POINT (-113.46423 53.45555)   \n",
       "\n",
       "        Neighbourhood  ...  Garage Zoning     Lot Size  Assessed Value  \\\n",
       "459646        OLESKIW  ...       N    RF5 10120.000000  5659000.000000   \n",
       "460213        OLESKIW  ...       N    RF5 10120.000000  8281000.000000   \n",
       "464659        OLESKIW  ...       N    RF5 10120.000000  6371000.000000   \n",
       "465826        OLESKIW  ...       N    RF5 10120.000000  7412500.000000   \n",
       "469168        OLESKIW  ...       N    RF5 10120.000000  6689500.000000   \n",
       "...               ...  ...     ...    ...          ...             ...   \n",
       "3381508  ORMSBY PLACE  ...       N    RF1   202.957000     7500.000000   \n",
       "3383629      KIRKNESS  ...       N    RF4   446.751000    16500.000000   \n",
       "3384028    ALDERGROVE  ...       N    RF1   132.700800     4500.000000   \n",
       "3384123     HAZELDEAN  ...       N    RF3   241.957000     9000.000000   \n",
       "3384812      MEYONOHK  ...       N    RF1   157.130000     5500.000000   \n",
       "\n",
       "         Assessment Class 1 Assessment Class % 1  Assessment Class 2  \\\n",
       "459646          RESIDENTIAL           100.000000                 NaN   \n",
       "460213          RESIDENTIAL           100.000000                 NaN   \n",
       "464659          RESIDENTIAL           100.000000                 NaN   \n",
       "465826          RESIDENTIAL           100.000000                 NaN   \n",
       "469168          RESIDENTIAL           100.000000                 NaN   \n",
       "...                     ...                  ...                 ...   \n",
       "3381508         RESIDENTIAL           100.000000                 NaN   \n",
       "3383629         RESIDENTIAL           100.000000                 NaN   \n",
       "3384028         RESIDENTIAL           100.000000                 NaN   \n",
       "3384123         RESIDENTIAL           100.000000                 NaN   \n",
       "3384812         RESIDENTIAL           100.000000                 NaN   \n",
       "\n",
       "        Assessment Class % 2  Assessment Class 3 Assessment Class % 3  \n",
       "459646                   NaN                 NaN                  NaN  \n",
       "460213                   NaN                 NaN                  NaN  \n",
       "464659                   NaN                 NaN                  NaN  \n",
       "465826                   NaN                 NaN                  NaN  \n",
       "469168                   NaN                 NaN                  NaN  \n",
       "...                      ...                 ...                  ...  \n",
       "3381508                  NaN                 NaN                  NaN  \n",
       "3383629                  NaN                 NaN                  NaN  \n",
       "3384028                  NaN                 NaN                  NaN  \n",
       "3384123                  NaN                 NaN                  NaN  \n",
       "3384812                  NaN                 NaN                  NaN  \n",
       "\n",
       "[3187 rows x 21 columns]"
      ]
     },
     "execution_count": 43,
     "metadata": {},
     "output_type": "execute_result"
    }
   ],
   "source": [
    "no_addy_df = resi_house_data[resi_house_data['Street Name'].isnull() & resi_house_data['Legal Description'].isnull()]\n",
    "no_addy_df"
   ]
  },
  {
   "cell_type": "code",
   "execution_count": 44,
   "id": "d38c9dcf",
   "metadata": {
    "execution": {
     "iopub.execute_input": "2021-12-16T18:57:25.002523Z",
     "iopub.status.busy": "2021-12-16T18:57:25.002523Z",
     "iopub.status.idle": "2021-12-16T18:57:25.018013Z",
     "shell.execute_reply": "2021-12-16T18:57:25.017486Z",
     "shell.execute_reply.started": "2021-12-16T18:57:25.002523Z"
    },
    "tags": []
   },
   "outputs": [
    {
     "data": {
      "text/plain": [
       "9992002     9\n",
       "9994852     9\n",
       "9995012     9\n",
       "9994708     9\n",
       "9995505     9\n",
       "           ..\n",
       "10965244    1\n",
       "10966722    1\n",
       "10971296    1\n",
       "10963810    1\n",
       "10935148    1\n",
       "Name: Account Number, Length: 386, dtype: int64"
      ]
     },
     "execution_count": 44,
     "metadata": {},
     "output_type": "execute_result"
    }
   ],
   "source": [
    "no_addy_df['Account Number'].value_counts()"
   ]
  },
  {
   "cell_type": "markdown",
   "id": "41ddca7b",
   "metadata": {},
   "source": [
    "There are 386 properties with no address - lets confirm that they all have point locations at least."
   ]
  },
  {
   "cell_type": "code",
   "execution_count": 45,
   "id": "5eb41394",
   "metadata": {
    "execution": {
     "iopub.execute_input": "2021-12-16T18:57:25.018997Z",
     "iopub.status.busy": "2021-12-16T18:57:25.018997Z",
     "iopub.status.idle": "2021-12-16T18:57:25.048914Z",
     "shell.execute_reply": "2021-12-16T18:57:25.048914Z",
     "shell.execute_reply.started": "2021-12-16T18:57:25.018997Z"
    },
    "tags": []
   },
   "outputs": [
    {
     "data": {
      "text/html": [
       "<div>\n",
       "<style scoped>\n",
       "    .dataframe tbody tr th:only-of-type {\n",
       "        vertical-align: middle;\n",
       "    }\n",
       "\n",
       "    .dataframe tbody tr th {\n",
       "        vertical-align: top;\n",
       "    }\n",
       "\n",
       "    .dataframe thead th {\n",
       "        text-align: right;\n",
       "    }\n",
       "</style>\n",
       "<table border=\"1\" class=\"dataframe\">\n",
       "  <thead>\n",
       "    <tr style=\"text-align: right;\">\n",
       "      <th></th>\n",
       "      <th>Account Number</th>\n",
       "      <th>Assessment Year</th>\n",
       "      <th>Suite</th>\n",
       "      <th>House Number</th>\n",
       "      <th>Street Name</th>\n",
       "      <th>Legal Description</th>\n",
       "      <th>Latitude</th>\n",
       "      <th>Longitude</th>\n",
       "      <th>Point Location</th>\n",
       "      <th>Neighbourhood</th>\n",
       "      <th>...</th>\n",
       "      <th>Garage</th>\n",
       "      <th>Zoning</th>\n",
       "      <th>Lot Size</th>\n",
       "      <th>Assessed Value</th>\n",
       "      <th>Assessment Class 1</th>\n",
       "      <th>Assessment Class % 1</th>\n",
       "      <th>Assessment Class 2</th>\n",
       "      <th>Assessment Class % 2</th>\n",
       "      <th>Assessment Class 3</th>\n",
       "      <th>Assessment Class % 3</th>\n",
       "    </tr>\n",
       "  </thead>\n",
       "  <tbody>\n",
       "    <tr>\n",
       "      <th>1996073</th>\n",
       "      <td>9988893</td>\n",
       "      <td>2013</td>\n",
       "      <td>NaN</td>\n",
       "      <td>NaN</td>\n",
       "      <td>NaN</td>\n",
       "      <td>NaN</td>\n",
       "      <td>NaN</td>\n",
       "      <td>NaN</td>\n",
       "      <td>NaN</td>\n",
       "      <td>WESTMOUNT</td>\n",
       "      <td>...</td>\n",
       "      <td>N</td>\n",
       "      <td>RF3</td>\n",
       "      <td>208.807000</td>\n",
       "      <td>7500.000000</td>\n",
       "      <td>RESIDENTIAL</td>\n",
       "      <td>100.000000</td>\n",
       "      <td>NaN</td>\n",
       "      <td>NaN</td>\n",
       "      <td>NaN</td>\n",
       "      <td>NaN</td>\n",
       "    </tr>\n",
       "    <tr>\n",
       "      <th>1998906</th>\n",
       "      <td>9988893</td>\n",
       "      <td>2016</td>\n",
       "      <td>NaN</td>\n",
       "      <td>NaN</td>\n",
       "      <td>NaN</td>\n",
       "      <td>NaN</td>\n",
       "      <td>NaN</td>\n",
       "      <td>NaN</td>\n",
       "      <td>NaN</td>\n",
       "      <td>WESTMOUNT</td>\n",
       "      <td>...</td>\n",
       "      <td>N</td>\n",
       "      <td>RF3</td>\n",
       "      <td>208.807000</td>\n",
       "      <td>7500.000000</td>\n",
       "      <td>RESIDENTIAL</td>\n",
       "      <td>100.000000</td>\n",
       "      <td>NaN</td>\n",
       "      <td>NaN</td>\n",
       "      <td>NaN</td>\n",
       "      <td>NaN</td>\n",
       "    </tr>\n",
       "    <tr>\n",
       "      <th>2002300</th>\n",
       "      <td>9988893</td>\n",
       "      <td>2017</td>\n",
       "      <td>NaN</td>\n",
       "      <td>NaN</td>\n",
       "      <td>NaN</td>\n",
       "      <td>NaN</td>\n",
       "      <td>NaN</td>\n",
       "      <td>NaN</td>\n",
       "      <td>NaN</td>\n",
       "      <td>WESTMOUNT</td>\n",
       "      <td>...</td>\n",
       "      <td>N</td>\n",
       "      <td>RF3</td>\n",
       "      <td>208.807000</td>\n",
       "      <td>7500.000000</td>\n",
       "      <td>RESIDENTIAL</td>\n",
       "      <td>100.000000</td>\n",
       "      <td>NaN</td>\n",
       "      <td>NaN</td>\n",
       "      <td>NaN</td>\n",
       "      <td>NaN</td>\n",
       "    </tr>\n",
       "    <tr>\n",
       "      <th>2004027</th>\n",
       "      <td>9988893</td>\n",
       "      <td>2015</td>\n",
       "      <td>NaN</td>\n",
       "      <td>NaN</td>\n",
       "      <td>NaN</td>\n",
       "      <td>NaN</td>\n",
       "      <td>NaN</td>\n",
       "      <td>NaN</td>\n",
       "      <td>NaN</td>\n",
       "      <td>WESTMOUNT</td>\n",
       "      <td>...</td>\n",
       "      <td>N</td>\n",
       "      <td>RF3</td>\n",
       "      <td>208.807000</td>\n",
       "      <td>7500.000000</td>\n",
       "      <td>RESIDENTIAL</td>\n",
       "      <td>100.000000</td>\n",
       "      <td>NaN</td>\n",
       "      <td>NaN</td>\n",
       "      <td>NaN</td>\n",
       "      <td>NaN</td>\n",
       "    </tr>\n",
       "    <tr>\n",
       "      <th>2007441</th>\n",
       "      <td>9988893</td>\n",
       "      <td>2012</td>\n",
       "      <td>NaN</td>\n",
       "      <td>NaN</td>\n",
       "      <td>NaN</td>\n",
       "      <td>NaN</td>\n",
       "      <td>NaN</td>\n",
       "      <td>NaN</td>\n",
       "      <td>NaN</td>\n",
       "      <td>WESTMOUNT</td>\n",
       "      <td>...</td>\n",
       "      <td>N</td>\n",
       "      <td>RF3</td>\n",
       "      <td>208.807000</td>\n",
       "      <td>6000.000000</td>\n",
       "      <td>RESIDENTIAL</td>\n",
       "      <td>100.000000</td>\n",
       "      <td>NaN</td>\n",
       "      <td>NaN</td>\n",
       "      <td>NaN</td>\n",
       "      <td>NaN</td>\n",
       "    </tr>\n",
       "    <tr>\n",
       "      <th>2009414</th>\n",
       "      <td>9988893</td>\n",
       "      <td>2014</td>\n",
       "      <td>NaN</td>\n",
       "      <td>NaN</td>\n",
       "      <td>NaN</td>\n",
       "      <td>NaN</td>\n",
       "      <td>NaN</td>\n",
       "      <td>NaN</td>\n",
       "      <td>NaN</td>\n",
       "      <td>WESTMOUNT</td>\n",
       "      <td>...</td>\n",
       "      <td>N</td>\n",
       "      <td>RF3</td>\n",
       "      <td>208.807000</td>\n",
       "      <td>7500.000000</td>\n",
       "      <td>RESIDENTIAL</td>\n",
       "      <td>100.000000</td>\n",
       "      <td>NaN</td>\n",
       "      <td>NaN</td>\n",
       "      <td>NaN</td>\n",
       "      <td>NaN</td>\n",
       "    </tr>\n",
       "  </tbody>\n",
       "</table>\n",
       "<p>6 rows × 21 columns</p>\n",
       "</div>"
      ],
      "text/plain": [
       "         Account Number  Assessment Year Suite  House Number Street Name  \\\n",
       "1996073         9988893             2013   NaN           NaN         NaN   \n",
       "1998906         9988893             2016   NaN           NaN         NaN   \n",
       "2002300         9988893             2017   NaN           NaN         NaN   \n",
       "2004027         9988893             2015   NaN           NaN         NaN   \n",
       "2007441         9988893             2012   NaN           NaN         NaN   \n",
       "2009414         9988893             2014   NaN           NaN         NaN   \n",
       "\n",
       "        Legal Description  Latitude  Longitude Point Location Neighbourhood  \\\n",
       "1996073               NaN       NaN        NaN            NaN     WESTMOUNT   \n",
       "1998906               NaN       NaN        NaN            NaN     WESTMOUNT   \n",
       "2002300               NaN       NaN        NaN            NaN     WESTMOUNT   \n",
       "2004027               NaN       NaN        NaN            NaN     WESTMOUNT   \n",
       "2007441               NaN       NaN        NaN            NaN     WESTMOUNT   \n",
       "2009414               NaN       NaN        NaN            NaN     WESTMOUNT   \n",
       "\n",
       "         ...  Garage Zoning   Lot Size  Assessed Value  Assessment Class 1  \\\n",
       "1996073  ...       N    RF3 208.807000     7500.000000         RESIDENTIAL   \n",
       "1998906  ...       N    RF3 208.807000     7500.000000         RESIDENTIAL   \n",
       "2002300  ...       N    RF3 208.807000     7500.000000         RESIDENTIAL   \n",
       "2004027  ...       N    RF3 208.807000     7500.000000         RESIDENTIAL   \n",
       "2007441  ...       N    RF3 208.807000     6000.000000         RESIDENTIAL   \n",
       "2009414  ...       N    RF3 208.807000     7500.000000         RESIDENTIAL   \n",
       "\n",
       "        Assessment Class % 1  Assessment Class 2 Assessment Class % 2  \\\n",
       "1996073           100.000000                 NaN                  NaN   \n",
       "1998906           100.000000                 NaN                  NaN   \n",
       "2002300           100.000000                 NaN                  NaN   \n",
       "2004027           100.000000                 NaN                  NaN   \n",
       "2007441           100.000000                 NaN                  NaN   \n",
       "2009414           100.000000                 NaN                  NaN   \n",
       "\n",
       "         Assessment Class 3 Assessment Class % 3  \n",
       "1996073                 NaN                  NaN  \n",
       "1998906                 NaN                  NaN  \n",
       "2002300                 NaN                  NaN  \n",
       "2004027                 NaN                  NaN  \n",
       "2007441                 NaN                  NaN  \n",
       "2009414                 NaN                  NaN  \n",
       "\n",
       "[6 rows x 21 columns]"
      ]
     },
     "execution_count": 45,
     "metadata": {},
     "output_type": "execute_result"
    }
   ],
   "source": [
    "no_addy_df[no_addy_df['Point Location'].isnull() == True]"
   ]
  },
  {
   "cell_type": "markdown",
   "id": "33bbf700",
   "metadata": {},
   "source": [
    "Here is one property (multiple assessments) with no address or map location. Will remove this property from dataset."
   ]
  },
  {
   "cell_type": "code",
   "execution_count": 46,
   "id": "7aad77b0",
   "metadata": {
    "execution": {
     "iopub.execute_input": "2021-12-16T18:57:25.049912Z",
     "iopub.status.busy": "2021-12-16T18:57:25.049912Z",
     "iopub.status.idle": "2021-12-16T18:57:25.064874Z",
     "shell.execute_reply": "2021-12-16T18:57:25.064874Z",
     "shell.execute_reply.started": "2021-12-16T18:57:25.049912Z"
    },
    "tags": []
   },
   "outputs": [],
   "source": [
    "remove_index_list = no_addy_df[no_addy_df['Point Location'].isnull() == True].index"
   ]
  },
  {
   "cell_type": "code",
   "execution_count": 47,
   "id": "dcd020f2",
   "metadata": {
    "execution": {
     "iopub.execute_input": "2021-12-16T18:57:25.065872Z",
     "iopub.status.busy": "2021-12-16T18:57:25.065872Z",
     "iopub.status.idle": "2021-12-16T18:57:25.565533Z",
     "shell.execute_reply": "2021-12-16T18:57:25.565533Z",
     "shell.execute_reply.started": "2021-12-16T18:57:25.065872Z"
    },
    "tags": []
   },
   "outputs": [
    {
     "name": "stdout",
     "output_type": "stream",
     "text": [
      "(2789026, 21)\n",
      "(2789020, 21)\n"
     ]
    }
   ],
   "source": [
    "print(resi_house_data.shape)\n",
    "resi_house_data.drop(remove_index_list, inplace=True)\n",
    "#confirm drop\n",
    "print(resi_house_data.shape)"
   ]
  },
  {
   "cell_type": "markdown",
   "id": "6b63ca34",
   "metadata": {},
   "source": [
    "## incorporate wards into dataset"
   ]
  },
  {
   "cell_type": "code",
   "execution_count": 50,
   "id": "fa40e83a-3057-4273-9238-45263c3a472d",
   "metadata": {
    "execution": {
     "iopub.execute_input": "2021-12-16T19:10:06.908319Z",
     "iopub.status.busy": "2021-12-16T19:10:06.907323Z",
     "iopub.status.idle": "2021-12-16T19:10:07.880676Z",
     "shell.execute_reply": "2021-12-16T19:10:07.880676Z",
     "shell.execute_reply.started": "2021-12-16T19:10:06.908319Z"
    }
   },
   "outputs": [],
   "source": [
    "current_house_data = pd.read_csv('../data/raw/Property_Assessment_Data__Current_Calendar_Year_.csv')"
   ]
  },
  {
   "cell_type": "code",
   "execution_count": 51,
   "id": "49f74a28",
   "metadata": {
    "execution": {
     "iopub.execute_input": "2021-12-16T19:10:07.881582Z",
     "iopub.status.busy": "2021-12-16T19:10:07.881582Z",
     "iopub.status.idle": "2021-12-16T19:10:07.928456Z",
     "shell.execute_reply": "2021-12-16T19:10:07.928456Z",
     "shell.execute_reply.started": "2021-12-16T19:10:07.881582Z"
    },
    "tags": []
   },
   "outputs": [
    {
     "data": {
      "text/plain": [
       "O-day'min Ward                38310\n",
       "Ipiihkoohkanipiaohtsi Ward    36914\n",
       "Métis Ward                    36510\n",
       "pihêsiwin Ward                36353\n",
       "sipiwiyiniwak Ward            36152\n",
       "Karhiio Ward                  35373\n",
       "Nakota Isga Ward              34355\n",
       "Dene Ward                     33862\n",
       "Anirniq Ward                  33571\n",
       "papastew Ward                 31793\n",
       "tastawiyiniwak Ward           29961\n",
       "Sspomitapi Ward               28006\n",
       "Name: Ward, dtype: int64"
      ]
     },
     "execution_count": 51,
     "metadata": {},
     "output_type": "execute_result"
    }
   ],
   "source": [
    "current_house_data['Ward'].value_counts()"
   ]
  },
  {
   "cell_type": "code",
   "execution_count": 52,
   "id": "42032971",
   "metadata": {
    "execution": {
     "iopub.execute_input": "2021-12-16T19:10:08.130513Z",
     "iopub.status.busy": "2021-12-16T19:10:08.130513Z",
     "iopub.status.idle": "2021-12-16T19:10:08.148466Z",
     "shell.execute_reply": "2021-12-16T19:10:08.148466Z",
     "shell.execute_reply.started": "2021-12-16T19:10:08.130513Z"
    },
    "tags": []
   },
   "outputs": [
    {
     "data": {
      "text/html": [
       "<div>\n",
       "<style scoped>\n",
       "    .dataframe tbody tr th:only-of-type {\n",
       "        vertical-align: middle;\n",
       "    }\n",
       "\n",
       "    .dataframe tbody tr th {\n",
       "        vertical-align: top;\n",
       "    }\n",
       "\n",
       "    .dataframe thead th {\n",
       "        text-align: right;\n",
       "    }\n",
       "</style>\n",
       "<table border=\"1\" class=\"dataframe\">\n",
       "  <thead>\n",
       "    <tr style=\"text-align: right;\">\n",
       "      <th></th>\n",
       "      <th>Ward</th>\n",
       "      <th>Neighbourhood</th>\n",
       "    </tr>\n",
       "  </thead>\n",
       "  <tbody>\n",
       "    <tr>\n",
       "      <th>0</th>\n",
       "      <td>Karhiio Ward</td>\n",
       "      <td>SUMMERSIDE</td>\n",
       "    </tr>\n",
       "    <tr>\n",
       "      <th>1</th>\n",
       "      <td>tastawiyiniwak Ward</td>\n",
       "      <td>BELLE RIVE</td>\n",
       "    </tr>\n",
       "    <tr>\n",
       "      <th>2</th>\n",
       "      <td>tastawiyiniwak Ward</td>\n",
       "      <td>BEAUMARIS</td>\n",
       "    </tr>\n",
       "    <tr>\n",
       "      <th>3</th>\n",
       "      <td>sipiwiyiniwak Ward</td>\n",
       "      <td>RIO TERRACE</td>\n",
       "    </tr>\n",
       "    <tr>\n",
       "      <th>4</th>\n",
       "      <td>sipiwiyiniwak Ward</td>\n",
       "      <td>WESTRIDGE</td>\n",
       "    </tr>\n",
       "    <tr>\n",
       "      <th>...</th>\n",
       "      <td>...</td>\n",
       "      <td>...</td>\n",
       "    </tr>\n",
       "    <tr>\n",
       "      <th>411161</th>\n",
       "      <td>Ipiihkoohkanipiaohtsi Ward</td>\n",
       "      <td>CHAPPELLE AREA</td>\n",
       "    </tr>\n",
       "    <tr>\n",
       "      <th>411162</th>\n",
       "      <td>Ipiihkoohkanipiaohtsi Ward</td>\n",
       "      <td>CAVANAGH</td>\n",
       "    </tr>\n",
       "    <tr>\n",
       "      <th>411163</th>\n",
       "      <td>Nakota Isga Ward</td>\n",
       "      <td>WEBBER GREENS</td>\n",
       "    </tr>\n",
       "    <tr>\n",
       "      <th>411164</th>\n",
       "      <td>sipiwiyiniwak Ward</td>\n",
       "      <td>EDGEMONT</td>\n",
       "    </tr>\n",
       "    <tr>\n",
       "      <th>411165</th>\n",
       "      <td>Nakota Isga Ward</td>\n",
       "      <td>STARLING</td>\n",
       "    </tr>\n",
       "  </tbody>\n",
       "</table>\n",
       "<p>411166 rows × 2 columns</p>\n",
       "</div>"
      ],
      "text/plain": [
       "                              Ward   Neighbourhood\n",
       "0                     Karhiio Ward      SUMMERSIDE\n",
       "1              tastawiyiniwak Ward      BELLE RIVE\n",
       "2              tastawiyiniwak Ward       BEAUMARIS\n",
       "3               sipiwiyiniwak Ward     RIO TERRACE\n",
       "4               sipiwiyiniwak Ward       WESTRIDGE\n",
       "...                            ...             ...\n",
       "411161  Ipiihkoohkanipiaohtsi Ward  CHAPPELLE AREA\n",
       "411162  Ipiihkoohkanipiaohtsi Ward        CAVANAGH\n",
       "411163            Nakota Isga Ward   WEBBER GREENS\n",
       "411164          sipiwiyiniwak Ward        EDGEMONT\n",
       "411165            Nakota Isga Ward        STARLING\n",
       "\n",
       "[411166 rows x 2 columns]"
      ]
     },
     "execution_count": 52,
     "metadata": {},
     "output_type": "execute_result"
    }
   ],
   "source": [
    "ward_mask = current_house_data[['Ward','Neighbourhood']]\n",
    "ward_mask"
   ]
  },
  {
   "cell_type": "code",
   "execution_count": 53,
   "id": "551f84ad",
   "metadata": {
    "execution": {
     "iopub.execute_input": "2021-12-16T19:10:09.642088Z",
     "iopub.status.busy": "2021-12-16T19:10:09.642088Z",
     "iopub.status.idle": "2021-12-16T19:10:09.728856Z",
     "shell.execute_reply": "2021-12-16T19:10:09.728856Z",
     "shell.execute_reply.started": "2021-12-16T19:10:09.642088Z"
    },
    "tags": []
   },
   "outputs": [
    {
     "data": {
      "text/plain": [
       "Ward\n",
       "Anirniq Ward                  [HAGMANN ESTATE INDUSTRIAL, GAGNON ESTATE INDU...\n",
       "Dene Ward                     [RURAL NORTH EAST HORSE HILL, FRASER, BANNERMA...\n",
       "Ipiihkoohkanipiaohtsi Ward    [SKYRATTLER, KEHEEWIN, BEARSPAW, BLUE QUILL, R...\n",
       "Karhiio Ward                  [SUMMERSIDE, MEYONOHK, SAKAW, ELLERSLIE, MEYOK...\n",
       "Métis Ward                    [EASTGATE BUSINESS PARK, WEIR INDUSTRIAL, MONT...\n",
       "Nakota Isga Ward              [GLENWOOD, WEST JASPER PLACE, ALDERGROVE, WINT...\n",
       "O-day'min Ward                [OLIVER, CENTRAL MCDOUGALL, WESTMOUNT, QUEEN M...\n",
       "Sspomitapi Ward               [MAPLE RIDGE, BISSET, WEINLOS, POLLARD MEADOWS...\n",
       "papastew Ward                 [STRATHCONA, QUEEN ALEXANDRA, GARNEAU, EMPIRE ...\n",
       "pihêsiwin Ward                [RAMSAY HEIGHTS, HENDERSON ESTATES, RHATIGAN R...\n",
       "sipiwiyiniwak Ward            [RIO TERRACE, WESTRIDGE, MEADOWLARK PARK, JASP...\n",
       "tastawiyiniwak Ward           [BELLE RIVE, BEAUMARIS, LAGO LINDO, KILKENNY, ...\n",
       "Name: Neighbourhood, dtype: object"
      ]
     },
     "execution_count": 53,
     "metadata": {},
     "output_type": "execute_result"
    }
   ],
   "source": [
    "ward_mask.groupby('Ward')['Neighbourhood'].unique()"
   ]
  },
  {
   "cell_type": "code",
   "execution_count": 54,
   "id": "22bc8018",
   "metadata": {
    "execution": {
     "iopub.execute_input": "2021-12-16T19:10:11.290678Z",
     "iopub.status.busy": "2021-12-16T19:10:11.290678Z",
     "iopub.status.idle": "2021-12-16T19:10:11.383586Z",
     "shell.execute_reply": "2021-12-16T19:10:11.382587Z",
     "shell.execute_reply.started": "2021-12-16T19:10:11.290678Z"
    },
    "tags": []
   },
   "outputs": [],
   "source": [
    "ward_dict = ward_mask.groupby('Ward')['Neighbourhood'].unique().to_dict()"
   ]
  },
  {
   "cell_type": "code",
   "execution_count": 55,
   "id": "8e87b3e2",
   "metadata": {
    "execution": {
     "iopub.execute_input": "2021-12-16T19:10:11.635204Z",
     "iopub.status.busy": "2021-12-16T19:10:11.634171Z",
     "iopub.status.idle": "2021-12-16T19:10:11.646138Z",
     "shell.execute_reply": "2021-12-16T19:10:11.645172Z",
     "shell.execute_reply.started": "2021-12-16T19:10:11.635204Z"
    },
    "tags": []
   },
   "outputs": [],
   "source": [
    "ward_dict = {k:v.tolist() for k,v in ward_dict.items()}"
   ]
  },
  {
   "cell_type": "code",
   "execution_count": 56,
   "id": "024d84e7",
   "metadata": {
    "execution": {
     "iopub.execute_input": "2021-12-16T19:10:11.922459Z",
     "iopub.status.busy": "2021-12-16T19:10:11.922459Z",
     "iopub.status.idle": "2021-12-16T19:10:11.941394Z",
     "shell.execute_reply": "2021-12-16T19:10:11.941394Z",
     "shell.execute_reply.started": "2021-12-16T19:10:11.922459Z"
    },
    "tags": []
   },
   "outputs": [
    {
     "data": {
      "text/plain": [
       "['RURAL NORTH EAST HORSE HILL',\n",
       " 'FRASER',\n",
       " 'BANNERMAN',\n",
       " 'HAIRSINE',\n",
       " 'BELVEDERE',\n",
       " 'CLOVER BAR AREA',\n",
       " 'CASSELMAN',\n",
       " 'EDMONTON ENERGY AND TECHNOLOGY PARK',\n",
       " 'RURAL NORTH EAST SOUTH STURGEON',\n",
       " 'KIRKNESS',\n",
       " 'ANTHONY HENDAY HORSE HILL',\n",
       " 'YORK',\n",
       " 'EBBERS',\n",
       " 'HOMESTEADER',\n",
       " 'MARQUIS',\n",
       " 'GORMAN',\n",
       " 'KENNEDALE INDUSTRIAL',\n",
       " 'CY BECKER',\n",
       " 'MCCONACHIE AREA',\n",
       " 'BRINTNELL',\n",
       " 'ANTHONY HENDAY ENERGY PARK',\n",
       " 'OVERLANDERS',\n",
       " 'EVERGREEN',\n",
       " 'ANTHONY HENDAY CLAREVIEW',\n",
       " 'MCLEOD',\n",
       " 'MATT BERRY',\n",
       " 'HOLLICK-KENYON',\n",
       " 'KERNOHAN',\n",
       " 'RIVER VALLEY HERMITAGE',\n",
       " 'CLAREVIEW TOWN CENTRE',\n",
       " 'BELMONT',\n",
       " 'CANON RIDGE',\n",
       " 'SIFTON PARK',\n",
       " 'MILLER']"
      ]
     },
     "execution_count": 56,
     "metadata": {},
     "output_type": "execute_result"
    }
   ],
   "source": [
    "ward_dict['Dene Ward']"
   ]
  },
  {
   "cell_type": "code",
   "execution_count": 57,
   "id": "6b75c0bf",
   "metadata": {
    "execution": {
     "iopub.execute_input": "2021-12-16T19:10:12.460608Z",
     "iopub.status.busy": "2021-12-16T19:10:12.459610Z",
     "iopub.status.idle": "2021-12-16T19:10:12.472576Z",
     "shell.execute_reply": "2021-12-16T19:10:12.471578Z",
     "shell.execute_reply.started": "2021-12-16T19:10:12.460608Z"
    },
    "tags": []
   },
   "outputs": [
    {
     "name": "stdout",
     "output_type": "stream",
     "text": [
      "no\n",
      "no\n",
      "Ipiihkoohkanipiaohtsi Ward\n",
      "no\n",
      "no\n",
      "no\n",
      "no\n",
      "no\n",
      "no\n",
      "no\n",
      "no\n",
      "no\n"
     ]
    }
   ],
   "source": [
    "test = 'BEARSPAW'\n",
    "for index, value in enumerate(ward_dict.values()):\n",
    "    if test in value:   \n",
    "        print(list(ward_dict)[index])\n",
    "    else:\n",
    "        print('no')"
   ]
  },
  {
   "cell_type": "code",
   "execution_count": 58,
   "id": "cc0d84bf",
   "metadata": {
    "execution": {
     "iopub.execute_input": "2021-12-16T19:10:13.043034Z",
     "iopub.status.busy": "2021-12-16T19:10:13.042004Z",
     "iopub.status.idle": "2021-12-16T19:10:13.060988Z",
     "shell.execute_reply": "2021-12-16T19:10:13.060988Z",
     "shell.execute_reply.started": "2021-12-16T19:10:13.043034Z"
    },
    "tags": []
   },
   "outputs": [
    {
     "data": {
      "text/plain": [
       "'Ipiihkoohkanipiaohtsi Ward'"
      ]
     },
     "execution_count": 58,
     "metadata": {},
     "output_type": "execute_result"
    }
   ],
   "source": [
    "list(ward_dict)[2]"
   ]
  },
  {
   "cell_type": "code",
   "execution_count": 59,
   "id": "f81253c6",
   "metadata": {
    "execution": {
     "iopub.execute_input": "2021-12-16T19:10:13.571324Z",
     "iopub.status.busy": "2021-12-16T19:10:13.570326Z",
     "iopub.status.idle": "2021-12-16T19:10:13.577339Z",
     "shell.execute_reply": "2021-12-16T19:10:13.577339Z",
     "shell.execute_reply.started": "2021-12-16T19:10:13.571324Z"
    },
    "tags": []
   },
   "outputs": [],
   "source": [
    "def nbhd_fill(row):\n",
    "    for index, value in enumerate(ward_dict.values()):\n",
    "        if row['Neighbourhood'] in value:\n",
    "#             print(list(ward_dict)[index])\n",
    "#             print(row['Ward'])\n",
    "            row['Ward'] = list(ward_dict)[index]\n",
    "    return row['Ward']\n"
   ]
  },
  {
   "cell_type": "code",
   "execution_count": 60,
   "id": "ef678ed2",
   "metadata": {
    "execution": {
     "iopub.execute_input": "2021-12-16T19:10:14.091082Z",
     "iopub.status.busy": "2021-12-16T19:10:14.091082Z",
     "iopub.status.idle": "2021-12-16T19:10:14.124995Z",
     "shell.execute_reply": "2021-12-16T19:10:14.124025Z",
     "shell.execute_reply.started": "2021-12-16T19:10:14.091082Z"
    },
    "tags": []
   },
   "outputs": [
    {
     "data": {
      "text/html": [
       "<div>\n",
       "<style scoped>\n",
       "    .dataframe tbody tr th:only-of-type {\n",
       "        vertical-align: middle;\n",
       "    }\n",
       "\n",
       "    .dataframe tbody tr th {\n",
       "        vertical-align: top;\n",
       "    }\n",
       "\n",
       "    .dataframe thead th {\n",
       "        text-align: right;\n",
       "    }\n",
       "</style>\n",
       "<table border=\"1\" class=\"dataframe\">\n",
       "  <thead>\n",
       "    <tr style=\"text-align: right;\">\n",
       "      <th></th>\n",
       "      <th>Account Number</th>\n",
       "      <th>Assessment Year</th>\n",
       "      <th>Suite</th>\n",
       "      <th>House Number</th>\n",
       "      <th>Street Name</th>\n",
       "      <th>Legal Description</th>\n",
       "      <th>Latitude</th>\n",
       "      <th>Longitude</th>\n",
       "      <th>Point Location</th>\n",
       "      <th>Neighbourhood</th>\n",
       "      <th>...</th>\n",
       "      <th>Zoning</th>\n",
       "      <th>Lot Size</th>\n",
       "      <th>Assessed Value</th>\n",
       "      <th>Assessment Class 1</th>\n",
       "      <th>Assessment Class % 1</th>\n",
       "      <th>Assessment Class 2</th>\n",
       "      <th>Assessment Class % 2</th>\n",
       "      <th>Assessment Class 3</th>\n",
       "      <th>Assessment Class % 3</th>\n",
       "      <th>Ward</th>\n",
       "    </tr>\n",
       "  </thead>\n",
       "  <tbody>\n",
       "    <tr>\n",
       "      <th>0</th>\n",
       "      <td>1068451</td>\n",
       "      <td>2015</td>\n",
       "      <td>NaN</td>\n",
       "      <td>4007.000000</td>\n",
       "      <td>SAVARYN DRIVE SW</td>\n",
       "      <td>SW  22-51-24-4</td>\n",
       "      <td>NaN</td>\n",
       "      <td>NaN</td>\n",
       "      <td>NaN</td>\n",
       "      <td>SUMMERSIDE</td>\n",
       "      <td>...</td>\n",
       "      <td>RPL</td>\n",
       "      <td>109314.321000</td>\n",
       "      <td>7597000.000000</td>\n",
       "      <td>RESIDENTIAL</td>\n",
       "      <td>100.000000</td>\n",
       "      <td>NaN</td>\n",
       "      <td>NaN</td>\n",
       "      <td>NaN</td>\n",
       "      <td>NaN</td>\n",
       "      <td>0</td>\n",
       "    </tr>\n",
       "    <tr>\n",
       "      <th>7</th>\n",
       "      <td>1650860</td>\n",
       "      <td>2014</td>\n",
       "      <td>NaN</td>\n",
       "      <td>NaN</td>\n",
       "      <td>NaN</td>\n",
       "      <td>Plan: 3782RS  Block: 1  Lot: 30U</td>\n",
       "      <td>53.515450</td>\n",
       "      <td>-113.616270</td>\n",
       "      <td>POINT (-113.61627 53.51545)</td>\n",
       "      <td>THORNCLIFF</td>\n",
       "      <td>...</td>\n",
       "      <td>RF1</td>\n",
       "      <td>118.072000</td>\n",
       "      <td>0.000000</td>\n",
       "      <td>RESIDENTIAL</td>\n",
       "      <td>100.000000</td>\n",
       "      <td>NaN</td>\n",
       "      <td>NaN</td>\n",
       "      <td>NaN</td>\n",
       "      <td>NaN</td>\n",
       "      <td>0</td>\n",
       "    </tr>\n",
       "    <tr>\n",
       "      <th>9</th>\n",
       "      <td>2914836</td>\n",
       "      <td>2018</td>\n",
       "      <td>NaN</td>\n",
       "      <td>13004.000000</td>\n",
       "      <td>115 AVENUE NW</td>\n",
       "      <td>Plan: 1568HW  Block: 4  Lot: 21</td>\n",
       "      <td>NaN</td>\n",
       "      <td>NaN</td>\n",
       "      <td>NaN</td>\n",
       "      <td>INGLEWOOD</td>\n",
       "      <td>...</td>\n",
       "      <td>RF3</td>\n",
       "      <td>490.277000</td>\n",
       "      <td>358500.000000</td>\n",
       "      <td>RESIDENTIAL</td>\n",
       "      <td>100.000000</td>\n",
       "      <td>NaN</td>\n",
       "      <td>NaN</td>\n",
       "      <td>NaN</td>\n",
       "      <td>NaN</td>\n",
       "      <td>0</td>\n",
       "    </tr>\n",
       "    <tr>\n",
       "      <th>28</th>\n",
       "      <td>9947689</td>\n",
       "      <td>2013</td>\n",
       "      <td>NaN</td>\n",
       "      <td>35.000000</td>\n",
       "      <td>ELSINORE PLACE NW</td>\n",
       "      <td>NE  5-54-24-4</td>\n",
       "      <td>NaN</td>\n",
       "      <td>NaN</td>\n",
       "      <td>NaN</td>\n",
       "      <td>ELSINORE</td>\n",
       "      <td>...</td>\n",
       "      <td>RF1</td>\n",
       "      <td>711.319000</td>\n",
       "      <td>55500.000000</td>\n",
       "      <td>RESIDENTIAL</td>\n",
       "      <td>100.000000</td>\n",
       "      <td>NaN</td>\n",
       "      <td>NaN</td>\n",
       "      <td>NaN</td>\n",
       "      <td>NaN</td>\n",
       "      <td>0</td>\n",
       "    </tr>\n",
       "    <tr>\n",
       "      <th>31</th>\n",
       "      <td>9986349</td>\n",
       "      <td>2016</td>\n",
       "      <td>904</td>\n",
       "      <td>9708.000000</td>\n",
       "      <td>110 STREET NW</td>\n",
       "      <td>Plan: 0024925  Lot: 904</td>\n",
       "      <td>NaN</td>\n",
       "      <td>NaN</td>\n",
       "      <td>NaN</td>\n",
       "      <td>OLIVER</td>\n",
       "      <td>...</td>\n",
       "      <td>RA9</td>\n",
       "      <td>42.810000</td>\n",
       "      <td>616500.000000</td>\n",
       "      <td>RESIDENTIAL</td>\n",
       "      <td>100.000000</td>\n",
       "      <td>NaN</td>\n",
       "      <td>NaN</td>\n",
       "      <td>NaN</td>\n",
       "      <td>NaN</td>\n",
       "      <td>0</td>\n",
       "    </tr>\n",
       "  </tbody>\n",
       "</table>\n",
       "<p>5 rows × 22 columns</p>\n",
       "</div>"
      ],
      "text/plain": [
       "    Account Number  Assessment Year Suite  House Number        Street Name  \\\n",
       "0          1068451             2015   NaN   4007.000000   SAVARYN DRIVE SW   \n",
       "7          1650860             2014   NaN           NaN                NaN   \n",
       "9          2914836             2018   NaN  13004.000000      115 AVENUE NW   \n",
       "28         9947689             2013   NaN     35.000000  ELSINORE PLACE NW   \n",
       "31         9986349             2016   904   9708.000000      110 STREET NW   \n",
       "\n",
       "                   Legal Description  Latitude   Longitude  \\\n",
       "0                     SW  22-51-24-4       NaN         NaN   \n",
       "7   Plan: 3782RS  Block: 1  Lot: 30U 53.515450 -113.616270   \n",
       "9    Plan: 1568HW  Block: 4  Lot: 21       NaN         NaN   \n",
       "28                     NE  5-54-24-4       NaN         NaN   \n",
       "31           Plan: 0024925  Lot: 904       NaN         NaN   \n",
       "\n",
       "                 Point Location Neighbourhood  ...  Zoning      Lot Size  \\\n",
       "0                           NaN    SUMMERSIDE  ...     RPL 109314.321000   \n",
       "7   POINT (-113.61627 53.51545)    THORNCLIFF  ...     RF1    118.072000   \n",
       "9                           NaN     INGLEWOOD  ...     RF3    490.277000   \n",
       "28                          NaN      ELSINORE  ...     RF1    711.319000   \n",
       "31                          NaN        OLIVER  ...     RA9     42.810000   \n",
       "\n",
       "   Assessed Value  Assessment Class 1  Assessment Class % 1  \\\n",
       "0  7597000.000000         RESIDENTIAL            100.000000   \n",
       "7        0.000000         RESIDENTIAL            100.000000   \n",
       "9   358500.000000         RESIDENTIAL            100.000000   \n",
       "28   55500.000000         RESIDENTIAL            100.000000   \n",
       "31  616500.000000         RESIDENTIAL            100.000000   \n",
       "\n",
       "   Assessment Class 2  Assessment Class % 2 Assessment Class 3  \\\n",
       "0                 NaN                   NaN                NaN   \n",
       "7                 NaN                   NaN                NaN   \n",
       "9                 NaN                   NaN                NaN   \n",
       "28                NaN                   NaN                NaN   \n",
       "31                NaN                   NaN                NaN   \n",
       "\n",
       "    Assessment Class % 3 Ward  \n",
       "0                    NaN    0  \n",
       "7                    NaN    0  \n",
       "9                    NaN    0  \n",
       "28                   NaN    0  \n",
       "31                   NaN    0  \n",
       "\n",
       "[5 rows x 22 columns]"
      ]
     },
     "execution_count": 60,
     "metadata": {},
     "output_type": "execute_result"
    }
   ],
   "source": [
    "resi_house_data['Ward'] = 0\n",
    "resi_house_data.head()"
   ]
  },
  {
   "cell_type": "code",
   "execution_count": 61,
   "id": "ffbcfe45",
   "metadata": {
    "execution": {
     "iopub.execute_input": "2021-12-16T19:10:14.339275Z",
     "iopub.status.busy": "2021-12-16T19:10:14.339275Z",
     "iopub.status.idle": "2021-12-16T19:10:14.359262Z",
     "shell.execute_reply": "2021-12-16T19:10:14.358224Z",
     "shell.execute_reply.started": "2021-12-16T19:10:14.339275Z"
    },
    "tags": []
   },
   "outputs": [
    {
     "data": {
      "text/plain": [
       "'Karhiio Ward'"
      ]
     },
     "execution_count": 61,
     "metadata": {},
     "output_type": "execute_result"
    }
   ],
   "source": [
    "nbhd_fill(resi_house_data.iloc[0,:])"
   ]
  },
  {
   "cell_type": "code",
   "execution_count": 62,
   "id": "a99b6579",
   "metadata": {
    "execution": {
     "iopub.execute_input": "2021-12-16T19:10:14.553394Z",
     "iopub.status.busy": "2021-12-16T19:10:14.553394Z",
     "iopub.status.idle": "2021-12-16T19:10:14.670638Z",
     "shell.execute_reply": "2021-12-16T19:10:14.670638Z",
     "shell.execute_reply.started": "2021-12-16T19:10:14.553394Z"
    },
    "tags": []
   },
   "outputs": [
    {
     "data": {
      "text/plain": [
       "1"
      ]
     },
     "execution_count": 62,
     "metadata": {},
     "output_type": "execute_result"
    }
   ],
   "source": [
    "resi_house_data['Ward'].iloc[0,:] = 1\n",
    "resi_house_data.iloc[0,:]['Ward']"
   ]
  },
  {
   "cell_type": "code",
   "execution_count": 63,
   "id": "c5f970e4",
   "metadata": {
    "execution": {
     "iopub.execute_input": "2021-12-16T19:10:14.745851Z",
     "iopub.status.busy": "2021-12-16T19:10:14.745851Z",
     "iopub.status.idle": "2021-12-16T19:12:35.378926Z",
     "shell.execute_reply": "2021-12-16T19:12:35.378926Z",
     "shell.execute_reply.started": "2021-12-16T19:10:14.745851Z"
    },
    "tags": []
   },
   "outputs": [],
   "source": [
    "resi_house_data['Ward'] = 0\n",
    "resi_house_data['Ward'] = resi_house_data.apply(nbhd_fill, axis=1)"
   ]
  },
  {
   "cell_type": "code",
   "execution_count": 64,
   "id": "ca2bdcf0",
   "metadata": {
    "execution": {
     "iopub.execute_input": "2021-12-16T19:12:35.379893Z",
     "iopub.status.busy": "2021-12-16T19:12:35.379893Z",
     "iopub.status.idle": "2021-12-16T19:12:35.505556Z",
     "shell.execute_reply": "2021-12-16T19:12:35.504559Z",
     "shell.execute_reply.started": "2021-12-16T19:12:35.379893Z"
    },
    "tags": []
   },
   "outputs": [
    {
     "data": {
      "text/plain": [
       "sipiwiyiniwak Ward            279108\n",
       "Métis Ward                    274111\n",
       "Karhiio Ward                  250054\n",
       "Dene Ward                     240803\n",
       "pihêsiwin Ward                237685\n",
       "tastawiyiniwak Ward           236415\n",
       "Anirniq Ward                  233687\n",
       "Nakota Isga Ward              229640\n",
       "Ipiihkoohkanipiaohtsi Ward    227090\n",
       "papastew Ward                 214709\n",
       "Sspomitapi Ward               208765\n",
       "O-day'min Ward                136274\n",
       "0                              20679\n",
       "Name: Ward, dtype: int64"
      ]
     },
     "execution_count": 64,
     "metadata": {},
     "output_type": "execute_result"
    }
   ],
   "source": [
    "resi_house_data['Ward'].value_counts()"
   ]
  },
  {
   "cell_type": "markdown",
   "id": "784cca98",
   "metadata": {},
   "source": [
    "Still some missing wards in the ward column, lets check out"
   ]
  },
  {
   "cell_type": "code",
   "execution_count": 65,
   "id": "3fa2d92a",
   "metadata": {
    "execution": {
     "iopub.execute_input": "2021-12-16T19:12:35.507551Z",
     "iopub.status.busy": "2021-12-16T19:12:35.506554Z",
     "iopub.status.idle": "2021-12-16T19:12:36.003572Z",
     "shell.execute_reply": "2021-12-16T19:12:36.002792Z",
     "shell.execute_reply.started": "2021-12-16T19:12:35.506554Z"
    },
    "tags": []
   },
   "outputs": [],
   "source": [
    "no_ward_mask = resi_house_data[resi_house_data['Ward'] == 0]"
   ]
  },
  {
   "cell_type": "code",
   "execution_count": 66,
   "id": "b8c6094c",
   "metadata": {
    "execution": {
     "iopub.execute_input": "2021-12-16T19:12:36.004530Z",
     "iopub.status.busy": "2021-12-16T19:12:36.004530Z",
     "iopub.status.idle": "2021-12-16T19:12:36.019493Z",
     "shell.execute_reply": "2021-12-16T19:12:36.018494Z",
     "shell.execute_reply.started": "2021-12-16T19:12:36.004530Z"
    },
    "tags": []
   },
   "outputs": [
    {
     "data": {
      "text/plain": [
       "['SOUTHEAST (ANNEXED) INDUSTRIAL',\n",
       " 'RURAL WEST',\n",
       " 'RURAL SOUTH EAST',\n",
       " 'GLENRIDDING AREA',\n",
       " 'MAGRATH HEIGHTS AREA',\n",
       " 'RURAL NORTH EAST NORTH STURGEON',\n",
       " 'RAPPERSWIL',\n",
       " 'RURAL WEST BIG LAKE',\n",
       " 'RURAL WEST LEWIS FARMS',\n",
       " 'WESTBROOK ESTATE',\n",
       " 'TERWILLEGAR SOUTH',\n",
       " 'MACTAGGART AREA',\n",
       " 'PILOT SOUND AREA WEST PORTION',\n",
       " 'CRYSTALLINA NERA']"
      ]
     },
     "execution_count": 66,
     "metadata": {},
     "output_type": "execute_result"
    }
   ],
   "source": [
    "no_wards_list = no_ward_mask['Neighbourhood'].unique().tolist()\n",
    "no_wards_list"
   ]
  },
  {
   "cell_type": "markdown",
   "id": "62ff7aec",
   "metadata": {},
   "source": [
    "Rapperswil should be in Anirniq Ward?"
   ]
  },
  {
   "cell_type": "code",
   "execution_count": 67,
   "id": "c8fa4174",
   "metadata": {
    "execution": {
     "iopub.execute_input": "2021-12-16T19:12:36.021485Z",
     "iopub.status.busy": "2021-12-16T19:12:36.020488Z",
     "iopub.status.idle": "2021-12-16T19:12:36.035449Z",
     "shell.execute_reply": "2021-12-16T19:12:36.033467Z",
     "shell.execute_reply.started": "2021-12-16T19:12:36.020488Z"
    },
    "tags": []
   },
   "outputs": [
    {
     "data": {
      "text/plain": [
       "['HAGMANN ESTATE INDUSTRIAL',\n",
       " 'GAGNON ESTATE INDUSTRIAL',\n",
       " 'MISTATIM INDUSTRIAL',\n",
       " 'DUNLUCE',\n",
       " 'LAUDERDALE',\n",
       " 'CARLISLE',\n",
       " 'PRINCE CHARLES',\n",
       " 'MITCHELL INDUSTRIAL',\n",
       " 'DOVERCOURT',\n",
       " 'GOODRIDGE CORNERS',\n",
       " 'INGLEWOOD',\n",
       " 'CARLTON',\n",
       " 'ROSSLYN',\n",
       " 'RAMPART INDUSTRIAL',\n",
       " 'HIGH PARK INDUSTRIAL',\n",
       " 'ANTHONY HENDAY MISTATIM',\n",
       " 'CALDER',\n",
       " 'GARSIDE INDUSTRIAL',\n",
       " 'CUMBERLAND',\n",
       " 'ANTHONY HENDAY RAMPART',\n",
       " 'PEMBINA',\n",
       " 'KENSINGTON',\n",
       " 'HUFF BREMNER ESTATE INDUSTRIAL',\n",
       " 'CANOSSA',\n",
       " 'RAPPERSWILL',\n",
       " 'WOODCROFT',\n",
       " 'BONAVENTURE INDUSTRIAL',\n",
       " 'BROWN INDUSTRIAL',\n",
       " 'ATHLONE',\n",
       " 'YELLOWHEAD CORRIDOR WEST',\n",
       " 'BARANOW',\n",
       " 'SHERBROOKE',\n",
       " 'DOMINION INDUSTRIAL',\n",
       " 'WELLINGTON',\n",
       " 'MCARTHUR INDUSTRIAL',\n",
       " 'ALBANY',\n",
       " 'CAERNARVON',\n",
       " 'OXFORD',\n",
       " 'GRIESBACH',\n",
       " 'HUDSON']"
      ]
     },
     "execution_count": 67,
     "metadata": {},
     "output_type": "execute_result"
    }
   ],
   "source": [
    "ward_dict['Anirniq Ward']"
   ]
  },
  {
   "cell_type": "markdown",
   "id": "f8a2d930",
   "metadata": {},
   "source": [
    "Rapperswil is misspelt, should be Rapperswill. This continues with other neighbourhoods as well, many neighbourhoods have word \"area\" with it, causing the dictionary map to not work. Lets continue cleaning."
   ]
  },
  {
   "cell_type": "code",
   "execution_count": 68,
   "id": "f69e2759",
   "metadata": {
    "execution": {
     "iopub.execute_input": "2021-12-16T19:12:36.040437Z",
     "iopub.status.busy": "2021-12-16T19:12:36.039441Z",
     "iopub.status.idle": "2021-12-16T19:12:36.283832Z",
     "shell.execute_reply": "2021-12-16T19:12:36.283832Z",
     "shell.execute_reply.started": "2021-12-16T19:12:36.040437Z"
    },
    "tags": []
   },
   "outputs": [],
   "source": [
    "resi_house_data['Neighbourhood'].replace('RAPPERSWIL', 'RAPPERSWILL', inplace=True)\n",
    "resi_house_data[resi_house_data['Neighbourhood'] == 'RAPPERSWIL']\n",
    "no_wards_list.remove('RAPPERSWIL')"
   ]
  },
  {
   "cell_type": "code",
   "execution_count": 69,
   "id": "1bd3f1e3",
   "metadata": {
    "execution": {
     "iopub.execute_input": "2021-12-16T19:12:36.285779Z",
     "iopub.status.busy": "2021-12-16T19:12:36.285779Z",
     "iopub.status.idle": "2021-12-16T19:12:36.299742Z",
     "shell.execute_reply": "2021-12-16T19:12:36.299742Z",
     "shell.execute_reply.started": "2021-12-16T19:12:36.285779Z"
    },
    "tags": []
   },
   "outputs": [
    {
     "data": {
      "text/plain": [
       "['CRYSTALLINA NERA',\n",
       " 'GLENRIDDING AREA',\n",
       " 'MACTAGGART AREA',\n",
       " 'MAGRATH HEIGHTS AREA',\n",
       " 'PILOT SOUND AREA WEST PORTION',\n",
       " 'RURAL NORTH EAST NORTH STURGEON',\n",
       " 'RURAL SOUTH EAST',\n",
       " 'RURAL WEST',\n",
       " 'RURAL WEST BIG LAKE',\n",
       " 'RURAL WEST LEWIS FARMS',\n",
       " 'SOUTHEAST (ANNEXED) INDUSTRIAL',\n",
       " 'TERWILLEGAR SOUTH',\n",
       " 'WESTBROOK ESTATE']"
      ]
     },
     "execution_count": 69,
     "metadata": {},
     "output_type": "execute_result"
    }
   ],
   "source": [
    "no_wards_list.sort()\n",
    "no_wards_list"
   ]
  },
  {
   "cell_type": "markdown",
   "id": "441d7f73",
   "metadata": {},
   "source": [
    "- 'CRYSTALLINA NERA' belongs in tastawiyiniwak,\n",
    "- 'GLENRIDDING AREA' belongs in pihêsiwin,\n",
    "- 'MACTAGGART AREA' belongs in pihêsiwin,\n",
    "- 'MAGRATH HEIGHTS AREA' belongs in pihêsiwin,\n",
    "- 'PILOT SOUND AREA WEST PORTION' belongs in Dene,\n",
    "- 'RURAL NORTH EAST NORTH STURGEON' belongs in Dene,\n",
    "- 'RURAL SOUTH EAST' belongs in Sspomitapi,\n",
    "- 'RURAL WEST' belongs in sipiwiyiniwak,\n",
    "- 'RURAL WEST BIG LAKE' belongs in Nakota Isga,\n",
    "- 'RURAL WEST LEWIS FARMS' belongs in Nakota Isga,\n",
    "- 'SOUTHEAST (ANNEXED) INDUSTRIAL' belongs in Sspomitapi,\n",
    "- 'TERWILLEGAR SOUTH' should be 'SOUTH TERWILLEGAR',\n",
    "- 'WESTBROOK ESTATE' should be 'WESTBROOK ESTATES'\n"
   ]
  },
  {
   "cell_type": "code",
   "execution_count": 74,
   "id": "c9140774",
   "metadata": {
    "execution": {
     "iopub.execute_input": "2021-12-16T21:21:13.327957Z",
     "iopub.status.busy": "2021-12-16T21:21:13.325960Z",
     "iopub.status.idle": "2021-12-16T21:21:13.347919Z",
     "shell.execute_reply": "2021-12-16T21:21:13.346904Z",
     "shell.execute_reply.started": "2021-12-16T21:21:13.327957Z"
    },
    "tags": []
   },
   "outputs": [],
   "source": [
    "def ward_assign(neigh_name, ward_name):\n",
    "    resi_house_data['Ward'].loc[resi_house_data['Neighbourhood'] == neigh_name] = ward_name"
   ]
  },
  {
   "cell_type": "code",
   "execution_count": 75,
   "id": "ea44f418",
   "metadata": {
    "execution": {
     "iopub.execute_input": "2021-12-16T21:21:13.483540Z",
     "iopub.status.busy": "2021-12-16T21:21:13.483540Z",
     "iopub.status.idle": "2021-12-16T21:21:13.502489Z",
     "shell.execute_reply": "2021-12-16T21:21:13.502489Z",
     "shell.execute_reply.started": "2021-12-16T21:21:13.483540Z"
    },
    "tags": []
   },
   "outputs": [],
   "source": [
    "def rename_neigh(incorrect_name, replace_name):\n",
    "    resi_house_data['Neighbourhood'].replace(incorrect_name, replace_name, inplace=True)\n",
    "    no_wards_list.remove(incorrect_name)"
   ]
  },
  {
   "cell_type": "code",
   "execution_count": 76,
   "id": "5b8c8633",
   "metadata": {
    "execution": {
     "iopub.execute_input": "2021-12-16T21:22:05.678389Z",
     "iopub.status.busy": "2021-12-16T21:22:05.678389Z",
     "iopub.status.idle": "2021-12-16T21:22:07.832629Z",
     "shell.execute_reply": "2021-12-16T21:22:07.831631Z",
     "shell.execute_reply.started": "2021-12-16T21:22:05.678389Z"
    },
    "tags": []
   },
   "outputs": [],
   "source": [
    "ward_assign('CRYSTALLINA NERA', 'tastawiyiniwak')\n",
    "ward_assign('GLENRIDDING AREA', 'pihêsiwin')\n",
    "ward_assign('MACTAGGART AREA', 'pihêsiwin')\n",
    "ward_assign('MAGRATH HEIGHTS AREA', 'pihêsiwin')\n",
    "ward_assign('PILOT SOUND AREA WEST PORTION', 'Dene')\n",
    "ward_assign('RURAL NORTH EAST NORTH STURGEON', 'Dene')\n",
    "ward_assign('RURAL SOUTH EAST', 'Sspomitapi')\n",
    "ward_assign('RURAL WEST', 'sipiwiyiniwak')\n",
    "ward_assign('RURAL WEST BIG LAKE', 'Nakota Isga')\n",
    "ward_assign('RURAL WEST LEWIS FARMS', 'Nakota Isga')\n",
    "ward_assign('SOUTHEAST (ANNEXED) INDUSTRIAL', 'Sspomitapi')"
   ]
  },
  {
   "cell_type": "code",
   "execution_count": 77,
   "id": "8791d582",
   "metadata": {
    "execution": {
     "iopub.execute_input": "2021-12-16T21:22:07.834625Z",
     "iopub.status.busy": "2021-12-16T21:22:07.833625Z",
     "iopub.status.idle": "2021-12-16T21:22:07.958292Z",
     "shell.execute_reply": "2021-12-16T21:22:07.957298Z",
     "shell.execute_reply.started": "2021-12-16T21:22:07.834625Z"
    },
    "tags": []
   },
   "outputs": [],
   "source": [
    "rename_neigh('TERWILLEGAR SOUTH', 'SOUTH TERWILLEGAR')\n",
    "rename_neigh('WESTBROOK ESTATE', 'WESTBROOK ESTATES')"
   ]
  },
  {
   "cell_type": "code",
   "execution_count": 78,
   "id": "32063119",
   "metadata": {
    "execution": {
     "iopub.execute_input": "2021-12-16T21:22:07.959289Z",
     "iopub.status.busy": "2021-12-16T21:22:07.958292Z",
     "iopub.status.idle": "2021-12-16T21:25:09.316369Z",
     "shell.execute_reply": "2021-12-16T21:25:09.315372Z",
     "shell.execute_reply.started": "2021-12-16T21:22:07.959289Z"
    },
    "tags": []
   },
   "outputs": [],
   "source": [
    "resi_house_data['Ward'] = resi_house_data.apply(nbhd_fill, axis=1)"
   ]
  },
  {
   "cell_type": "markdown",
   "id": "5f32eab2",
   "metadata": {},
   "source": [
    "Check to see if all Wards are now labelled"
   ]
  },
  {
   "cell_type": "code",
   "execution_count": 79,
   "id": "8ab40c65",
   "metadata": {
    "execution": {
     "iopub.execute_input": "2021-12-16T21:25:09.317367Z",
     "iopub.status.busy": "2021-12-16T21:25:09.317367Z",
     "iopub.status.idle": "2021-12-16T21:25:09.519827Z",
     "shell.execute_reply": "2021-12-16T21:25:09.518828Z",
     "shell.execute_reply.started": "2021-12-16T21:25:09.317367Z"
    },
    "tags": []
   },
   "outputs": [
    {
     "data": {
      "text/html": [
       "<div>\n",
       "<style scoped>\n",
       "    .dataframe tbody tr th:only-of-type {\n",
       "        vertical-align: middle;\n",
       "    }\n",
       "\n",
       "    .dataframe tbody tr th {\n",
       "        vertical-align: top;\n",
       "    }\n",
       "\n",
       "    .dataframe thead th {\n",
       "        text-align: right;\n",
       "    }\n",
       "</style>\n",
       "<table border=\"1\" class=\"dataframe\">\n",
       "  <thead>\n",
       "    <tr style=\"text-align: right;\">\n",
       "      <th></th>\n",
       "      <th>Account Number</th>\n",
       "      <th>Assessment Year</th>\n",
       "      <th>Suite</th>\n",
       "      <th>House Number</th>\n",
       "      <th>Street Name</th>\n",
       "      <th>Legal Description</th>\n",
       "      <th>Latitude</th>\n",
       "      <th>Longitude</th>\n",
       "      <th>Point Location</th>\n",
       "      <th>Neighbourhood</th>\n",
       "      <th>...</th>\n",
       "      <th>Zoning</th>\n",
       "      <th>Lot Size</th>\n",
       "      <th>Assessed Value</th>\n",
       "      <th>Assessment Class 1</th>\n",
       "      <th>Assessment Class % 1</th>\n",
       "      <th>Assessment Class 2</th>\n",
       "      <th>Assessment Class % 2</th>\n",
       "      <th>Assessment Class 3</th>\n",
       "      <th>Assessment Class % 3</th>\n",
       "      <th>Ward</th>\n",
       "    </tr>\n",
       "  </thead>\n",
       "  <tbody>\n",
       "  </tbody>\n",
       "</table>\n",
       "<p>0 rows × 22 columns</p>\n",
       "</div>"
      ],
      "text/plain": [
       "Empty DataFrame\n",
       "Columns: [Account Number, Assessment Year, Suite, House Number, Street Name, Legal Description, Latitude, Longitude, Point Location, Neighbourhood, Actual Year Built, Garage, Zoning, Lot Size, Assessed Value, Assessment Class 1, Assessment Class % 1, Assessment Class 2, Assessment Class % 2, Assessment Class 3, Assessment Class % 3, Ward]\n",
       "Index: []\n",
       "\n",
       "[0 rows x 22 columns]"
      ]
     },
     "execution_count": 79,
     "metadata": {},
     "output_type": "execute_result"
    }
   ],
   "source": [
    "no_ward_mask = resi_house_data[resi_house_data['Ward'] == 0]\n",
    "no_ward_mask"
   ]
  },
  {
   "cell_type": "markdown",
   "id": "56f24108",
   "metadata": {},
   "source": [
    "Wards are now all labelled!"
   ]
  },
  {
   "cell_type": "markdown",
   "id": "14cb9202",
   "metadata": {},
   "source": [
    "## Year to Year Stats"
   ]
  },
  {
   "cell_type": "code",
   "execution_count": 80,
   "id": "55dd6434",
   "metadata": {
    "execution": {
     "iopub.execute_input": "2021-12-16T23:21:31.891399Z",
     "iopub.status.busy": "2021-12-16T23:21:31.889405Z",
     "iopub.status.idle": "2021-12-16T23:21:31.956228Z",
     "shell.execute_reply": "2021-12-16T23:21:31.955261Z",
     "shell.execute_reply.started": "2021-12-16T23:21:31.891399Z"
    },
    "tags": []
   },
   "outputs": [
    {
     "data": {
      "text/plain": [
       "array([2015, 2014, 2018, 2013, 2016, 2020, 2019, 2012, 2017], dtype=int64)"
      ]
     },
     "execution_count": 80,
     "metadata": {},
     "output_type": "execute_result"
    }
   ],
   "source": [
    "resi_house_data['Assessment Year'].unique()"
   ]
  },
  {
   "cell_type": "markdown",
   "id": "cd017dc7",
   "metadata": {},
   "source": [
    "Assessment years range from 2012-2020"
   ]
  },
  {
   "cell_type": "code",
   "execution_count": 81,
   "id": "5da92bff",
   "metadata": {
    "execution": {
     "iopub.execute_input": "2021-12-16T23:21:32.676053Z",
     "iopub.status.busy": "2021-12-16T23:21:32.676053Z",
     "iopub.status.idle": "2021-12-16T23:21:32.704980Z",
     "shell.execute_reply": "2021-12-16T23:21:32.704980Z",
     "shell.execute_reply.started": "2021-12-16T23:21:32.676053Z"
    },
    "tags": []
   },
   "outputs": [],
   "source": [
    "year_list = resi_house_data['Assessment Year'].unique()\n",
    "year_list = np.sort(year_list)"
   ]
  },
  {
   "cell_type": "code",
   "execution_count": 82,
   "id": "c48d0d42",
   "metadata": {
    "execution": {
     "iopub.execute_input": "2021-12-16T23:21:32.932380Z",
     "iopub.status.busy": "2021-12-16T23:21:32.932380Z",
     "iopub.status.idle": "2021-12-16T23:21:32.942353Z",
     "shell.execute_reply": "2021-12-16T23:21:32.941357Z",
     "shell.execute_reply.started": "2021-12-16T23:21:32.932380Z"
    },
    "tags": []
   },
   "outputs": [],
   "source": [
    "def stat_per_year(df, stat_column_name, year_list):\n",
    "    stat_avg_list = []\n",
    "    for year in year_list:\n",
    "        year_mask = df[df['Assessment Year'] == year]\n",
    "        stat_avg = year_mask[stat_column_name].mean()\n",
    "        stat_avg_list.append(stat_avg)\n",
    "    return stat_avg_list"
   ]
  },
  {
   "cell_type": "code",
   "execution_count": 83,
   "id": "91b232ec",
   "metadata": {
    "execution": {
     "iopub.execute_input": "2021-12-16T23:21:33.154504Z",
     "iopub.status.busy": "2021-12-16T23:21:33.154504Z",
     "iopub.status.idle": "2021-12-16T23:21:34.561742Z",
     "shell.execute_reply": "2021-12-16T23:21:34.561742Z",
     "shell.execute_reply.started": "2021-12-16T23:21:33.154504Z"
    },
    "tags": []
   },
   "outputs": [
    {
     "data": {
      "text/plain": [
       "[309072.28556534165,\n",
       " 314435.5639989572,\n",
       " 321679.597857046,\n",
       " 341719.0726213745,\n",
       " 343322.4543740693,\n",
       " 333987.13686904206,\n",
       " 335046.86161994474,\n",
       " 336319.71673962765,\n",
       " 327185.39813084115]"
      ]
     },
     "execution_count": 83,
     "metadata": {},
     "output_type": "execute_result"
    }
   ],
   "source": [
    "stat_per_year(resi_house_data, 'Assessed Value', year_list)"
   ]
  },
  {
   "cell_type": "code",
   "execution_count": 84,
   "id": "43c8f85a",
   "metadata": {
    "execution": {
     "iopub.execute_input": "2021-12-16T23:21:34.563738Z",
     "iopub.status.busy": "2021-12-16T23:21:34.562739Z",
     "iopub.status.idle": "2021-12-16T23:21:35.641853Z",
     "shell.execute_reply": "2021-12-16T23:21:35.641853Z",
     "shell.execute_reply.started": "2021-12-16T23:21:34.562739Z"
    },
    "tags": []
   },
   "outputs": [
    {
     "data": {
      "text/plain": [
       "[460.3643580211586,\n",
       " 466.4123529714935,\n",
       " 458.8552441390885,\n",
       " 453.4271067433197,\n",
       " 444.70250493995763,\n",
       " 434.94641222895865,\n",
       " 422.4149511222105,\n",
       " 418.2535633633762,\n",
       " 417.0301492363364]"
      ]
     },
     "execution_count": 84,
     "metadata": {},
     "output_type": "execute_result"
    }
   ],
   "source": [
    "stat_per_year(resi_house_data, 'Lot Size', year_list)"
   ]
  },
  {
   "cell_type": "code",
   "execution_count": null,
   "id": "7164e220-d138-47dd-a04a-0773bf2a15ae",
   "metadata": {},
   "outputs": [],
   "source": []
  }
 ],
 "metadata": {
  "kernelspec": {
   "display_name": "prop_env",
   "language": "python",
   "name": "prop_env"
  },
  "language_info": {
   "codemirror_mode": {
    "name": "ipython",
    "version": 3
   },
   "file_extension": ".py",
   "mimetype": "text/x-python",
   "name": "python",
   "nbconvert_exporter": "python",
   "pygments_lexer": "ipython3",
   "version": "3.8.10"
  }
 },
 "nbformat": 4,
 "nbformat_minor": 5
}
